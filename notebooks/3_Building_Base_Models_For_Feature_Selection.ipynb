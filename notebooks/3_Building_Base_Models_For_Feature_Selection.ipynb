{
 "cells": [
  {
   "cell_type": "markdown",
   "metadata": {},
   "source": [
    "## Summary\n",
    "\n",
    "### We first undertake feature selection:\n",
    "- __Tree and Linear models were fit to assess importance of variables__\n",
    "    - It is quite erratic for the tree based models, the clear favourite is `age_corr` \n",
    "    - The rest is not consistently. I tried with various upsampling.csv files. \n",
    "- __Asssess how KNN, SVM and Logistic Regression will perform__ \n",
    "\n",
    "### Fitting the Model:\n",
    "- __stratifiedCV with 5 folds was used.__\n",
    "- __XBG, RF and ET appear to be consistent best performers__\n",
    "- __Lasso, OLS and Ridge appear to be consistent, although performing worse.__\n",
    "\n",
    "### Checking ROC-AUC\n",
    "- __generally good, and so is the precision-recall curve.__\n",
    "- __my main concern is overfitting, given my recent submissions.__\n",
    "\n",
    "### Next Steps\n",
    "    \n",
    "- __I tried used only the base features one-hot encoded but it turned out alot worse__\n",
    "- __We also need to know which upsampling dataset is better. I believe it is \\#2, which is the one with smoker_status set to \"active\" for all null values__"
   ]
  },
  {
   "cell_type": "code",
   "execution_count": 1,
   "metadata": {},
   "outputs": [
    {
     "name": "stderr",
     "output_type": "stream",
     "text": [
      "/usr/local/lib/python3.7/site-packages/sklearn/externals/joblib/__init__.py:15: DeprecationWarning: sklearn.externals.joblib is deprecated in 0.21 and will be removed in 0.23. Please import this functionality directly from joblib, which can be installed with: pip install joblib. If this warning is raised when loading pickled models, you may need to re-serialize those models with scikit-learn 0.21+.\n",
      "  warnings.warn(msg, category=DeprecationWarning)\n"
     ]
    }
   ],
   "source": [
    "import pandas as pd\n",
    "import numpy as np\n",
    "\n",
    "import seaborn as sns\n",
    "import matplotlib.pyplot as plt\n",
    "\n",
    "# Tree Based Models\n",
    "\n",
    "from operator import itemgetter\n",
    "from sklearn.tree import DecisionTreeRegressor\n",
    "from sklearn.ensemble import RandomForestRegressor, AdaBoostRegressor, GradientBoostingRegressor, ExtraTreesRegressor\n",
    "from xgboost import XGBRegressor\n",
    "\n",
    "# Linear Regression Based Models\n",
    "\n",
    "from sklearn.linear_model import ElasticNet, HuberRegressor, LinearRegression, Ridge, Lasso, SGDRegressor, PassiveAggressiveRegressor\n",
    "\n",
    "# Other types\n",
    "\n",
    "from sklearn.neighbors import KNeighborsClassifier\n",
    "from sklearn import svm\n",
    "from sklearn.linear_model import LogisticRegression\n",
    "\n",
    "# Metrics\n",
    "\n",
    "from sklearn import preprocessing\n",
    "from sklearn.model_selection import cross_val_score\n",
    "from sklearn.model_selection import StratifiedKFold\n",
    "from sklearn.metrics import roc_auc_score\n",
    "from sklearn.metrics import classification_report\n",
    "from sklearn.model_selection import train_test_split\n",
    "\n",
    "# Parallel\n",
    "\n",
    "from dask.distributed import Client\n",
    "from sklearn.externals.joblib import parallel_backend\n",
    "from dask_ml.model_selection import GridSearchCV\n",
    "\n",
    "# Helper functions\n",
    "\n",
    "from feature_selection_helper import norm_cols \n",
    "\n",
    "import warnings\n",
    "warnings.filterwarnings(\"ignore\")\n",
    "\n",
    "%matplotlib inline"
   ]
  },
  {
   "cell_type": "code",
   "execution_count": 2,
   "metadata": {},
   "outputs": [
    {
     "data": {
      "text/html": [
       "<div>\n",
       "<style scoped>\n",
       "    .dataframe tbody tr th:only-of-type {\n",
       "        vertical-align: middle;\n",
       "    }\n",
       "\n",
       "    .dataframe tbody tr th {\n",
       "        vertical-align: top;\n",
       "    }\n",
       "\n",
       "    .dataframe thead th {\n",
       "        text-align: right;\n",
       "    }\n",
       "</style>\n",
       "<table border=\"1\" class=\"dataframe\">\n",
       "  <thead>\n",
       "    <tr style=\"text-align: right;\">\n",
       "      <th></th>\n",
       "      <th>stroke_in_2018</th>\n",
       "      <th>average_blood_sugar</th>\n",
       "      <th>BMI</th>\n",
       "      <th>age_corr</th>\n",
       "      <th>high_BP_0</th>\n",
       "      <th>high_BP_1</th>\n",
       "      <th>smoker_status_active_smoker</th>\n",
       "      <th>smoker_status_non_smoker</th>\n",
       "      <th>smoker_status_quit</th>\n",
       "      <th>married_0</th>\n",
       "      <th>...</th>\n",
       "      <th>very_high_BMI</th>\n",
       "      <th>child</th>\n",
       "      <th>adult</th>\n",
       "      <th>senior</th>\n",
       "      <th>elderly</th>\n",
       "      <th>low_sugar</th>\n",
       "      <th>medium_sugar</th>\n",
       "      <th>high_sugar</th>\n",
       "      <th>very_high_sugar</th>\n",
       "      <th>has_smoked</th>\n",
       "    </tr>\n",
       "  </thead>\n",
       "  <tbody>\n",
       "    <tr>\n",
       "      <th>0</th>\n",
       "      <td>0</td>\n",
       "      <td>71.67</td>\n",
       "      <td>36.6</td>\n",
       "      <td>61.0</td>\n",
       "      <td>0.0</td>\n",
       "      <td>1.0</td>\n",
       "      <td>0.0</td>\n",
       "      <td>1.0</td>\n",
       "      <td>0.0</td>\n",
       "      <td>0.0</td>\n",
       "      <td>...</td>\n",
       "      <td>1.0</td>\n",
       "      <td>0.0</td>\n",
       "      <td>0.0</td>\n",
       "      <td>1.0</td>\n",
       "      <td>0.0</td>\n",
       "      <td>1.0</td>\n",
       "      <td>0.0</td>\n",
       "      <td>0.0</td>\n",
       "      <td>0.0</td>\n",
       "      <td>0.0</td>\n",
       "    </tr>\n",
       "    <tr>\n",
       "      <th>1</th>\n",
       "      <td>0</td>\n",
       "      <td>107.95</td>\n",
       "      <td>30.4</td>\n",
       "      <td>30.0</td>\n",
       "      <td>1.0</td>\n",
       "      <td>0.0</td>\n",
       "      <td>0.0</td>\n",
       "      <td>0.0</td>\n",
       "      <td>1.0</td>\n",
       "      <td>1.0</td>\n",
       "      <td>...</td>\n",
       "      <td>1.0</td>\n",
       "      <td>0.0</td>\n",
       "      <td>1.0</td>\n",
       "      <td>0.0</td>\n",
       "      <td>0.0</td>\n",
       "      <td>0.0</td>\n",
       "      <td>1.0</td>\n",
       "      <td>0.0</td>\n",
       "      <td>0.0</td>\n",
       "      <td>0.0</td>\n",
       "    </tr>\n",
       "    <tr>\n",
       "      <th>2</th>\n",
       "      <td>0</td>\n",
       "      <td>76.49</td>\n",
       "      <td>42.1</td>\n",
       "      <td>51.0</td>\n",
       "      <td>0.0</td>\n",
       "      <td>1.0</td>\n",
       "      <td>1.0</td>\n",
       "      <td>0.0</td>\n",
       "      <td>0.0</td>\n",
       "      <td>0.0</td>\n",
       "      <td>...</td>\n",
       "      <td>1.0</td>\n",
       "      <td>0.0</td>\n",
       "      <td>0.0</td>\n",
       "      <td>1.0</td>\n",
       "      <td>0.0</td>\n",
       "      <td>1.0</td>\n",
       "      <td>0.0</td>\n",
       "      <td>0.0</td>\n",
       "      <td>0.0</td>\n",
       "      <td>0.0</td>\n",
       "    </tr>\n",
       "    <tr>\n",
       "      <th>3</th>\n",
       "      <td>0</td>\n",
       "      <td>113.98</td>\n",
       "      <td>57.3</td>\n",
       "      <td>54.0</td>\n",
       "      <td>1.0</td>\n",
       "      <td>0.0</td>\n",
       "      <td>0.0</td>\n",
       "      <td>0.0</td>\n",
       "      <td>1.0</td>\n",
       "      <td>0.0</td>\n",
       "      <td>...</td>\n",
       "      <td>1.0</td>\n",
       "      <td>0.0</td>\n",
       "      <td>0.0</td>\n",
       "      <td>1.0</td>\n",
       "      <td>0.0</td>\n",
       "      <td>0.0</td>\n",
       "      <td>1.0</td>\n",
       "      <td>0.0</td>\n",
       "      <td>0.0</td>\n",
       "      <td>0.0</td>\n",
       "    </tr>\n",
       "    <tr>\n",
       "      <th>4</th>\n",
       "      <td>0</td>\n",
       "      <td>70.60</td>\n",
       "      <td>26.7</td>\n",
       "      <td>27.0</td>\n",
       "      <td>1.0</td>\n",
       "      <td>0.0</td>\n",
       "      <td>1.0</td>\n",
       "      <td>0.0</td>\n",
       "      <td>0.0</td>\n",
       "      <td>1.0</td>\n",
       "      <td>...</td>\n",
       "      <td>0.0</td>\n",
       "      <td>0.0</td>\n",
       "      <td>1.0</td>\n",
       "      <td>0.0</td>\n",
       "      <td>0.0</td>\n",
       "      <td>1.0</td>\n",
       "      <td>0.0</td>\n",
       "      <td>0.0</td>\n",
       "      <td>0.0</td>\n",
       "      <td>0.0</td>\n",
       "    </tr>\n",
       "  </tbody>\n",
       "</table>\n",
       "<p>5 rows × 33 columns</p>\n",
       "</div>"
      ],
      "text/plain": [
       "   stroke_in_2018  average_blood_sugar   BMI  age_corr  high_BP_0  high_BP_1  \\\n",
       "0               0                71.67  36.6      61.0        0.0        1.0   \n",
       "1               0               107.95  30.4      30.0        1.0        0.0   \n",
       "2               0                76.49  42.1      51.0        0.0        1.0   \n",
       "3               0               113.98  57.3      54.0        1.0        0.0   \n",
       "4               0                70.60  26.7      27.0        1.0        0.0   \n",
       "\n",
       "   smoker_status_active_smoker  smoker_status_non_smoker  smoker_status_quit  \\\n",
       "0                          0.0                       1.0                 0.0   \n",
       "1                          0.0                       0.0                 1.0   \n",
       "2                          1.0                       0.0                 0.0   \n",
       "3                          0.0                       0.0                 1.0   \n",
       "4                          1.0                       0.0                 0.0   \n",
       "\n",
       "   married_0  ...  very_high_BMI  child  adult  senior  elderly  low_sugar  \\\n",
       "0        0.0  ...            1.0    0.0    0.0     1.0      0.0        1.0   \n",
       "1        1.0  ...            1.0    0.0    1.0     0.0      0.0        0.0   \n",
       "2        0.0  ...            1.0    0.0    0.0     1.0      0.0        1.0   \n",
       "3        0.0  ...            1.0    0.0    0.0     1.0      0.0        0.0   \n",
       "4        1.0  ...            0.0    0.0    1.0     0.0      0.0        1.0   \n",
       "\n",
       "   medium_sugar  high_sugar  very_high_sugar  has_smoked  \n",
       "0           0.0         0.0              0.0         0.0  \n",
       "1           1.0         0.0              0.0         0.0  \n",
       "2           0.0         0.0              0.0         0.0  \n",
       "3           1.0         0.0              0.0         0.0  \n",
       "4           0.0         0.0              0.0         0.0  \n",
       "\n",
       "[5 rows x 33 columns]"
      ]
     },
     "execution_count": 2,
     "metadata": {},
     "output_type": "execute_result"
    }
   ],
   "source": [
    "stk = pd.read_csv(\"../data/train_processed_upsampled2.csv\")\n",
    "stk.head()"
   ]
  },
  {
   "cell_type": "code",
   "execution_count": 3,
   "metadata": {},
   "outputs": [
    {
     "data": {
      "text/plain": [
       "(39592, 33)"
      ]
     },
     "execution_count": 3,
     "metadata": {},
     "output_type": "execute_result"
    }
   ],
   "source": [
    "stk.shape"
   ]
  },
  {
   "cell_type": "code",
   "execution_count": 4,
   "metadata": {},
   "outputs": [
    {
     "data": {
      "text/html": [
       "<div>\n",
       "<style scoped>\n",
       "    .dataframe tbody tr th:only-of-type {\n",
       "        vertical-align: middle;\n",
       "    }\n",
       "\n",
       "    .dataframe tbody tr th {\n",
       "        vertical-align: top;\n",
       "    }\n",
       "\n",
       "    .dataframe thead th {\n",
       "        text-align: right;\n",
       "    }\n",
       "</style>\n",
       "<table border=\"1\" class=\"dataframe\">\n",
       "  <thead>\n",
       "    <tr style=\"text-align: right;\">\n",
       "      <th></th>\n",
       "      <th>stroke_in_2018</th>\n",
       "      <th>average_blood_sugar</th>\n",
       "      <th>BMI</th>\n",
       "      <th>age_corr</th>\n",
       "      <th>high_BP_0</th>\n",
       "      <th>high_BP_1</th>\n",
       "      <th>smoker_status_active_smoker</th>\n",
       "      <th>smoker_status_non_smoker</th>\n",
       "      <th>smoker_status_quit</th>\n",
       "      <th>married_0</th>\n",
       "      <th>...</th>\n",
       "      <th>very_high_BMI</th>\n",
       "      <th>child</th>\n",
       "      <th>adult</th>\n",
       "      <th>senior</th>\n",
       "      <th>elderly</th>\n",
       "      <th>low_sugar</th>\n",
       "      <th>medium_sugar</th>\n",
       "      <th>high_sugar</th>\n",
       "      <th>very_high_sugar</th>\n",
       "      <th>has_smoked</th>\n",
       "    </tr>\n",
       "  </thead>\n",
       "  <tbody>\n",
       "    <tr>\n",
       "      <th>count</th>\n",
       "      <td>39592.000000</td>\n",
       "      <td>39592.000000</td>\n",
       "      <td>39592.000000</td>\n",
       "      <td>39592.000000</td>\n",
       "      <td>39592.000000</td>\n",
       "      <td>39592.000000</td>\n",
       "      <td>39592.000000</td>\n",
       "      <td>39592.000000</td>\n",
       "      <td>39592.000000</td>\n",
       "      <td>39592.000000</td>\n",
       "      <td>...</td>\n",
       "      <td>39592.000000</td>\n",
       "      <td>39592.000000</td>\n",
       "      <td>39592.000000</td>\n",
       "      <td>39592.000000</td>\n",
       "      <td>39592.000000</td>\n",
       "      <td>39592.000000</td>\n",
       "      <td>39592.000000</td>\n",
       "      <td>39592.000000</td>\n",
       "      <td>39592.000000</td>\n",
       "      <td>39592.0</td>\n",
       "    </tr>\n",
       "    <tr>\n",
       "      <th>mean</th>\n",
       "      <td>0.166650</td>\n",
       "      <td>112.245483</td>\n",
       "      <td>31.132765</td>\n",
       "      <td>49.073276</td>\n",
       "      <td>0.899424</td>\n",
       "      <td>0.100576</td>\n",
       "      <td>0.428041</td>\n",
       "      <td>0.376642</td>\n",
       "      <td>0.174707</td>\n",
       "      <td>0.309229</td>\n",
       "      <td>...</td>\n",
       "      <td>0.533845</td>\n",
       "      <td>0.122095</td>\n",
       "      <td>0.283972</td>\n",
       "      <td>0.355148</td>\n",
       "      <td>0.238786</td>\n",
       "      <td>0.542938</td>\n",
       "      <td>0.298874</td>\n",
       "      <td>0.151217</td>\n",
       "      <td>0.006971</td>\n",
       "      <td>0.0</td>\n",
       "    </tr>\n",
       "    <tr>\n",
       "      <th>std</th>\n",
       "      <td>0.372668</td>\n",
       "      <td>46.361023</td>\n",
       "      <td>7.476227</td>\n",
       "      <td>23.401855</td>\n",
       "      <td>0.300770</td>\n",
       "      <td>0.300770</td>\n",
       "      <td>0.494801</td>\n",
       "      <td>0.484550</td>\n",
       "      <td>0.379721</td>\n",
       "      <td>0.462182</td>\n",
       "      <td>...</td>\n",
       "      <td>0.498859</td>\n",
       "      <td>0.327400</td>\n",
       "      <td>0.450929</td>\n",
       "      <td>0.478564</td>\n",
       "      <td>0.426347</td>\n",
       "      <td>0.498159</td>\n",
       "      <td>0.457770</td>\n",
       "      <td>0.358265</td>\n",
       "      <td>0.083203</td>\n",
       "      <td>0.0</td>\n",
       "    </tr>\n",
       "    <tr>\n",
       "      <th>min</th>\n",
       "      <td>0.000000</td>\n",
       "      <td>59.600000</td>\n",
       "      <td>12.600000</td>\n",
       "      <td>3.000000</td>\n",
       "      <td>0.000000</td>\n",
       "      <td>0.000000</td>\n",
       "      <td>0.000000</td>\n",
       "      <td>0.000000</td>\n",
       "      <td>0.000000</td>\n",
       "      <td>0.000000</td>\n",
       "      <td>...</td>\n",
       "      <td>0.000000</td>\n",
       "      <td>0.000000</td>\n",
       "      <td>0.000000</td>\n",
       "      <td>0.000000</td>\n",
       "      <td>0.000000</td>\n",
       "      <td>0.000000</td>\n",
       "      <td>0.000000</td>\n",
       "      <td>0.000000</td>\n",
       "      <td>0.000000</td>\n",
       "      <td>0.0</td>\n",
       "    </tr>\n",
       "    <tr>\n",
       "      <th>25%</th>\n",
       "      <td>0.000000</td>\n",
       "      <td>82.290000</td>\n",
       "      <td>26.100000</td>\n",
       "      <td>30.000000</td>\n",
       "      <td>1.000000</td>\n",
       "      <td>0.000000</td>\n",
       "      <td>0.000000</td>\n",
       "      <td>0.000000</td>\n",
       "      <td>0.000000</td>\n",
       "      <td>0.000000</td>\n",
       "      <td>...</td>\n",
       "      <td>0.000000</td>\n",
       "      <td>0.000000</td>\n",
       "      <td>0.000000</td>\n",
       "      <td>0.000000</td>\n",
       "      <td>0.000000</td>\n",
       "      <td>0.000000</td>\n",
       "      <td>0.000000</td>\n",
       "      <td>0.000000</td>\n",
       "      <td>0.000000</td>\n",
       "      <td>0.0</td>\n",
       "    </tr>\n",
       "    <tr>\n",
       "      <th>50%</th>\n",
       "      <td>0.000000</td>\n",
       "      <td>96.980000</td>\n",
       "      <td>30.400000</td>\n",
       "      <td>51.469315</td>\n",
       "      <td>1.000000</td>\n",
       "      <td>0.000000</td>\n",
       "      <td>0.000000</td>\n",
       "      <td>0.000000</td>\n",
       "      <td>0.000000</td>\n",
       "      <td>0.000000</td>\n",
       "      <td>...</td>\n",
       "      <td>1.000000</td>\n",
       "      <td>0.000000</td>\n",
       "      <td>0.000000</td>\n",
       "      <td>0.000000</td>\n",
       "      <td>0.000000</td>\n",
       "      <td>1.000000</td>\n",
       "      <td>0.000000</td>\n",
       "      <td>0.000000</td>\n",
       "      <td>0.000000</td>\n",
       "      <td>0.0</td>\n",
       "    </tr>\n",
       "    <tr>\n",
       "      <th>75%</th>\n",
       "      <td>0.000000</td>\n",
       "      <td>120.170000</td>\n",
       "      <td>35.200000</td>\n",
       "      <td>68.659560</td>\n",
       "      <td>1.000000</td>\n",
       "      <td>0.000000</td>\n",
       "      <td>1.000000</td>\n",
       "      <td>1.000000</td>\n",
       "      <td>0.000000</td>\n",
       "      <td>1.000000</td>\n",
       "      <td>...</td>\n",
       "      <td>1.000000</td>\n",
       "      <td>0.000000</td>\n",
       "      <td>1.000000</td>\n",
       "      <td>1.000000</td>\n",
       "      <td>0.000000</td>\n",
       "      <td>1.000000</td>\n",
       "      <td>1.000000</td>\n",
       "      <td>0.000000</td>\n",
       "      <td>0.000000</td>\n",
       "      <td>0.0</td>\n",
       "    </tr>\n",
       "    <tr>\n",
       "      <th>max</th>\n",
       "      <td>1.000000</td>\n",
       "      <td>295.650000</td>\n",
       "      <td>99.900000</td>\n",
       "      <td>85.000000</td>\n",
       "      <td>1.000000</td>\n",
       "      <td>1.000000</td>\n",
       "      <td>1.000000</td>\n",
       "      <td>1.000000</td>\n",
       "      <td>1.000000</td>\n",
       "      <td>1.000000</td>\n",
       "      <td>...</td>\n",
       "      <td>1.000000</td>\n",
       "      <td>1.000000</td>\n",
       "      <td>1.000000</td>\n",
       "      <td>1.000000</td>\n",
       "      <td>1.000000</td>\n",
       "      <td>1.000000</td>\n",
       "      <td>1.000000</td>\n",
       "      <td>1.000000</td>\n",
       "      <td>1.000000</td>\n",
       "      <td>0.0</td>\n",
       "    </tr>\n",
       "  </tbody>\n",
       "</table>\n",
       "<p>8 rows × 33 columns</p>\n",
       "</div>"
      ],
      "text/plain": [
       "       stroke_in_2018  average_blood_sugar           BMI      age_corr  \\\n",
       "count    39592.000000         39592.000000  39592.000000  39592.000000   \n",
       "mean         0.166650           112.245483     31.132765     49.073276   \n",
       "std          0.372668            46.361023      7.476227     23.401855   \n",
       "min          0.000000            59.600000     12.600000      3.000000   \n",
       "25%          0.000000            82.290000     26.100000     30.000000   \n",
       "50%          0.000000            96.980000     30.400000     51.469315   \n",
       "75%          0.000000           120.170000     35.200000     68.659560   \n",
       "max          1.000000           295.650000     99.900000     85.000000   \n",
       "\n",
       "          high_BP_0     high_BP_1  smoker_status_active_smoker  \\\n",
       "count  39592.000000  39592.000000                 39592.000000   \n",
       "mean       0.899424      0.100576                     0.428041   \n",
       "std        0.300770      0.300770                     0.494801   \n",
       "min        0.000000      0.000000                     0.000000   \n",
       "25%        1.000000      0.000000                     0.000000   \n",
       "50%        1.000000      0.000000                     0.000000   \n",
       "75%        1.000000      0.000000                     1.000000   \n",
       "max        1.000000      1.000000                     1.000000   \n",
       "\n",
       "       smoker_status_non_smoker  smoker_status_quit     married_0  ...  \\\n",
       "count              39592.000000        39592.000000  39592.000000  ...   \n",
       "mean                   0.376642            0.174707      0.309229  ...   \n",
       "std                    0.484550            0.379721      0.462182  ...   \n",
       "min                    0.000000            0.000000      0.000000  ...   \n",
       "25%                    0.000000            0.000000      0.000000  ...   \n",
       "50%                    0.000000            0.000000      0.000000  ...   \n",
       "75%                    1.000000            0.000000      1.000000  ...   \n",
       "max                    1.000000            1.000000      1.000000  ...   \n",
       "\n",
       "       very_high_BMI         child         adult        senior       elderly  \\\n",
       "count   39592.000000  39592.000000  39592.000000  39592.000000  39592.000000   \n",
       "mean        0.533845      0.122095      0.283972      0.355148      0.238786   \n",
       "std         0.498859      0.327400      0.450929      0.478564      0.426347   \n",
       "min         0.000000      0.000000      0.000000      0.000000      0.000000   \n",
       "25%         0.000000      0.000000      0.000000      0.000000      0.000000   \n",
       "50%         1.000000      0.000000      0.000000      0.000000      0.000000   \n",
       "75%         1.000000      0.000000      1.000000      1.000000      0.000000   \n",
       "max         1.000000      1.000000      1.000000      1.000000      1.000000   \n",
       "\n",
       "          low_sugar  medium_sugar    high_sugar  very_high_sugar  has_smoked  \n",
       "count  39592.000000  39592.000000  39592.000000     39592.000000     39592.0  \n",
       "mean       0.542938      0.298874      0.151217         0.006971         0.0  \n",
       "std        0.498159      0.457770      0.358265         0.083203         0.0  \n",
       "min        0.000000      0.000000      0.000000         0.000000         0.0  \n",
       "25%        0.000000      0.000000      0.000000         0.000000         0.0  \n",
       "50%        1.000000      0.000000      0.000000         0.000000         0.0  \n",
       "75%        1.000000      1.000000      0.000000         0.000000         0.0  \n",
       "max        1.000000      1.000000      1.000000         1.000000         0.0  \n",
       "\n",
       "[8 rows x 33 columns]"
      ]
     },
     "execution_count": 4,
     "metadata": {},
     "output_type": "execute_result"
    }
   ],
   "source": [
    "stk.describe()"
   ]
  },
  {
   "cell_type": "code",
   "execution_count": 5,
   "metadata": {},
   "outputs": [],
   "source": [
    "X = stk.drop(labels=\"stroke_in_2018\", axis=1).reset_index(drop=True)\n",
    "y = stk[\"stroke_in_2018\"].reset_index(drop=True)"
   ]
  },
  {
   "cell_type": "code",
   "execution_count": 6,
   "metadata": {},
   "outputs": [
    {
     "data": {
      "text/html": [
       "<div>\n",
       "<style scoped>\n",
       "    .dataframe tbody tr th:only-of-type {\n",
       "        vertical-align: middle;\n",
       "    }\n",
       "\n",
       "    .dataframe tbody tr th {\n",
       "        vertical-align: top;\n",
       "    }\n",
       "\n",
       "    .dataframe thead th {\n",
       "        text-align: right;\n",
       "    }\n",
       "</style>\n",
       "<table border=\"1\" class=\"dataframe\">\n",
       "  <thead>\n",
       "    <tr style=\"text-align: right;\">\n",
       "      <th></th>\n",
       "      <th>average_blood_sugar</th>\n",
       "      <th>BMI</th>\n",
       "      <th>age_corr</th>\n",
       "      <th>high_BP_0</th>\n",
       "      <th>high_BP_1</th>\n",
       "      <th>smoker_status_active_smoker</th>\n",
       "      <th>smoker_status_non_smoker</th>\n",
       "      <th>smoker_status_quit</th>\n",
       "      <th>married_0</th>\n",
       "      <th>married_1</th>\n",
       "      <th>...</th>\n",
       "      <th>very_high_BMI</th>\n",
       "      <th>child</th>\n",
       "      <th>adult</th>\n",
       "      <th>senior</th>\n",
       "      <th>elderly</th>\n",
       "      <th>low_sugar</th>\n",
       "      <th>medium_sugar</th>\n",
       "      <th>high_sugar</th>\n",
       "      <th>very_high_sugar</th>\n",
       "      <th>has_smoked</th>\n",
       "    </tr>\n",
       "  </thead>\n",
       "  <tbody>\n",
       "    <tr>\n",
       "      <th>0</th>\n",
       "      <td>71.67</td>\n",
       "      <td>36.6</td>\n",
       "      <td>61.0</td>\n",
       "      <td>0.0</td>\n",
       "      <td>1.0</td>\n",
       "      <td>0.0</td>\n",
       "      <td>1.0</td>\n",
       "      <td>0.0</td>\n",
       "      <td>0.0</td>\n",
       "      <td>1.0</td>\n",
       "      <td>...</td>\n",
       "      <td>1.0</td>\n",
       "      <td>0.0</td>\n",
       "      <td>0.0</td>\n",
       "      <td>1.0</td>\n",
       "      <td>0.0</td>\n",
       "      <td>1.0</td>\n",
       "      <td>0.0</td>\n",
       "      <td>0.0</td>\n",
       "      <td>0.0</td>\n",
       "      <td>0.0</td>\n",
       "    </tr>\n",
       "    <tr>\n",
       "      <th>1</th>\n",
       "      <td>107.95</td>\n",
       "      <td>30.4</td>\n",
       "      <td>30.0</td>\n",
       "      <td>1.0</td>\n",
       "      <td>0.0</td>\n",
       "      <td>0.0</td>\n",
       "      <td>0.0</td>\n",
       "      <td>1.0</td>\n",
       "      <td>1.0</td>\n",
       "      <td>0.0</td>\n",
       "      <td>...</td>\n",
       "      <td>1.0</td>\n",
       "      <td>0.0</td>\n",
       "      <td>1.0</td>\n",
       "      <td>0.0</td>\n",
       "      <td>0.0</td>\n",
       "      <td>0.0</td>\n",
       "      <td>1.0</td>\n",
       "      <td>0.0</td>\n",
       "      <td>0.0</td>\n",
       "      <td>0.0</td>\n",
       "    </tr>\n",
       "    <tr>\n",
       "      <th>2</th>\n",
       "      <td>76.49</td>\n",
       "      <td>42.1</td>\n",
       "      <td>51.0</td>\n",
       "      <td>0.0</td>\n",
       "      <td>1.0</td>\n",
       "      <td>1.0</td>\n",
       "      <td>0.0</td>\n",
       "      <td>0.0</td>\n",
       "      <td>0.0</td>\n",
       "      <td>1.0</td>\n",
       "      <td>...</td>\n",
       "      <td>1.0</td>\n",
       "      <td>0.0</td>\n",
       "      <td>0.0</td>\n",
       "      <td>1.0</td>\n",
       "      <td>0.0</td>\n",
       "      <td>1.0</td>\n",
       "      <td>0.0</td>\n",
       "      <td>0.0</td>\n",
       "      <td>0.0</td>\n",
       "      <td>0.0</td>\n",
       "    </tr>\n",
       "    <tr>\n",
       "      <th>3</th>\n",
       "      <td>113.98</td>\n",
       "      <td>57.3</td>\n",
       "      <td>54.0</td>\n",
       "      <td>1.0</td>\n",
       "      <td>0.0</td>\n",
       "      <td>0.0</td>\n",
       "      <td>0.0</td>\n",
       "      <td>1.0</td>\n",
       "      <td>0.0</td>\n",
       "      <td>1.0</td>\n",
       "      <td>...</td>\n",
       "      <td>1.0</td>\n",
       "      <td>0.0</td>\n",
       "      <td>0.0</td>\n",
       "      <td>1.0</td>\n",
       "      <td>0.0</td>\n",
       "      <td>0.0</td>\n",
       "      <td>1.0</td>\n",
       "      <td>0.0</td>\n",
       "      <td>0.0</td>\n",
       "      <td>0.0</td>\n",
       "    </tr>\n",
       "    <tr>\n",
       "      <th>4</th>\n",
       "      <td>70.60</td>\n",
       "      <td>26.7</td>\n",
       "      <td>27.0</td>\n",
       "      <td>1.0</td>\n",
       "      <td>0.0</td>\n",
       "      <td>1.0</td>\n",
       "      <td>0.0</td>\n",
       "      <td>0.0</td>\n",
       "      <td>1.0</td>\n",
       "      <td>0.0</td>\n",
       "      <td>...</td>\n",
       "      <td>0.0</td>\n",
       "      <td>0.0</td>\n",
       "      <td>1.0</td>\n",
       "      <td>0.0</td>\n",
       "      <td>0.0</td>\n",
       "      <td>1.0</td>\n",
       "      <td>0.0</td>\n",
       "      <td>0.0</td>\n",
       "      <td>0.0</td>\n",
       "      <td>0.0</td>\n",
       "    </tr>\n",
       "  </tbody>\n",
       "</table>\n",
       "<p>5 rows × 32 columns</p>\n",
       "</div>"
      ],
      "text/plain": [
       "   average_blood_sugar   BMI  age_corr  high_BP_0  high_BP_1  \\\n",
       "0                71.67  36.6      61.0        0.0        1.0   \n",
       "1               107.95  30.4      30.0        1.0        0.0   \n",
       "2                76.49  42.1      51.0        0.0        1.0   \n",
       "3               113.98  57.3      54.0        1.0        0.0   \n",
       "4                70.60  26.7      27.0        1.0        0.0   \n",
       "\n",
       "   smoker_status_active_smoker  smoker_status_non_smoker  smoker_status_quit  \\\n",
       "0                          0.0                       1.0                 0.0   \n",
       "1                          0.0                       0.0                 1.0   \n",
       "2                          1.0                       0.0                 0.0   \n",
       "3                          0.0                       0.0                 1.0   \n",
       "4                          1.0                       0.0                 0.0   \n",
       "\n",
       "   married_0  married_1  ...  very_high_BMI  child  adult  senior  elderly  \\\n",
       "0        0.0        1.0  ...            1.0    0.0    0.0     1.0      0.0   \n",
       "1        1.0        0.0  ...            1.0    0.0    1.0     0.0      0.0   \n",
       "2        0.0        1.0  ...            1.0    0.0    0.0     1.0      0.0   \n",
       "3        0.0        1.0  ...            1.0    0.0    0.0     1.0      0.0   \n",
       "4        1.0        0.0  ...            0.0    0.0    1.0     0.0      0.0   \n",
       "\n",
       "   low_sugar  medium_sugar  high_sugar  very_high_sugar  has_smoked  \n",
       "0        1.0           0.0         0.0              0.0         0.0  \n",
       "1        0.0           1.0         0.0              0.0         0.0  \n",
       "2        1.0           0.0         0.0              0.0         0.0  \n",
       "3        0.0           1.0         0.0              0.0         0.0  \n",
       "4        1.0           0.0         0.0              0.0         0.0  \n",
       "\n",
       "[5 rows x 32 columns]"
      ]
     },
     "execution_count": 6,
     "metadata": {},
     "output_type": "execute_result"
    }
   ],
   "source": [
    "X.head()"
   ]
  },
  {
   "cell_type": "code",
   "execution_count": 7,
   "metadata": {},
   "outputs": [
    {
     "data": {
      "text/plain": [
       "0    0\n",
       "1    0\n",
       "2    0\n",
       "3    0\n",
       "4    0\n",
       "Name: stroke_in_2018, dtype: int64"
      ]
     },
     "execution_count": 7,
     "metadata": {},
     "output_type": "execute_result"
    }
   ],
   "source": [
    "y.head()"
   ]
  },
  {
   "cell_type": "markdown",
   "metadata": {},
   "source": [
    "Let's normalise the variables and see if that helps"
   ]
  },
  {
   "cell_type": "code",
   "execution_count": 8,
   "metadata": {},
   "outputs": [
    {
     "data": {
      "text/html": [
       "<div>\n",
       "<style scoped>\n",
       "    .dataframe tbody tr th:only-of-type {\n",
       "        vertical-align: middle;\n",
       "    }\n",
       "\n",
       "    .dataframe tbody tr th {\n",
       "        vertical-align: top;\n",
       "    }\n",
       "\n",
       "    .dataframe thead th {\n",
       "        text-align: right;\n",
       "    }\n",
       "</style>\n",
       "<table border=\"1\" class=\"dataframe\">\n",
       "  <thead>\n",
       "    <tr style=\"text-align: right;\">\n",
       "      <th></th>\n",
       "      <th>average_blood_sugar</th>\n",
       "      <th>BMI</th>\n",
       "      <th>age_corr</th>\n",
       "      <th>high_BP_0</th>\n",
       "      <th>high_BP_1</th>\n",
       "      <th>smoker_status_active_smoker</th>\n",
       "      <th>smoker_status_non_smoker</th>\n",
       "      <th>smoker_status_quit</th>\n",
       "      <th>married_0</th>\n",
       "      <th>married_1</th>\n",
       "      <th>...</th>\n",
       "      <th>very_high_BMI</th>\n",
       "      <th>child</th>\n",
       "      <th>adult</th>\n",
       "      <th>senior</th>\n",
       "      <th>elderly</th>\n",
       "      <th>low_sugar</th>\n",
       "      <th>medium_sugar</th>\n",
       "      <th>high_sugar</th>\n",
       "      <th>very_high_sugar</th>\n",
       "      <th>has_smoked</th>\n",
       "    </tr>\n",
       "  </thead>\n",
       "  <tbody>\n",
       "    <tr>\n",
       "      <th>0</th>\n",
       "      <td>0.051133</td>\n",
       "      <td>0.274914</td>\n",
       "      <td>0.707317</td>\n",
       "      <td>0.0</td>\n",
       "      <td>1.0</td>\n",
       "      <td>0.0</td>\n",
       "      <td>1.0</td>\n",
       "      <td>0.0</td>\n",
       "      <td>0.0</td>\n",
       "      <td>1.0</td>\n",
       "      <td>...</td>\n",
       "      <td>1.0</td>\n",
       "      <td>0.0</td>\n",
       "      <td>0.0</td>\n",
       "      <td>1.0</td>\n",
       "      <td>0.0</td>\n",
       "      <td>1.0</td>\n",
       "      <td>0.0</td>\n",
       "      <td>0.0</td>\n",
       "      <td>0.0</td>\n",
       "      <td>0.0</td>\n",
       "    </tr>\n",
       "    <tr>\n",
       "      <th>1</th>\n",
       "      <td>0.204829</td>\n",
       "      <td>0.203895</td>\n",
       "      <td>0.329268</td>\n",
       "      <td>1.0</td>\n",
       "      <td>0.0</td>\n",
       "      <td>0.0</td>\n",
       "      <td>0.0</td>\n",
       "      <td>1.0</td>\n",
       "      <td>1.0</td>\n",
       "      <td>0.0</td>\n",
       "      <td>...</td>\n",
       "      <td>1.0</td>\n",
       "      <td>0.0</td>\n",
       "      <td>1.0</td>\n",
       "      <td>0.0</td>\n",
       "      <td>0.0</td>\n",
       "      <td>0.0</td>\n",
       "      <td>1.0</td>\n",
       "      <td>0.0</td>\n",
       "      <td>0.0</td>\n",
       "      <td>0.0</td>\n",
       "    </tr>\n",
       "    <tr>\n",
       "      <th>2</th>\n",
       "      <td>0.071553</td>\n",
       "      <td>0.337915</td>\n",
       "      <td>0.585366</td>\n",
       "      <td>0.0</td>\n",
       "      <td>1.0</td>\n",
       "      <td>1.0</td>\n",
       "      <td>0.0</td>\n",
       "      <td>0.0</td>\n",
       "      <td>0.0</td>\n",
       "      <td>1.0</td>\n",
       "      <td>...</td>\n",
       "      <td>1.0</td>\n",
       "      <td>0.0</td>\n",
       "      <td>0.0</td>\n",
       "      <td>1.0</td>\n",
       "      <td>0.0</td>\n",
       "      <td>1.0</td>\n",
       "      <td>0.0</td>\n",
       "      <td>0.0</td>\n",
       "      <td>0.0</td>\n",
       "      <td>0.0</td>\n",
       "    </tr>\n",
       "    <tr>\n",
       "      <th>3</th>\n",
       "      <td>0.230375</td>\n",
       "      <td>0.512027</td>\n",
       "      <td>0.621951</td>\n",
       "      <td>1.0</td>\n",
       "      <td>0.0</td>\n",
       "      <td>0.0</td>\n",
       "      <td>0.0</td>\n",
       "      <td>1.0</td>\n",
       "      <td>0.0</td>\n",
       "      <td>1.0</td>\n",
       "      <td>...</td>\n",
       "      <td>1.0</td>\n",
       "      <td>0.0</td>\n",
       "      <td>0.0</td>\n",
       "      <td>1.0</td>\n",
       "      <td>0.0</td>\n",
       "      <td>0.0</td>\n",
       "      <td>1.0</td>\n",
       "      <td>0.0</td>\n",
       "      <td>0.0</td>\n",
       "      <td>0.0</td>\n",
       "    </tr>\n",
       "    <tr>\n",
       "      <th>4</th>\n",
       "      <td>0.046600</td>\n",
       "      <td>0.161512</td>\n",
       "      <td>0.292683</td>\n",
       "      <td>1.0</td>\n",
       "      <td>0.0</td>\n",
       "      <td>1.0</td>\n",
       "      <td>0.0</td>\n",
       "      <td>0.0</td>\n",
       "      <td>1.0</td>\n",
       "      <td>0.0</td>\n",
       "      <td>...</td>\n",
       "      <td>0.0</td>\n",
       "      <td>0.0</td>\n",
       "      <td>1.0</td>\n",
       "      <td>0.0</td>\n",
       "      <td>0.0</td>\n",
       "      <td>1.0</td>\n",
       "      <td>0.0</td>\n",
       "      <td>0.0</td>\n",
       "      <td>0.0</td>\n",
       "      <td>0.0</td>\n",
       "    </tr>\n",
       "  </tbody>\n",
       "</table>\n",
       "<p>5 rows × 32 columns</p>\n",
       "</div>"
      ],
      "text/plain": [
       "   average_blood_sugar       BMI  age_corr  high_BP_0  high_BP_1  \\\n",
       "0             0.051133  0.274914  0.707317        0.0        1.0   \n",
       "1             0.204829  0.203895  0.329268        1.0        0.0   \n",
       "2             0.071553  0.337915  0.585366        0.0        1.0   \n",
       "3             0.230375  0.512027  0.621951        1.0        0.0   \n",
       "4             0.046600  0.161512  0.292683        1.0        0.0   \n",
       "\n",
       "   smoker_status_active_smoker  smoker_status_non_smoker  smoker_status_quit  \\\n",
       "0                          0.0                       1.0                 0.0   \n",
       "1                          0.0                       0.0                 1.0   \n",
       "2                          1.0                       0.0                 0.0   \n",
       "3                          0.0                       0.0                 1.0   \n",
       "4                          1.0                       0.0                 0.0   \n",
       "\n",
       "   married_0  married_1  ...  very_high_BMI  child  adult  senior  elderly  \\\n",
       "0        0.0        1.0  ...            1.0    0.0    0.0     1.0      0.0   \n",
       "1        1.0        0.0  ...            1.0    0.0    1.0     0.0      0.0   \n",
       "2        0.0        1.0  ...            1.0    0.0    0.0     1.0      0.0   \n",
       "3        0.0        1.0  ...            1.0    0.0    0.0     1.0      0.0   \n",
       "4        1.0        0.0  ...            0.0    0.0    1.0     0.0      0.0   \n",
       "\n",
       "   low_sugar  medium_sugar  high_sugar  very_high_sugar  has_smoked  \n",
       "0        1.0           0.0         0.0              0.0         0.0  \n",
       "1        0.0           1.0         0.0              0.0         0.0  \n",
       "2        1.0           0.0         0.0              0.0         0.0  \n",
       "3        0.0           1.0         0.0              0.0         0.0  \n",
       "4        1.0           0.0         0.0              0.0         0.0  \n",
       "\n",
       "[5 rows x 32 columns]"
      ]
     },
     "execution_count": 8,
     "metadata": {},
     "output_type": "execute_result"
    }
   ],
   "source": [
    "X_norm = X.copy()\n",
    "norm_cols(X_norm, [\"average_blood_sugar\", \"BMI\", \"age_corr\"])\n",
    "\n",
    "X_norm.head()"
   ]
  },
  {
   "cell_type": "markdown",
   "metadata": {},
   "source": [
    "### Checking Feature Correlation\n",
    "\n",
    "Because we have done so much feature engineering, we should remove some of the features that are likely to be correlated. First, we check this with a correlation heatmap."
   ]
  },
  {
   "cell_type": "raw",
   "metadata": {},
   "source": [
    "colormap = plt.cm.BrBG\n",
    "plt.figure(figsize=(14,12))\n",
    "plt.title('Pearson Correlation of Features', y=1.05, size=15)\n",
    "sns.heatmap(X_norm.astype(float).corr(),linewidths=0.1,vmax=1.0, \n",
    "            square=True, cmap=colormap, linecolor='white')"
   ]
  },
  {
   "cell_type": "code",
   "execution_count": null,
   "metadata": {},
   "outputs": [],
   "source": []
  },
  {
   "cell_type": "code",
   "execution_count": null,
   "metadata": {},
   "outputs": [],
   "source": []
  },
  {
   "cell_type": "code",
   "execution_count": null,
   "metadata": {},
   "outputs": [],
   "source": []
  },
  {
   "cell_type": "markdown",
   "metadata": {},
   "source": [
    "### Building Base Models\n",
    "\n",
    "Now we proceed to build base models. We will consider:\n",
    "\n",
    "- KNN-models, SVM (with penalised regression)\n",
    "- Linear regression family (OLS, Lasso, Ridge, ElasticNet etc.)\n",
    "- Tree-based (XGBoost, LGB, RandomForest etc.)\n",
    "\n",
    "We will look at the ROC-AUC curve to determine the best model, and the F1-score, which considers both precision and recall"
   ]
  },
  {
   "cell_type": "markdown",
   "metadata": {},
   "source": [
    "### Other Models\n",
    "\n",
    "Here we consider KNN, SVM and Logistic Regression"
   ]
  },
  {
   "cell_type": "code",
   "execution_count": 9,
   "metadata": {},
   "outputs": [],
   "source": [
    "other_models = {\n",
    "    \"knn\" : KNeighborsClassifier(n_neighbors=3, algorithm='ball_tree'),\n",
    "#     \"svm\" : svm.SVC(gamma='scale', probability=True),\n",
    "    \"log\" : LogisticRegression(random_state=0, solver='lbfgs', multi_class='auto')\n",
    "}"
   ]
  },
  {
   "cell_type": "markdown",
   "metadata": {},
   "source": [
    "### Tree Based Models"
   ]
  },
  {
   "cell_type": "code",
   "execution_count": 10,
   "metadata": {},
   "outputs": [],
   "source": [
    "tree_based_models = {\n",
    "    \"dt\": DecisionTreeRegressor(),\n",
    "    \"rf\": RandomForestRegressor(),\n",
    "    \"ada\": AdaBoostRegressor(),\n",
    "    \"gb\": GradientBoostingRegressor(),\n",
    "    \"et\": ExtraTreesRegressor(),\n",
    "    \"xgb\": XGBRegressor()\n",
    "}"
   ]
  },
  {
   "cell_type": "markdown",
   "metadata": {},
   "source": [
    "Because we are not yet interested in validation, we do not conduct any cross-validation when training the models. The purpose of this is to identify features which are important for "
   ]
  },
  {
   "cell_type": "code",
   "execution_count": 11,
   "metadata": {
    "scrolled": true
   },
   "outputs": [
    {
     "name": "stdout",
     "output_type": "stream",
     "text": [
      "[05:59:45] WARNING: src/objective/regression_obj.cu:152: reg:linear is now deprecated in favor of reg:squarederror.\n"
     ]
    }
   ],
   "source": [
    "for _, clf in tree_based_models.items():\n",
    "    clf.fit(X_norm, y)"
   ]
  },
  {
   "cell_type": "code",
   "execution_count": 12,
   "metadata": {},
   "outputs": [],
   "source": [
    "def generate_sorted_feature_importance(columns_name, feature_importances):\n",
    "    feature_importance_map = {}\n",
    "    for i in range(len(columns_name)):\n",
    "        feature_importance_map[columns_name[i]] = feature_importances[i]\n",
    "    sorted_feature_importance = dict(sorted(feature_importance_map.items(), key=itemgetter(1)))\n",
    "    return sorted_feature_importance\n",
    "\n",
    "def plot_feature_importance(sorted_feature_importance, ax, title):\n",
    "    num_feature = 20\n",
    "    bp = sns.barplot(list(sorted_feature_importance.keys())[-num_feature:], list(sorted_feature_importance.values())[-num_feature:], ax=ax)\n",
    "    bp.set_xticklabels(bp.get_xticklabels(), rotation=90)\n",
    "    bp.set_title(title)\n",
    "    return bp"
   ]
  },
  {
   "cell_type": "raw",
   "metadata": {},
   "source": [
    "# to visualize the 20 most important features of each tree-based models\n",
    "fig, axes = plt.subplots(4, 2)\n",
    "fig.set_figheight(20)\n",
    "fig.set_figwidth(18)\n",
    "fig.subplots_adjust(hspace=0.7)\n",
    "count = 0\n",
    "for name, clf in tree_based_models.items():\n",
    "    row = count // 2\n",
    "    column = count % 2\n",
    "    sorted_feature_importance = generate_sorted_feature_importance(X.columns, clf.feature_importances_)\n",
    "    plot_feature_importance(sorted_feature_importance, axes[row, column], name)\n",
    "    count += 1"
   ]
  },
  {
   "cell_type": "code",
   "execution_count": 13,
   "metadata": {},
   "outputs": [],
   "source": [
    "clf_features_importance = pd.DataFrame()\n",
    "for name, clf in tree_based_models.items():\n",
    "    sorted_feature_importance = generate_sorted_feature_importance(X.columns, clf.feature_importances_)\n",
    "    clf_features_importance[name] = list(sorted_feature_importance.keys())"
   ]
  },
  {
   "cell_type": "code",
   "execution_count": 14,
   "metadata": {},
   "outputs": [
    {
     "data": {
      "text/html": [
       "<div>\n",
       "<style scoped>\n",
       "    .dataframe tbody tr th:only-of-type {\n",
       "        vertical-align: middle;\n",
       "    }\n",
       "\n",
       "    .dataframe tbody tr th {\n",
       "        vertical-align: top;\n",
       "    }\n",
       "\n",
       "    .dataframe thead th {\n",
       "        text-align: right;\n",
       "    }\n",
       "</style>\n",
       "<table border=\"1\" class=\"dataframe\">\n",
       "  <thead>\n",
       "    <tr style=\"text-align: right;\">\n",
       "      <th></th>\n",
       "      <th>dt</th>\n",
       "      <th>rf</th>\n",
       "      <th>ada</th>\n",
       "      <th>gb</th>\n",
       "      <th>et</th>\n",
       "      <th>xgb</th>\n",
       "    </tr>\n",
       "  </thead>\n",
       "  <tbody>\n",
       "    <tr>\n",
       "      <th>22</th>\n",
       "      <td>married_0</td>\n",
       "      <td>living_area_corr_city</td>\n",
       "      <td>high_sugar</td>\n",
       "      <td>very_high_BMI</td>\n",
       "      <td>senior</td>\n",
       "      <td>medium_BMI</td>\n",
       "    </tr>\n",
       "    <tr>\n",
       "      <th>23</th>\n",
       "      <td>job_status_corr_business_owner</td>\n",
       "      <td>job_status_corr_private_sector</td>\n",
       "      <td>smoker_status_quit</td>\n",
       "      <td>job_status_corr_business_owner</td>\n",
       "      <td>very_high_BMI</td>\n",
       "      <td>job_status_corr_private_sector</td>\n",
       "    </tr>\n",
       "    <tr>\n",
       "      <th>24</th>\n",
       "      <td>living_area_corr_remote</td>\n",
       "      <td>job_status_corr_business_owner</td>\n",
       "      <td>smoker_status_non_smoker</td>\n",
       "      <td>married_1</td>\n",
       "      <td>job_status_corr_private_sector</td>\n",
       "      <td>job_status_corr_business_owner</td>\n",
       "    </tr>\n",
       "    <tr>\n",
       "      <th>25</th>\n",
       "      <td>smoker_status_non_smoker</td>\n",
       "      <td>smoker_status_quit</td>\n",
       "      <td>living_area_corr_remote</td>\n",
       "      <td>senior</td>\n",
       "      <td>smoker_status_active_smoker</td>\n",
       "      <td>smoker_status_active_smoker</td>\n",
       "    </tr>\n",
       "    <tr>\n",
       "      <th>26</th>\n",
       "      <td>smoker_status_quit</td>\n",
       "      <td>smoker_status_non_smoker</td>\n",
       "      <td>medium_BMI</td>\n",
       "      <td>BMI</td>\n",
       "      <td>smoker_status_non_smoker</td>\n",
       "      <td>job_status_corr_government</td>\n",
       "    </tr>\n",
       "    <tr>\n",
       "      <th>27</th>\n",
       "      <td>smoker_status_active_smoker</td>\n",
       "      <td>smoker_status_active_smoker</td>\n",
       "      <td>married_1</td>\n",
       "      <td>job_status_corr_government</td>\n",
       "      <td>smoker_status_quit</td>\n",
       "      <td>very_high_BMI</td>\n",
       "    </tr>\n",
       "    <tr>\n",
       "      <th>28</th>\n",
       "      <td>job_status_corr_government</td>\n",
       "      <td>job_status_corr_government</td>\n",
       "      <td>senior</td>\n",
       "      <td>smoker_status_active_smoker</td>\n",
       "      <td>BMI</td>\n",
       "      <td>married_0</td>\n",
       "    </tr>\n",
       "    <tr>\n",
       "      <th>29</th>\n",
       "      <td>BMI</td>\n",
       "      <td>BMI</td>\n",
       "      <td>average_blood_sugar</td>\n",
       "      <td>smoker_status_quit</td>\n",
       "      <td>average_blood_sugar</td>\n",
       "      <td>low_BMI</td>\n",
       "    </tr>\n",
       "    <tr>\n",
       "      <th>30</th>\n",
       "      <td>average_blood_sugar</td>\n",
       "      <td>average_blood_sugar</td>\n",
       "      <td>job_status_corr_government</td>\n",
       "      <td>average_blood_sugar</td>\n",
       "      <td>age_corr</td>\n",
       "      <td>smoker_status_quit</td>\n",
       "    </tr>\n",
       "    <tr>\n",
       "      <th>31</th>\n",
       "      <td>age_corr</td>\n",
       "      <td>age_corr</td>\n",
       "      <td>age_corr</td>\n",
       "      <td>age_corr</td>\n",
       "      <td>elderly</td>\n",
       "      <td>age_corr</td>\n",
       "    </tr>\n",
       "  </tbody>\n",
       "</table>\n",
       "</div>"
      ],
      "text/plain": [
       "                                dt                              rf  \\\n",
       "22                       married_0           living_area_corr_city   \n",
       "23  job_status_corr_business_owner  job_status_corr_private_sector   \n",
       "24         living_area_corr_remote  job_status_corr_business_owner   \n",
       "25        smoker_status_non_smoker              smoker_status_quit   \n",
       "26              smoker_status_quit        smoker_status_non_smoker   \n",
       "27     smoker_status_active_smoker     smoker_status_active_smoker   \n",
       "28      job_status_corr_government      job_status_corr_government   \n",
       "29                             BMI                             BMI   \n",
       "30             average_blood_sugar             average_blood_sugar   \n",
       "31                        age_corr                        age_corr   \n",
       "\n",
       "                           ada                              gb  \\\n",
       "22                  high_sugar                   very_high_BMI   \n",
       "23          smoker_status_quit  job_status_corr_business_owner   \n",
       "24    smoker_status_non_smoker                       married_1   \n",
       "25     living_area_corr_remote                          senior   \n",
       "26                  medium_BMI                             BMI   \n",
       "27                   married_1      job_status_corr_government   \n",
       "28                      senior     smoker_status_active_smoker   \n",
       "29         average_blood_sugar              smoker_status_quit   \n",
       "30  job_status_corr_government             average_blood_sugar   \n",
       "31                    age_corr                        age_corr   \n",
       "\n",
       "                                et                             xgb  \n",
       "22                          senior                      medium_BMI  \n",
       "23                   very_high_BMI  job_status_corr_private_sector  \n",
       "24  job_status_corr_private_sector  job_status_corr_business_owner  \n",
       "25     smoker_status_active_smoker     smoker_status_active_smoker  \n",
       "26        smoker_status_non_smoker      job_status_corr_government  \n",
       "27              smoker_status_quit                   very_high_BMI  \n",
       "28                             BMI                       married_0  \n",
       "29             average_blood_sugar                         low_BMI  \n",
       "30                        age_corr              smoker_status_quit  \n",
       "31                         elderly                        age_corr  "
      ]
     },
     "execution_count": 14,
     "metadata": {},
     "output_type": "execute_result"
    }
   ],
   "source": [
    "clf_features_importance[-10:]"
   ]
  },
  {
   "cell_type": "code",
   "execution_count": 15,
   "metadata": {},
   "outputs": [
    {
     "name": "stdout",
     "output_type": "stream",
     "text": [
      "[06:00:03] WARNING: src/objective/regression_obj.cu:152: reg:linear is now deprecated in favor of reg:squarederror.\n"
     ]
    }
   ],
   "source": [
    "for _, clf in tree_based_models.items():\n",
    "    clf.fit(X, y)"
   ]
  },
  {
   "cell_type": "code",
   "execution_count": 16,
   "metadata": {},
   "outputs": [],
   "source": [
    "clf_features_importance = pd.DataFrame()\n",
    "for name, clf in tree_based_models.items():\n",
    "    sorted_feature_importance = generate_sorted_feature_importance(X.columns, clf.feature_importances_)\n",
    "    clf_features_importance[name] = list(sorted_feature_importance.keys())"
   ]
  },
  {
   "cell_type": "code",
   "execution_count": 17,
   "metadata": {},
   "outputs": [
    {
     "data": {
      "text/html": [
       "<div>\n",
       "<style scoped>\n",
       "    .dataframe tbody tr th:only-of-type {\n",
       "        vertical-align: middle;\n",
       "    }\n",
       "\n",
       "    .dataframe tbody tr th {\n",
       "        vertical-align: top;\n",
       "    }\n",
       "\n",
       "    .dataframe thead th {\n",
       "        text-align: right;\n",
       "    }\n",
       "</style>\n",
       "<table border=\"1\" class=\"dataframe\">\n",
       "  <thead>\n",
       "    <tr style=\"text-align: right;\">\n",
       "      <th></th>\n",
       "      <th>dt</th>\n",
       "      <th>rf</th>\n",
       "      <th>ada</th>\n",
       "      <th>gb</th>\n",
       "      <th>et</th>\n",
       "      <th>xgb</th>\n",
       "    </tr>\n",
       "  </thead>\n",
       "  <tbody>\n",
       "    <tr>\n",
       "      <th>22</th>\n",
       "      <td>job_status_corr_business_owner</td>\n",
       "      <td>living_area_corr_city</td>\n",
       "      <td>living_area_corr_remote</td>\n",
       "      <td>very_high_BMI</td>\n",
       "      <td>senior</td>\n",
       "      <td>medium_BMI</td>\n",
       "    </tr>\n",
       "    <tr>\n",
       "      <th>23</th>\n",
       "      <td>married_0</td>\n",
       "      <td>job_status_corr_private_sector</td>\n",
       "      <td>senior</td>\n",
       "      <td>job_status_corr_business_owner</td>\n",
       "      <td>job_status_corr_private_sector</td>\n",
       "      <td>job_status_corr_private_sector</td>\n",
       "    </tr>\n",
       "    <tr>\n",
       "      <th>24</th>\n",
       "      <td>living_area_corr_city</td>\n",
       "      <td>job_status_corr_business_owner</td>\n",
       "      <td>BMI</td>\n",
       "      <td>married_1</td>\n",
       "      <td>very_high_BMI</td>\n",
       "      <td>job_status_corr_business_owner</td>\n",
       "    </tr>\n",
       "    <tr>\n",
       "      <th>25</th>\n",
       "      <td>smoker_status_non_smoker</td>\n",
       "      <td>smoker_status_quit</td>\n",
       "      <td>smoker_status_non_smoker</td>\n",
       "      <td>senior</td>\n",
       "      <td>smoker_status_active_smoker</td>\n",
       "      <td>smoker_status_active_smoker</td>\n",
       "    </tr>\n",
       "    <tr>\n",
       "      <th>26</th>\n",
       "      <td>smoker_status_active_smoker</td>\n",
       "      <td>smoker_status_non_smoker</td>\n",
       "      <td>married_1</td>\n",
       "      <td>BMI</td>\n",
       "      <td>smoker_status_quit</td>\n",
       "      <td>job_status_corr_government</td>\n",
       "    </tr>\n",
       "    <tr>\n",
       "      <th>27</th>\n",
       "      <td>smoker_status_quit</td>\n",
       "      <td>smoker_status_active_smoker</td>\n",
       "      <td>high_sugar</td>\n",
       "      <td>job_status_corr_government</td>\n",
       "      <td>smoker_status_non_smoker</td>\n",
       "      <td>very_high_BMI</td>\n",
       "    </tr>\n",
       "    <tr>\n",
       "      <th>28</th>\n",
       "      <td>job_status_corr_government</td>\n",
       "      <td>job_status_corr_government</td>\n",
       "      <td>smoker_status_active_smoker</td>\n",
       "      <td>smoker_status_active_smoker</td>\n",
       "      <td>BMI</td>\n",
       "      <td>married_0</td>\n",
       "    </tr>\n",
       "    <tr>\n",
       "      <th>29</th>\n",
       "      <td>BMI</td>\n",
       "      <td>BMI</td>\n",
       "      <td>average_blood_sugar</td>\n",
       "      <td>smoker_status_quit</td>\n",
       "      <td>average_blood_sugar</td>\n",
       "      <td>low_BMI</td>\n",
       "    </tr>\n",
       "    <tr>\n",
       "      <th>30</th>\n",
       "      <td>average_blood_sugar</td>\n",
       "      <td>average_blood_sugar</td>\n",
       "      <td>job_status_corr_government</td>\n",
       "      <td>average_blood_sugar</td>\n",
       "      <td>age_corr</td>\n",
       "      <td>smoker_status_quit</td>\n",
       "    </tr>\n",
       "    <tr>\n",
       "      <th>31</th>\n",
       "      <td>age_corr</td>\n",
       "      <td>age_corr</td>\n",
       "      <td>age_corr</td>\n",
       "      <td>age_corr</td>\n",
       "      <td>elderly</td>\n",
       "      <td>age_corr</td>\n",
       "    </tr>\n",
       "  </tbody>\n",
       "</table>\n",
       "</div>"
      ],
      "text/plain": [
       "                                dt                              rf  \\\n",
       "22  job_status_corr_business_owner           living_area_corr_city   \n",
       "23                       married_0  job_status_corr_private_sector   \n",
       "24           living_area_corr_city  job_status_corr_business_owner   \n",
       "25        smoker_status_non_smoker              smoker_status_quit   \n",
       "26     smoker_status_active_smoker        smoker_status_non_smoker   \n",
       "27              smoker_status_quit     smoker_status_active_smoker   \n",
       "28      job_status_corr_government      job_status_corr_government   \n",
       "29                             BMI                             BMI   \n",
       "30             average_blood_sugar             average_blood_sugar   \n",
       "31                        age_corr                        age_corr   \n",
       "\n",
       "                            ada                              gb  \\\n",
       "22      living_area_corr_remote                   very_high_BMI   \n",
       "23                       senior  job_status_corr_business_owner   \n",
       "24                          BMI                       married_1   \n",
       "25     smoker_status_non_smoker                          senior   \n",
       "26                    married_1                             BMI   \n",
       "27                   high_sugar      job_status_corr_government   \n",
       "28  smoker_status_active_smoker     smoker_status_active_smoker   \n",
       "29          average_blood_sugar              smoker_status_quit   \n",
       "30   job_status_corr_government             average_blood_sugar   \n",
       "31                     age_corr                        age_corr   \n",
       "\n",
       "                                et                             xgb  \n",
       "22                          senior                      medium_BMI  \n",
       "23  job_status_corr_private_sector  job_status_corr_private_sector  \n",
       "24                   very_high_BMI  job_status_corr_business_owner  \n",
       "25     smoker_status_active_smoker     smoker_status_active_smoker  \n",
       "26              smoker_status_quit      job_status_corr_government  \n",
       "27        smoker_status_non_smoker                   very_high_BMI  \n",
       "28                             BMI                       married_0  \n",
       "29             average_blood_sugar                         low_BMI  \n",
       "30                        age_corr              smoker_status_quit  \n",
       "31                         elderly                        age_corr  "
      ]
     },
     "execution_count": 17,
     "metadata": {},
     "output_type": "execute_result"
    }
   ],
   "source": [
    "clf_features_importance[-10:]"
   ]
  },
  {
   "cell_type": "code",
   "execution_count": 18,
   "metadata": {},
   "outputs": [
    {
     "data": {
      "text/plain": [
       "[('age_corr', 6),\n",
       " ('average_blood_sugar', 5),\n",
       " ('job_status_corr_government', 4),\n",
       " ('smoker_status_active_smoker', 3),\n",
       " ('smoker_status_quit', 3),\n",
       " ('BMI', 3),\n",
       " ('high_sugar', 1),\n",
       " ('smoker_status_non_smoker', 1),\n",
       " ('low_BMI', 1),\n",
       " ('married_0', 1),\n",
       " ('elderly', 1),\n",
       " ('very_high_BMI', 1)]"
      ]
     },
     "execution_count": 18,
     "metadata": {},
     "output_type": "execute_result"
    }
   ],
   "source": [
    "list(clf_features_importance[-5:].stack().value_counts().items())"
   ]
  },
  {
   "cell_type": "code",
   "execution_count": 19,
   "metadata": {},
   "outputs": [
    {
     "data": {
      "text/plain": [
       "['age_corr', 'smoker_status_active_smoker']"
      ]
     },
     "execution_count": 19,
     "metadata": {},
     "output_type": "execute_result"
    }
   ],
   "source": [
    "[key for key, val in clf_features_importance[-10:].stack().value_counts().items() if val == 6]"
   ]
  },
  {
   "cell_type": "markdown",
   "metadata": {},
   "source": [
    "We check up to the $i^{th}$ most important feature, and take the attributes present in all 6 models. "
   ]
  },
  {
   "cell_type": "code",
   "execution_count": 20,
   "metadata": {},
   "outputs": [],
   "source": [
    "tree_sc = []\n",
    "tree_iterations = list(range(5, 33))\n",
    "for i in tree_iterations:\n",
    "    tree_model_selected_features = [key for key, val in clf_features_importance[-i:].stack().value_counts().items() if val == 6]\n",
    "    clf = GradientBoostingRegressor()\n",
    "    score = np.mean(cross_val_score(clf, X_norm.loc[:, tree_model_selected_features], y, cv=5, scoring=\"roc_auc\"))\n",
    "    tree_sc.append(score)"
   ]
  },
  {
   "cell_type": "code",
   "execution_count": 21,
   "metadata": {},
   "outputs": [
    {
     "data": {
      "image/png": "[encoded data removed]",
      "text/plain": [
       "<Figure size 432x288 with 1 Axes>"
      ]
     },
     "metadata": {
      "needs_background": "light"
     },
     "output_type": "display_data"
    }
   ],
   "source": [
    "fig, axes = plt.subplots()\n",
    "sns.lineplot(tree_iterations, tree_sc, ax=axes)\n",
    "axes.set_xlabel(\"Iteration\")\n",
    "axes.set_ylabel(\"5-Fold CV score\")\n",
    "max_x_loc = tree_iterations[tree_sc.index(max(tree_sc))]\n",
    "max_y_loc = max(tree_sc)\n",
    "axes.annotate(\n",
    "    \"x: {}\\ny: {:.3f}\".format(max_x_loc, max_y_loc), xy=(max_x_loc, max_y_loc), xycoords=\"data\", \n",
    "    bbox=dict(boxstyle=\"round\", fc=\"none\", ec=\"gray\"),\n",
    "    xytext=(-15, -55), textcoords=\"offset points\", ha=\"center\", arrowprops=dict(arrowstyle=\"->\")\n",
    ")\n",
    "plt.show()"
   ]
  },
  {
   "cell_type": "code",
   "execution_count": 22,
   "metadata": {},
   "outputs": [
    {
     "data": {
      "text/plain": [
       "['job_status_corr_government',\n",
       " 'elderly',\n",
       " 'smoker_status_active_smoker',\n",
       " 'age_corr',\n",
       " 'low_sugar',\n",
       " 'very_high_BMI',\n",
       " 'senior',\n",
       " 'BMI',\n",
       " 'high_BMI',\n",
       " 'high_sugar',\n",
       " 'medium_BMI',\n",
       " 'medium_sugar',\n",
       " 'smoker_status_quit',\n",
       " 'smoker_status_non_smoker',\n",
       " 'married_0',\n",
       " 'job_status_corr_private_sector',\n",
       " 'average_blood_sugar',\n",
       " 'very_high_sugar']"
      ]
     },
     "execution_count": 22,
     "metadata": {},
     "output_type": "execute_result"
    }
   ],
   "source": [
    "tree_model_best_features = [key for key, val in clf_features_importance[-26:].stack().value_counts().items() if val == 6]\n",
    "tree_model_best_features"
   ]
  },
  {
   "cell_type": "markdown",
   "metadata": {},
   "source": [
    "<div class=\"alert alert-block alert-warning\">\n",
    "The important features are listed above. It is surprising that `elderly` is not on the list. However, `senior` is, which suggests that perhaps the effect of `elderly` is being masked by one of the other variables\n",
    "</div>"
   ]
  },
  {
   "cell_type": "markdown",
   "metadata": {},
   "source": [
    "### Linear Regression Based Models"
   ]
  },
  {
   "cell_type": "code",
   "execution_count": 23,
   "metadata": {},
   "outputs": [],
   "source": [
    "linear_based_models = {\n",
    "    \"en\": ElasticNet(),\n",
    "    \"hr\": HuberRegressor(),\n",
    "    \"lr\": LinearRegression(),\n",
    "    \"ridge\": Ridge(),\n",
    "    \"lasso\": Lasso(),\n",
    "    \"sgd\": SGDRegressor(), \n",
    "    \"pa\": PassiveAggressiveRegressor()\n",
    "}"
   ]
  },
  {
   "cell_type": "code",
   "execution_count": 24,
   "metadata": {},
   "outputs": [],
   "source": [
    "# train all the models at once\n",
    "for _, clf in linear_based_models.items():\n",
    "    clf.fit(X, y)"
   ]
  },
  {
   "cell_type": "raw",
   "metadata": {},
   "source": [
    "# to visualize the 20 most important features of each linear-based models\n",
    "fig, axes = plt.subplots(4, 2)\n",
    "fig.set_figheight(20)\n",
    "fig.set_figwidth(18)\n",
    "fig.subplots_adjust(hspace=0.7)\n",
    "count = 0\n",
    "for name, clf in linear_based_models.items():\n",
    "    row = count // 2\n",
    "    column = count % 2\n",
    "    sorted_feature_importance = generate_sorted_feature_importance(X.columns, np.abs(clf.coef_)) # noted here we use the absolute value of coefficient\n",
    "    plot_feature_importance(sorted_feature_importance, axes[row, column], name)\n",
    "    count += 1"
   ]
  },
  {
   "cell_type": "code",
   "execution_count": 25,
   "metadata": {},
   "outputs": [],
   "source": [
    "linear_sc = []\n",
    "linear_iteration = list(range(5, 33))\n",
    "for i in linear_iteration:\n",
    "    linear_model_selected_features = [key for key, val in clf_features_importance[-i:].stack().value_counts().items() if val == 6]\n",
    "    clf = LinearRegression()\n",
    "    score = np.mean(cross_val_score(clf, X.loc[:, linear_model_selected_features], y, cv=5, scoring=\"roc_auc\"))\n",
    "    linear_sc.append(score)"
   ]
  },
  {
   "cell_type": "code",
   "execution_count": 26,
   "metadata": {},
   "outputs": [
    {
     "data": {
      "text/plain": [
       "['senior',\n",
       " 'married_1',\n",
       " 'has_smoked',\n",
       " 'high_BP_1',\n",
       " 'smoker_status_active_smoker',\n",
       " 'age_corr',\n",
       " 'low_sugar',\n",
       " 'heart_condition_detected_2017_1',\n",
       " 'very_high_BMI',\n",
       " 'job_status_corr_business_owner',\n",
       " 'BMI',\n",
       " 'adult',\n",
       " 'high_BMI',\n",
       " 'high_sugar',\n",
       " 'living_area_corr_city',\n",
       " 'job_status_corr_government',\n",
       " 'job_status_corr_parental_leave',\n",
       " 'elderly',\n",
       " 'high_BP_0',\n",
       " 'low_BMI',\n",
       " 'smoker_status_non_smoker',\n",
       " 'married_0',\n",
       " 'child',\n",
       " 'medium_BMI',\n",
       " 'very_high_sugar',\n",
       " 'smoker_status_quit',\n",
       " 'living_area_corr_remote',\n",
       " 'average_blood_sugar',\n",
       " 'job_status_corr_private_sector',\n",
       " 'job_status_corr_unemployed',\n",
       " 'heart_condition_detected_2017_0',\n",
       " 'medium_sugar']"
      ]
     },
     "execution_count": 26,
     "metadata": {},
     "output_type": "execute_result"
    }
   ],
   "source": [
    "linear_model_selected_features"
   ]
  },
  {
   "cell_type": "code",
   "execution_count": 27,
   "metadata": {},
   "outputs": [
    {
     "data": {
      "image/png": "[encoded data removed]",
      "text/plain": [
       "<Figure size 432x288 with 1 Axes>"
      ]
     },
     "metadata": {
      "needs_background": "light"
     },
     "output_type": "display_data"
    }
   ],
   "source": [
    "fig, axes = plt.subplots()\n",
    "sns.lineplot(linear_iteration, linear_sc, ax=axes)\n",
    "axes.set_xlabel(\"Iteration\")\n",
    "axes.set_ylabel(\"5-Fold CV score\")\n",
    "max_x_loc = linear_iteration[linear_sc.index(max(linear_sc))]\n",
    "max_y_loc = max(linear_sc)\n",
    "axes.annotate(\n",
    "    \"x: {}\\ny: {:.2f}\".format(max_x_loc, max_y_loc), xy=(max_x_loc, max_y_loc), xycoords=\"data\", \n",
    "    bbox=dict(boxstyle=\"round\", fc=\"none\", ec=\"gray\"),\n",
    "    xytext=(5, -50), textcoords=\"offset points\", ha=\"center\", arrowprops=dict(arrowstyle=\"->\")\n",
    ")\n",
    "plt.show()"
   ]
  },
  {
   "cell_type": "code",
   "execution_count": 28,
   "metadata": {},
   "outputs": [
    {
     "data": {
      "text/plain": [
       "['senior',\n",
       " 'married_1',\n",
       " 'has_smoked',\n",
       " 'high_BP_1',\n",
       " 'smoker_status_active_smoker',\n",
       " 'age_corr',\n",
       " 'low_sugar',\n",
       " 'heart_condition_detected_2017_1',\n",
       " 'very_high_BMI',\n",
       " 'job_status_corr_business_owner',\n",
       " 'BMI',\n",
       " 'adult',\n",
       " 'high_BMI',\n",
       " 'high_sugar',\n",
       " 'living_area_corr_city',\n",
       " 'job_status_corr_government',\n",
       " 'job_status_corr_parental_leave',\n",
       " 'elderly',\n",
       " 'high_BP_0',\n",
       " 'low_BMI',\n",
       " 'smoker_status_non_smoker',\n",
       " 'married_0',\n",
       " 'child',\n",
       " 'medium_BMI',\n",
       " 'very_high_sugar',\n",
       " 'smoker_status_quit',\n",
       " 'living_area_corr_remote',\n",
       " 'average_blood_sugar',\n",
       " 'job_status_corr_private_sector',\n",
       " 'job_status_corr_unemployed',\n",
       " 'heart_condition_detected_2017_0',\n",
       " 'medium_sugar']"
      ]
     },
     "execution_count": 28,
     "metadata": {},
     "output_type": "execute_result"
    }
   ],
   "source": [
    "linear_model_selected_features"
   ]
  },
  {
   "cell_type": "code",
   "execution_count": 29,
   "metadata": {},
   "outputs": [
    {
     "data": {
      "text/plain": [
       "['age_corr']"
      ]
     },
     "execution_count": 29,
     "metadata": {},
     "output_type": "execute_result"
    }
   ],
   "source": [
    "linear_model_best_features = [key for key, val in clf_features_importance[-5:].stack().value_counts().items() if val == 6]\n",
    "linear_model_best_features\n"
   ]
  },
  {
   "cell_type": "markdown",
   "metadata": {},
   "source": [
    "<div class=\"alert alert-block alert-warning\">\n",
    "It appears that for linear regression models, `age_corr` is the only variable with strong predictive power. \n",
    "</div>"
   ]
  },
  {
   "cell_type": "markdown",
   "metadata": {},
   "source": [
    "### Finding the Best Model\n",
    "\n",
    "Now we take a cross-validation approach with both tree and linear models. We use stratified CV to ensure that the ratio of classes are balanced. "
   ]
  },
  {
   "cell_type": "code",
   "execution_count": 30,
   "metadata": {},
   "outputs": [],
   "source": [
    "client = Client()\n",
    "kf = StratifiedKFold(n_splits=5, random_state=99)"
   ]
  },
  {
   "cell_type": "code",
   "execution_count": 31,
   "metadata": {},
   "outputs": [],
   "source": [
    "def get_cv_score(clf, X, y, kf):\n",
    "    cv_scores = []\n",
    "    with parallel_backend(\"dask\"):\n",
    "        for _, (train_index, test_index) in enumerate(kf.split(X, y)):\n",
    "            train_X, train_y = X.loc[train_index], y[train_index] \n",
    "            test_X, test_y = X.loc[test_index], y[test_index]\n",
    "\n",
    "            clf.fit(train_X, train_y)\n",
    "            y_pred = clf.predict(test_X)\n",
    "            score = roc_auc_score(test_y, y_pred)\n",
    "            cv_scores.append(score)\n",
    "        return np.mean(cv_scores)"
   ]
  },
  {
   "cell_type": "code",
   "execution_count": 32,
   "metadata": {},
   "outputs": [
    {
     "name": "stdout",
     "output_type": "stream",
     "text": [
      "[06:18:17] WARNING: src/objective/regression_obj.cu:152: reg:linear is now deprecated in favor of reg:squarederror.\n",
      "[06:18:22] WARNING: src/objective/regression_obj.cu:152: reg:linear is now deprecated in favor of reg:squarederror.\n",
      "[06:18:27] WARNING: src/objective/regression_obj.cu:152: reg:linear is now deprecated in favor of reg:squarederror.\n",
      "[06:18:32] WARNING: src/objective/regression_obj.cu:152: reg:linear is now deprecated in favor of reg:squarederror.\n",
      "[06:18:37] WARNING: src/objective/regression_obj.cu:152: reg:linear is now deprecated in favor of reg:squarederror.\n"
     ]
    }
   ],
   "source": [
    "tree_cv_scores_norm = []\n",
    "for _, clf in tree_based_models.items():\n",
    "    cv_score_norm = get_cv_score(clf, X_norm.loc[:, tree_model_best_features], y, kf)\n",
    "    tree_cv_scores_norm.append(cv_score_norm)"
   ]
  },
  {
   "cell_type": "code",
   "execution_count": 33,
   "metadata": {},
   "outputs": [
    {
     "data": {
      "text/html": [
       "<div>\n",
       "<style scoped>\n",
       "    .dataframe tbody tr th:only-of-type {\n",
       "        vertical-align: middle;\n",
       "    }\n",
       "\n",
       "    .dataframe tbody tr th {\n",
       "        vertical-align: top;\n",
       "    }\n",
       "\n",
       "    .dataframe thead th {\n",
       "        text-align: right;\n",
       "    }\n",
       "</style>\n",
       "<table border=\"1\" class=\"dataframe\">\n",
       "  <thead>\n",
       "    <tr style=\"text-align: right;\">\n",
       "      <th></th>\n",
       "      <th>classifiers</th>\n",
       "      <th>CV score</th>\n",
       "    </tr>\n",
       "  </thead>\n",
       "  <tbody>\n",
       "    <tr>\n",
       "      <th>2</th>\n",
       "      <td>ada</td>\n",
       "      <td>0.876522</td>\n",
       "    </tr>\n",
       "    <tr>\n",
       "      <th>0</th>\n",
       "      <td>dt</td>\n",
       "      <td>0.912983</td>\n",
       "    </tr>\n",
       "    <tr>\n",
       "      <th>5</th>\n",
       "      <td>xgb</td>\n",
       "      <td>0.941972</td>\n",
       "    </tr>\n",
       "    <tr>\n",
       "      <th>3</th>\n",
       "      <td>gb</td>\n",
       "      <td>0.942178</td>\n",
       "    </tr>\n",
       "    <tr>\n",
       "      <th>4</th>\n",
       "      <td>et</td>\n",
       "      <td>0.969629</td>\n",
       "    </tr>\n",
       "    <tr>\n",
       "      <th>1</th>\n",
       "      <td>rf</td>\n",
       "      <td>0.974774</td>\n",
       "    </tr>\n",
       "  </tbody>\n",
       "</table>\n",
       "</div>"
      ],
      "text/plain": [
       "  classifiers  CV score\n",
       "2         ada  0.876522\n",
       "0          dt  0.912983\n",
       "5         xgb  0.941972\n",
       "3          gb  0.942178\n",
       "4          et  0.969629\n",
       "1          rf  0.974774"
      ]
     },
     "execution_count": 33,
     "metadata": {},
     "output_type": "execute_result"
    }
   ],
   "source": [
    "pd.DataFrame({\"classifiers\": list(tree_based_models.keys()), \n",
    "              \"CV score\": tree_cv_scores_norm}).sort_values(\"CV score\")"
   ]
  },
  {
   "cell_type": "code",
   "execution_count": 34,
   "metadata": {},
   "outputs": [
    {
     "name": "stdout",
     "output_type": "stream",
     "text": [
      "[06:19:54] WARNING: src/objective/regression_obj.cu:152: reg:linear is now deprecated in favor of reg:squarederror.\n",
      "[06:19:59] WARNING: src/objective/regression_obj.cu:152: reg:linear is now deprecated in favor of reg:squarederror.\n",
      "[06:20:04] WARNING: src/objective/regression_obj.cu:152: reg:linear is now deprecated in favor of reg:squarederror.\n",
      "[06:20:09] WARNING: src/objective/regression_obj.cu:152: reg:linear is now deprecated in favor of reg:squarederror.\n",
      "[06:20:14] WARNING: src/objective/regression_obj.cu:152: reg:linear is now deprecated in favor of reg:squarederror.\n"
     ]
    }
   ],
   "source": [
    "tree_cv_scores = []\n",
    "for _, clf in tree_based_models.items():\n",
    "    cv_score = get_cv_score(clf, X.loc[:, tree_model_best_features], y, kf)\n",
    "    tree_cv_scores.append(cv_score)"
   ]
  },
  {
   "cell_type": "code",
   "execution_count": 35,
   "metadata": {},
   "outputs": [
    {
     "data": {
      "text/html": [
       "<div>\n",
       "<style scoped>\n",
       "    .dataframe tbody tr th:only-of-type {\n",
       "        vertical-align: middle;\n",
       "    }\n",
       "\n",
       "    .dataframe tbody tr th {\n",
       "        vertical-align: top;\n",
       "    }\n",
       "\n",
       "    .dataframe thead th {\n",
       "        text-align: right;\n",
       "    }\n",
       "</style>\n",
       "<table border=\"1\" class=\"dataframe\">\n",
       "  <thead>\n",
       "    <tr style=\"text-align: right;\">\n",
       "      <th></th>\n",
       "      <th>classifiers</th>\n",
       "      <th>CV score</th>\n",
       "    </tr>\n",
       "  </thead>\n",
       "  <tbody>\n",
       "    <tr>\n",
       "      <th>2</th>\n",
       "      <td>ada</td>\n",
       "      <td>0.876508</td>\n",
       "    </tr>\n",
       "    <tr>\n",
       "      <th>0</th>\n",
       "      <td>dt</td>\n",
       "      <td>0.912528</td>\n",
       "    </tr>\n",
       "    <tr>\n",
       "      <th>5</th>\n",
       "      <td>xgb</td>\n",
       "      <td>0.941972</td>\n",
       "    </tr>\n",
       "    <tr>\n",
       "      <th>3</th>\n",
       "      <td>gb</td>\n",
       "      <td>0.942175</td>\n",
       "    </tr>\n",
       "    <tr>\n",
       "      <th>4</th>\n",
       "      <td>et</td>\n",
       "      <td>0.969656</td>\n",
       "    </tr>\n",
       "    <tr>\n",
       "      <th>1</th>\n",
       "      <td>rf</td>\n",
       "      <td>0.973446</td>\n",
       "    </tr>\n",
       "  </tbody>\n",
       "</table>\n",
       "</div>"
      ],
      "text/plain": [
       "  classifiers  CV score\n",
       "2         ada  0.876508\n",
       "0          dt  0.912528\n",
       "5         xgb  0.941972\n",
       "3          gb  0.942175\n",
       "4          et  0.969656\n",
       "1          rf  0.973446"
      ]
     },
     "execution_count": 35,
     "metadata": {},
     "output_type": "execute_result"
    }
   ],
   "source": [
    "pd.DataFrame({\"classifiers\": list(tree_based_models.keys()), \n",
    "              \"CV score\": tree_cv_scores}).sort_values(\"CV score\")"
   ]
  },
  {
   "cell_type": "markdown",
   "metadata": {},
   "source": [
    "Because linear regression only chooses 1 feature, we're going to use all of them. It appears that using more features gives better results in this case"
   ]
  },
  {
   "cell_type": "code",
   "execution_count": 36,
   "metadata": {},
   "outputs": [],
   "source": [
    "linear_cv_scores = []\n",
    "for _, clf in linear_based_models.items():\n",
    "    cv_score = get_cv_score(clf, X.loc[:, linear_model_selected_features], y, kf)\n",
    "    linear_cv_scores.append(cv_score)"
   ]
  },
  {
   "cell_type": "code",
   "execution_count": 37,
   "metadata": {
    "scrolled": false
   },
   "outputs": [
    {
     "data": {
      "text/html": [
       "<div>\n",
       "<style scoped>\n",
       "    .dataframe tbody tr th:only-of-type {\n",
       "        vertical-align: middle;\n",
       "    }\n",
       "\n",
       "    .dataframe tbody tr th {\n",
       "        vertical-align: top;\n",
       "    }\n",
       "\n",
       "    .dataframe thead th {\n",
       "        text-align: right;\n",
       "    }\n",
       "</style>\n",
       "<table border=\"1\" class=\"dataframe\">\n",
       "  <thead>\n",
       "    <tr style=\"text-align: right;\">\n",
       "      <th></th>\n",
       "      <th>classifiers</th>\n",
       "      <th>CV score</th>\n",
       "    </tr>\n",
       "  </thead>\n",
       "  <tbody>\n",
       "    <tr>\n",
       "      <th>5</th>\n",
       "      <td>sgd</td>\n",
       "      <td>0.528992</td>\n",
       "    </tr>\n",
       "    <tr>\n",
       "      <th>1</th>\n",
       "      <td>hr</td>\n",
       "      <td>0.811346</td>\n",
       "    </tr>\n",
       "    <tr>\n",
       "      <th>0</th>\n",
       "      <td>en</td>\n",
       "      <td>0.857939</td>\n",
       "    </tr>\n",
       "    <tr>\n",
       "      <th>4</th>\n",
       "      <td>lasso</td>\n",
       "      <td>0.858239</td>\n",
       "    </tr>\n",
       "    <tr>\n",
       "      <th>6</th>\n",
       "      <td>pa</td>\n",
       "      <td>0.865322</td>\n",
       "    </tr>\n",
       "    <tr>\n",
       "      <th>2</th>\n",
       "      <td>lr</td>\n",
       "      <td>0.894992</td>\n",
       "    </tr>\n",
       "    <tr>\n",
       "      <th>3</th>\n",
       "      <td>ridge</td>\n",
       "      <td>0.895001</td>\n",
       "    </tr>\n",
       "  </tbody>\n",
       "</table>\n",
       "</div>"
      ],
      "text/plain": [
       "  classifiers  CV score\n",
       "5         sgd  0.528992\n",
       "1          hr  0.811346\n",
       "0          en  0.857939\n",
       "4       lasso  0.858239\n",
       "6          pa  0.865322\n",
       "2          lr  0.894992\n",
       "3       ridge  0.895001"
      ]
     },
     "execution_count": 37,
     "metadata": {},
     "output_type": "execute_result"
    }
   ],
   "source": [
    "pd.DataFrame({\"classifiers\": list(linear_based_models.keys()), \n",
    "              \"CV score\": linear_cv_scores}).sort_values(\"CV score\")"
   ]
  },
  {
   "cell_type": "code",
   "execution_count": 38,
   "metadata": {},
   "outputs": [],
   "source": [
    "other_cv_scores = []\n",
    "for _, clf in other_models.items():\n",
    "    cv_score = get_cv_score(clf, X.loc[:, linear_model_selected_features], y, kf)\n",
    "    other_cv_scores.append(cv_score)"
   ]
  },
  {
   "cell_type": "code",
   "execution_count": 39,
   "metadata": {},
   "outputs": [
    {
     "data": {
      "text/html": [
       "<div>\n",
       "<style scoped>\n",
       "    .dataframe tbody tr th:only-of-type {\n",
       "        vertical-align: middle;\n",
       "    }\n",
       "\n",
       "    .dataframe tbody tr th {\n",
       "        vertical-align: top;\n",
       "    }\n",
       "\n",
       "    .dataframe thead th {\n",
       "        text-align: right;\n",
       "    }\n",
       "</style>\n",
       "<table border=\"1\" class=\"dataframe\">\n",
       "  <thead>\n",
       "    <tr style=\"text-align: right;\">\n",
       "      <th></th>\n",
       "      <th>classifiers</th>\n",
       "      <th>CV score</th>\n",
       "    </tr>\n",
       "  </thead>\n",
       "  <tbody>\n",
       "    <tr>\n",
       "      <th>1</th>\n",
       "      <td>log</td>\n",
       "      <td>0.681148</td>\n",
       "    </tr>\n",
       "    <tr>\n",
       "      <th>0</th>\n",
       "      <td>knn</td>\n",
       "      <td>0.896319</td>\n",
       "    </tr>\n",
       "  </tbody>\n",
       "</table>\n",
       "</div>"
      ],
      "text/plain": [
       "  classifiers  CV score\n",
       "1         log  0.681148\n",
       "0         knn  0.896319"
      ]
     },
     "execution_count": 39,
     "metadata": {},
     "output_type": "execute_result"
    }
   ],
   "source": [
    "pd.DataFrame({\"classifiers\": list(other_models.keys()), \n",
    "              \"CV score\": other_cv_scores}).sort_values(\"CV score\")"
   ]
  },
  {
   "cell_type": "code",
   "execution_count": null,
   "metadata": {},
   "outputs": [],
   "source": []
  },
  {
   "cell_type": "code",
   "execution_count": null,
   "metadata": {},
   "outputs": [],
   "source": []
  },
  {
   "cell_type": "markdown",
   "metadata": {},
   "source": [
    "### Stacking the Model"
   ]
  },
  {
   "cell_type": "code",
   "execution_count": 40,
   "metadata": {},
   "outputs": [],
   "source": [
    "from copy import deepcopy\n",
    "\n",
    "class StackingRegressor:\n",
    "    def __init__(self, models, second_model, features):\n",
    "        self.models = models\n",
    "        self.feature_models = []\n",
    "        self.second_model = second_model\n",
    "        self.features = features\n",
    "    \n",
    "    def _generate_f_features(self, X):\n",
    "        f_features = np.zeros((X.shape[0], len(self.features) * len(self.models)))\n",
    "        for num, features in enumerate(self.features * len(self.models)):\n",
    "            model = self.feature_models[num]\n",
    "            f_features[:, num] = model.predict(X.loc[:, features[1]])\n",
    "        return f_features\n",
    "    \n",
    "    def fit(self, X, y):\n",
    "        # generate multiple trained models with different features\n",
    "        for model in self.models:\n",
    "            for feature in self.features:\n",
    "                model.fit(X.loc[:, feature[1]], y)\n",
    "                self.feature_models.append(deepcopy(model))\n",
    "        f_features = self._generate_f_features(X)\n",
    "        self.second_model.fit(f_features, y)\n",
    "    \n",
    "    def predict(self, X):\n",
    "        f_features = self._generate_f_features(X)\n",
    "        return self.second_model.predict(f_features)"
   ]
  },
  {
   "cell_type": "code",
   "execution_count": 41,
   "metadata": {},
   "outputs": [],
   "source": [
    "features = [\n",
    "    (\"tree\", tree_model_best_features),\n",
    "    (\"linear\", linear_model_selected_features)\n",
    "]"
   ]
  },
  {
   "cell_type": "code",
   "execution_count": 42,
   "metadata": {},
   "outputs": [
    {
     "name": "stdout",
     "output_type": "stream",
     "text": [
      "[06:22:35] WARNING: src/objective/regression_obj.cu:152: reg:linear is now deprecated in favor of reg:squarederror.\n",
      "[06:23:12] WARNING: src/objective/regression_obj.cu:152: reg:linear is now deprecated in favor of reg:squarederror.\n",
      "[06:23:49] WARNING: src/objective/regression_obj.cu:152: reg:linear is now deprecated in favor of reg:squarederror.\n",
      "[06:24:28] WARNING: src/objective/regression_obj.cu:152: reg:linear is now deprecated in favor of reg:squarederror.\n",
      "[06:25:04] WARNING: src/objective/regression_obj.cu:152: reg:linear is now deprecated in favor of reg:squarederror.\n",
      "0.9679642000044912\n"
     ]
    }
   ],
   "source": [
    "print(get_cv_score(StackingRegressor([\n",
    "                    GradientBoostingRegressor(), RandomForestRegressor(), AdaBoostRegressor(),\n",
    "                    ElasticNet(), Ridge(), Lasso()], \n",
    "    XGBRegressor(), features), X_norm, y, kf)\n",
    "     )"
   ]
  },
  {
   "cell_type": "code",
   "execution_count": 43,
   "metadata": {},
   "outputs": [
    {
     "name": "stdout",
     "output_type": "stream",
     "text": [
      "[06:25:44] WARNING: src/objective/regression_obj.cu:152: reg:linear is now deprecated in favor of reg:squarederror.\n",
      "[06:26:18] WARNING: src/objective/regression_obj.cu:152: reg:linear is now deprecated in favor of reg:squarederror.\n",
      "[06:26:53] WARNING: src/objective/regression_obj.cu:152: reg:linear is now deprecated in favor of reg:squarederror.\n",
      "[06:27:27] WARNING: src/objective/regression_obj.cu:152: reg:linear is now deprecated in favor of reg:squarederror.\n",
      "[06:28:05] WARNING: src/objective/regression_obj.cu:152: reg:linear is now deprecated in favor of reg:squarederror.\n",
      "0.9699830890558829\n"
     ]
    }
   ],
   "source": [
    "print(get_cv_score(StackingRegressor([\n",
    "                    GradientBoostingRegressor(), RandomForestRegressor(), AdaBoostRegressor(),\n",
    "            ], \n",
    "    XGBRegressor(), features), X_norm, y, kf)\n",
    "     )"
   ]
  },
  {
   "cell_type": "code",
   "execution_count": 44,
   "metadata": {},
   "outputs": [
    {
     "name": "stdout",
     "output_type": "stream",
     "text": [
      "[06:28:43] WARNING: src/objective/regression_obj.cu:152: reg:linear is now deprecated in favor of reg:squarederror.\n",
      "[06:29:26] WARNING: src/objective/regression_obj.cu:152: reg:linear is now deprecated in favor of reg:squarederror.\n",
      "[06:30:08] WARNING: src/objective/regression_obj.cu:152: reg:linear is now deprecated in favor of reg:squarederror.\n",
      "[06:30:49] WARNING: src/objective/regression_obj.cu:152: reg:linear is now deprecated in favor of reg:squarederror.\n",
      "[06:31:34] WARNING: src/objective/regression_obj.cu:152: reg:linear is now deprecated in favor of reg:squarederror.\n",
      "0.971535069505693\n"
     ]
    }
   ],
   "source": [
    "print(get_cv_score(StackingRegressor([\n",
    "                    GradientBoostingRegressor(), RandomForestRegressor(), AdaBoostRegressor(),\n",
    "                    Lasso(), LinearRegression(), Ridge(),\n",
    "                    \n",
    "            ], \n",
    "    XGBRegressor(), features), X_norm, y, kf)\n",
    "     )"
   ]
  },
  {
   "cell_type": "code",
   "execution_count": 45,
   "metadata": {},
   "outputs": [
    {
     "name": "stdout",
     "output_type": "stream",
     "text": [
      "[06:32:10] WARNING: src/objective/regression_obj.cu:152: reg:linear is now deprecated in favor of reg:squarederror.\n",
      "[06:32:46] WARNING: src/objective/regression_obj.cu:152: reg:linear is now deprecated in favor of reg:squarederror.\n",
      "[06:33:25] WARNING: src/objective/regression_obj.cu:152: reg:linear is now deprecated in favor of reg:squarederror.\n",
      "[06:34:02] WARNING: src/objective/regression_obj.cu:152: reg:linear is now deprecated in favor of reg:squarederror.\n",
      "[06:34:39] WARNING: src/objective/regression_obj.cu:152: reg:linear is now deprecated in favor of reg:squarederror.\n",
      "0.9765029593276114\n"
     ]
    }
   ],
   "source": [
    "print(get_cv_score(StackingRegressor([\n",
    "                    GradientBoostingRegressor(), RandomForestRegressor(),\n",
    "                    Lasso(), LinearRegression(), PassiveAggressiveRegressor()\n",
    "            ], \n",
    "    XGBRegressor(), features), X_norm, y, kf)\n",
    "     )"
   ]
  },
  {
   "cell_type": "code",
   "execution_count": 46,
   "metadata": {},
   "outputs": [
    {
     "name": "stdout",
     "output_type": "stream",
     "text": [
      "[06:35:17] WARNING: src/objective/regression_obj.cu:152: reg:linear is now deprecated in favor of reg:squarederror.\n",
      "[06:35:54] WARNING: src/objective/regression_obj.cu:152: reg:linear is now deprecated in favor of reg:squarederror.\n",
      "[06:36:34] WARNING: src/objective/regression_obj.cu:152: reg:linear is now deprecated in favor of reg:squarederror.\n",
      "[06:37:15] WARNING: src/objective/regression_obj.cu:152: reg:linear is now deprecated in favor of reg:squarederror.\n",
      "[06:37:56] WARNING: src/objective/regression_obj.cu:152: reg:linear is now deprecated in favor of reg:squarederror.\n",
      "0.971045027483503\n"
     ]
    }
   ],
   "source": [
    "print(get_cv_score(StackingRegressor([\n",
    "                    GradientBoostingRegressor(), RandomForestRegressor(), ExtraTreesRegressor(), \n",
    "                    Lasso(), LinearRegression(), PassiveAggressiveRegressor()\n",
    "            ], \n",
    "    XGBRegressor(), features), X_norm, y, kf)\n",
    "     )"
   ]
  },
  {
   "cell_type": "raw",
   "metadata": {},
   "source": [
    "print(get_cv_score(StackingRegressor([\n",
    "                    GradientBoostingRegressor(), RandomForestRegressor(), ExtraTreesRegressor(), \n",
    "                    Lasso(), LinearRegression(), Ridge(),\n",
    "                    KNeighborsClassifier(n_neighbors=3, algorithm='ball_tree'),\n",
    "            ], \n",
    "    XGBRegressor(), features), X_norm, y, kf)\n",
    "     )\n"
   ]
  },
  {
   "cell_type": "raw",
   "metadata": {},
   "source": [
    "print(get_cv_score(StackingRegressor([\n",
    "                    GradientBoostingRegressor(), RandomForestRegressor(), ExtraTreesRegressor(), \n",
    "                    Lasso(), LinearRegression(), Ridge(),\n",
    "                    LogisticRegression(random_state=0, solver='lbfgs', multi_class='auto')\n",
    "            ], \n",
    "    XGBRegressor(), features), X_norm, y, kf)\n",
    "     )"
   ]
  },
  {
   "cell_type": "raw",
   "metadata": {},
   "source": [
    "# print(get_cv_score(StackingRegressor([\n",
    "#                     GradientBoostingRegressor(), RandomForestRegressor(),\n",
    "#                     Lasso(), LinearRegression(), PassiveAggressiveRegressor()\n",
    "#             ], \n",
    "#     XGBRegressor(), features), X_norm, y, kf)\n",
    "#      )\n",
    "\n",
    "print(get_cv_score(StackingRegressor([\n",
    "                    GradientBoostingRegressor(), RandomForestRegressor(), ExtraTreesRegressor(), \n",
    "                    Lasso(), LinearRegression(), Ridge(),\n",
    "                    KNeighborsClassifier(n_neighbors=3, algorithm='ball_tree'),\n",
    "                    LogisticRegression(random_state=0, solver='lbfgs', multi_class='auto')\n",
    "            ], \n",
    "    XGBRegressor(), features), X_norm, y, kf)\n",
    "     )\n",
    "\n",
    "# print(get_cv_score(StackingRegressor([\n",
    "#                     GradientBoostingRegressor(), RandomForestRegressor(), \n",
    "#                     Lasso(), LinearRegression(), PassiveAggressiveRegressor()\n",
    "#             ], \n",
    "#     XGBRegressor(), features), X_norm, y, kf)\n",
    "#      )"
   ]
  },
  {
   "cell_type": "code",
   "execution_count": 47,
   "metadata": {},
   "outputs": [
    {
     "name": "stdout",
     "output_type": "stream",
     "text": [
      "[06:38:09] WARNING: src/objective/regression_obj.cu:152: reg:linear is now deprecated in favor of reg:squarederror.\n",
      "[06:38:19] WARNING: src/objective/regression_obj.cu:152: reg:linear is now deprecated in favor of reg:squarederror.\n",
      "[06:38:30] WARNING: src/objective/regression_obj.cu:152: reg:linear is now deprecated in favor of reg:squarederror.\n",
      "[06:38:41] WARNING: src/objective/regression_obj.cu:152: reg:linear is now deprecated in favor of reg:squarederror.\n",
      "[06:38:52] WARNING: src/objective/regression_obj.cu:152: reg:linear is now deprecated in favor of reg:squarederror.\n"
     ]
    },
    {
     "data": {
      "text/plain": [
       "0.9702723093949037"
      ]
     },
     "execution_count": 47,
     "metadata": {},
     "output_type": "execute_result"
    }
   ],
   "source": [
    "get_cv_score(StackingRegressor([\n",
    "                    ExtraTreesRegressor(), RandomForestRegressor(), \n",
    "                    Lasso(), Ridge()\n",
    "            ], \n",
    "    XGBRegressor(), features), X_norm, y, kf)"
   ]
  },
  {
   "cell_type": "code",
   "execution_count": 48,
   "metadata": {},
   "outputs": [],
   "source": [
    "best_models = [\n",
    "    GradientBoostingRegressor(), RandomForestRegressor(),\n",
    "    Lasso(), LinearRegression(), \n",
    "    KNeighborsClassifier(n_neighbors=3, algorithm='ball_tree'),\n",
    "    LogisticRegression(random_state=0, solver='lbfgs', multi_class='auto')\n",
    "]"
   ]
  },
  {
   "cell_type": "markdown",
   "metadata": {},
   "source": [
    "### Visualising the ROC Curve\n",
    "\n",
    "We do a simple split and train on the optimal model we found from above and check the ROC curve."
   ]
  },
  {
   "cell_type": "code",
   "execution_count": 49,
   "metadata": {
    "scrolled": true
   },
   "outputs": [],
   "source": [
    "X_train, X_test, y_train, y_test = train_test_split(X_norm, y, test_size=0.3)"
   ]
  },
  {
   "cell_type": "code",
   "execution_count": 50,
   "metadata": {},
   "outputs": [],
   "source": [
    "sr = StackingRegressor(best_models, GradientBoostingRegressor(), features)\n",
    "sr.fit(X_train, y_train) # this was created in section 1.5.1\n",
    "pred_y = sr.predict(X_test)"
   ]
  },
  {
   "cell_type": "code",
   "execution_count": 51,
   "metadata": {},
   "outputs": [
    {
     "data": {
      "text/plain": [
       "array([-2.21066574e-04,  8.42966582e-05, -4.88398196e-06, ...,\n",
       "       -4.88398196e-06, -4.88398196e-06,  2.25617683e-03])"
      ]
     },
     "execution_count": 51,
     "metadata": {},
     "output_type": "execute_result"
    }
   ],
   "source": [
    "pred_y"
   ]
  },
  {
   "cell_type": "code",
   "execution_count": 52,
   "metadata": {},
   "outputs": [
    {
     "data": {
      "text/plain": [
       "<matplotlib.axes._subplots.AxesSubplot at 0x12643c390>"
      ]
     },
     "execution_count": 52,
     "metadata": {},
     "output_type": "execute_result"
    },
    {
     "data": {
      "image/png": "[encoded data removed]",
      "text/plain": [
       "<Figure size 432x288 with 1 Axes>"
      ]
     },
     "metadata": {
      "needs_background": "light"
     },
     "output_type": "display_data"
    }
   ],
   "source": [
    "sns.distplot(pred_y, kde = False, bins = 100, color = \"green\")"
   ]
  },
  {
   "cell_type": "code",
   "execution_count": 53,
   "metadata": {
    "scrolled": true
   },
   "outputs": [
    {
     "ename": "NameError",
     "evalue": "name 'test_y' is not defined",
     "output_type": "error",
     "traceback": [
      "\u001b[0;31m---------------------------------------------------------------------------\u001b[0m",
      "\u001b[0;31mNameError\u001b[0m                                 Traceback (most recent call last)",
      "\u001b[0;32m<ipython-input-53-3ce8f16947a9>\u001b[0m in \u001b[0;36m<module>\u001b[0;34m\u001b[0m\n\u001b[1;32m      4\u001b[0m \u001b[0mfig\u001b[0m\u001b[0;34m.\u001b[0m\u001b[0mset_figheight\u001b[0m\u001b[0;34m(\u001b[0m\u001b[0;36m8\u001b[0m\u001b[0;34m)\u001b[0m\u001b[0;34m\u001b[0m\u001b[0;34m\u001b[0m\u001b[0m\n\u001b[1;32m      5\u001b[0m \u001b[0mfig\u001b[0m\u001b[0;34m.\u001b[0m\u001b[0mset_figwidth\u001b[0m\u001b[0;34m(\u001b[0m\u001b[0;36m15\u001b[0m\u001b[0;34m)\u001b[0m\u001b[0;34m\u001b[0m\u001b[0;34m\u001b[0m\u001b[0m\n\u001b[0;32m----> 6\u001b[0;31m \u001b[0mskplt\u001b[0m\u001b[0;34m.\u001b[0m\u001b[0mmetrics\u001b[0m\u001b[0;34m.\u001b[0m\u001b[0mplot_roc\u001b[0m\u001b[0;34m(\u001b[0m\u001b[0mtest_y\u001b[0m\u001b[0;34m,\u001b[0m \u001b[0mnp\u001b[0m\u001b[0;34m.\u001b[0m\u001b[0mcolumn_stack\u001b[0m\u001b[0;34m(\u001b[0m\u001b[0;34m(\u001b[0m\u001b[0;36m1\u001b[0m\u001b[0;34m-\u001b[0m\u001b[0mpred_y\u001b[0m\u001b[0;34m,\u001b[0m \u001b[0mpred_y\u001b[0m\u001b[0;34m)\u001b[0m\u001b[0;34m)\u001b[0m\u001b[0;34m,\u001b[0m \u001b[0mplot_macro\u001b[0m\u001b[0;34m=\u001b[0m\u001b[0;32mFalse\u001b[0m\u001b[0;34m,\u001b[0m \u001b[0mplot_micro\u001b[0m\u001b[0;34m=\u001b[0m\u001b[0;32mFalse\u001b[0m\u001b[0;34m,\u001b[0m \u001b[0max\u001b[0m\u001b[0;34m=\u001b[0m\u001b[0maxes\u001b[0m\u001b[0;34m[\u001b[0m\u001b[0;36m0\u001b[0m\u001b[0;34m]\u001b[0m\u001b[0;34m)\u001b[0m\u001b[0;34m\u001b[0m\u001b[0;34m\u001b[0m\u001b[0m\n\u001b[0m\u001b[1;32m      7\u001b[0m \u001b[0mskplt\u001b[0m\u001b[0;34m.\u001b[0m\u001b[0mmetrics\u001b[0m\u001b[0;34m.\u001b[0m\u001b[0mplot_precision_recall\u001b[0m\u001b[0;34m(\u001b[0m\u001b[0mtest_y\u001b[0m\u001b[0;34m,\u001b[0m \u001b[0mnp\u001b[0m\u001b[0;34m.\u001b[0m\u001b[0mcolumn_stack\u001b[0m\u001b[0;34m(\u001b[0m\u001b[0;34m(\u001b[0m\u001b[0;36m1\u001b[0m\u001b[0;34m-\u001b[0m\u001b[0mpred_y\u001b[0m\u001b[0;34m,\u001b[0m \u001b[0mpred_y\u001b[0m\u001b[0;34m)\u001b[0m\u001b[0;34m)\u001b[0m\u001b[0;34m,\u001b[0m \u001b[0mplot_micro\u001b[0m\u001b[0;34m=\u001b[0m\u001b[0;32mFalse\u001b[0m\u001b[0;34m,\u001b[0m \u001b[0max\u001b[0m\u001b[0;34m=\u001b[0m\u001b[0maxes\u001b[0m\u001b[0;34m[\u001b[0m\u001b[0;36m1\u001b[0m\u001b[0;34m]\u001b[0m\u001b[0;34m)\u001b[0m\u001b[0;34m\u001b[0m\u001b[0;34m\u001b[0m\u001b[0m\n",
      "\u001b[0;31mNameError\u001b[0m: name 'test_y' is not defined"
     ]
    },
    {
     "data": {
      "image/png": "[encoded data removed]",
      "text/plain": [
       "<Figure size 1080x576 with 2 Axes>"
      ]
     },
     "metadata": {
      "needs_background": "light"
     },
     "output_type": "display_data"
    }
   ],
   "source": [
    "import scikitplot as skplt\n",
    "\n",
    "fig, axes = plt.subplots(1, 2)\n",
    "fig.set_figheight(8)\n",
    "fig.set_figwidth(15)\n",
    "skplt.metrics.plot_roc(test_y, np.column_stack((1-pred_y, pred_y)), plot_macro=False, plot_micro=False, ax=axes[0])\n",
    "skplt.metrics.plot_precision_recall(test_y, np.column_stack((1-pred_y, pred_y)), plot_micro=False, ax=axes[1])"
   ]
  },
  {
   "cell_type": "code",
   "execution_count": null,
   "metadata": {},
   "outputs": [],
   "source": [
    "y_result = np.where(y_test > 0.5, 1, 0)\n",
    "print(classification_report(y_test, y_result, digits=3))"
   ]
  },
  {
   "cell_type": "code",
   "execution_count": null,
   "metadata": {},
   "outputs": [],
   "source": [
    "skplt.metrics.plot_confusion_matrix(test_y, y_result)"
   ]
  },
  {
   "cell_type": "markdown",
   "metadata": {},
   "source": [
    "### Sandbox Code\n",
    "\n",
    "code below was for experimentation and may break if you run itm"
   ]
  }
 ],
 "metadata": {
  "kernelspec": {
   "display_name": "Python 3",
   "language": "python",
   "name": "python3"
  },
  "language_info": {
   "codemirror_mode": {
    "name": "ipython",
    "version": 3
   },
   "file_extension": ".py",
   "mimetype": "text/x-python",
   "name": "python",
   "nbconvert_exporter": "python",
   "pygments_lexer": "ipython3",
   "version": "3.7.3"
  }
 },
 "nbformat": 4,
 "nbformat_minor": 2
}
