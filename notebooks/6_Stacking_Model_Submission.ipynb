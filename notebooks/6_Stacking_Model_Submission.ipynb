{
 "cells": [
  {
   "cell_type": "code",
   "execution_count": 1,
   "metadata": {},
   "outputs": [
    {
     "name": "stderr",
     "output_type": "stream",
     "text": [
      "/usr/local/lib/python3.7/site-packages/sklearn/externals/joblib/__init__.py:15: DeprecationWarning: sklearn.externals.joblib is deprecated in 0.21 and will be removed in 0.23. Please import this functionality directly from joblib, which can be installed with: pip install joblib. If this warning is raised when loading pickled models, you may need to re-serialize those models with scikit-learn 0.21+.\n",
      "  warnings.warn(msg, category=DeprecationWarning)\n"
     ]
    }
   ],
   "source": [
    "import pandas as pd\n",
    "import numpy as np\n",
    "\n",
    "import seaborn as sns\n",
    "import matplotlib.pyplot as plt\n",
    "\n",
    "# Tree Based Models\n",
    "\n",
    "from operator import itemgetter\n",
    "from sklearn.tree import DecisionTreeRegressor\n",
    "from sklearn.ensemble import RandomForestRegressor, AdaBoostRegressor, GradientBoostingRegressor, ExtraTreesRegressor\n",
    "from xgboost import XGBRegressor\n",
    "\n",
    "# Linear Regression Based Models\n",
    "\n",
    "from sklearn.linear_model import ElasticNet, HuberRegressor, LinearRegression, Ridge, Lasso, SGDRegressor, PassiveAggressiveRegressor\n",
    "\n",
    "# Metrics\n",
    "\n",
    "from sklearn import preprocessing\n",
    "from sklearn.model_selection import cross_val_score\n",
    "from sklearn.model_selection import StratifiedKFold\n",
    "from sklearn.metrics import roc_auc_score\n",
    "from sklearn.metrics import classification_report\n",
    "from sklearn.model_selection import train_test_split\n",
    "\n",
    "# Parallel\n",
    "\n",
    "from dask.distributed import Client\n",
    "from sklearn.externals.joblib import parallel_backend\n",
    "from dask_ml.model_selection import GridSearchCV\n",
    "\n",
    "from feature_selection_helper import norm_cols\n",
    "\n",
    "import warnings\n",
    "warnings.filterwarnings(\"ignore\")\n"
   ]
  },
  {
   "cell_type": "code",
   "execution_count": 52,
   "metadata": {},
   "outputs": [
    {
     "data": {
      "text/html": [
       "<div>\n",
       "<style scoped>\n",
       "    .dataframe tbody tr th:only-of-type {\n",
       "        vertical-align: middle;\n",
       "    }\n",
       "\n",
       "    .dataframe tbody tr th {\n",
       "        vertical-align: top;\n",
       "    }\n",
       "\n",
       "    .dataframe thead th {\n",
       "        text-align: right;\n",
       "    }\n",
       "</style>\n",
       "<table border=\"1\" class=\"dataframe\">\n",
       "  <thead>\n",
       "    <tr style=\"text-align: right;\">\n",
       "      <th></th>\n",
       "      <th>stroke_in_2018</th>\n",
       "      <th>average_blood_sugar</th>\n",
       "      <th>BMI</th>\n",
       "      <th>age_corr</th>\n",
       "      <th>high_BP_0</th>\n",
       "      <th>high_BP_1</th>\n",
       "      <th>smoker_status_active_smoker</th>\n",
       "      <th>smoker_status_non_smoker</th>\n",
       "      <th>smoker_status_quit</th>\n",
       "      <th>married_0</th>\n",
       "      <th>...</th>\n",
       "      <th>very_high_BMI</th>\n",
       "      <th>child</th>\n",
       "      <th>adult</th>\n",
       "      <th>senior</th>\n",
       "      <th>elderly</th>\n",
       "      <th>low_sugar</th>\n",
       "      <th>medium_sugar</th>\n",
       "      <th>high_sugar</th>\n",
       "      <th>very_high_sugar</th>\n",
       "      <th>has_smoked</th>\n",
       "    </tr>\n",
       "  </thead>\n",
       "  <tbody>\n",
       "    <tr>\n",
       "      <th>0</th>\n",
       "      <td>0</td>\n",
       "      <td>71.67</td>\n",
       "      <td>36.6</td>\n",
       "      <td>61.0</td>\n",
       "      <td>0.0</td>\n",
       "      <td>1.0</td>\n",
       "      <td>0.0</td>\n",
       "      <td>1.0</td>\n",
       "      <td>0.0</td>\n",
       "      <td>0.0</td>\n",
       "      <td>...</td>\n",
       "      <td>1.0</td>\n",
       "      <td>0.0</td>\n",
       "      <td>0.0</td>\n",
       "      <td>1.0</td>\n",
       "      <td>0.0</td>\n",
       "      <td>1.0</td>\n",
       "      <td>0.0</td>\n",
       "      <td>0.0</td>\n",
       "      <td>0.0</td>\n",
       "      <td>0.0</td>\n",
       "    </tr>\n",
       "    <tr>\n",
       "      <th>1</th>\n",
       "      <td>0</td>\n",
       "      <td>107.95</td>\n",
       "      <td>30.4</td>\n",
       "      <td>30.0</td>\n",
       "      <td>1.0</td>\n",
       "      <td>0.0</td>\n",
       "      <td>0.0</td>\n",
       "      <td>0.0</td>\n",
       "      <td>1.0</td>\n",
       "      <td>1.0</td>\n",
       "      <td>...</td>\n",
       "      <td>1.0</td>\n",
       "      <td>0.0</td>\n",
       "      <td>1.0</td>\n",
       "      <td>0.0</td>\n",
       "      <td>0.0</td>\n",
       "      <td>0.0</td>\n",
       "      <td>1.0</td>\n",
       "      <td>0.0</td>\n",
       "      <td>0.0</td>\n",
       "      <td>0.0</td>\n",
       "    </tr>\n",
       "    <tr>\n",
       "      <th>2</th>\n",
       "      <td>0</td>\n",
       "      <td>76.49</td>\n",
       "      <td>42.1</td>\n",
       "      <td>51.0</td>\n",
       "      <td>0.0</td>\n",
       "      <td>1.0</td>\n",
       "      <td>1.0</td>\n",
       "      <td>0.0</td>\n",
       "      <td>0.0</td>\n",
       "      <td>0.0</td>\n",
       "      <td>...</td>\n",
       "      <td>1.0</td>\n",
       "      <td>0.0</td>\n",
       "      <td>0.0</td>\n",
       "      <td>1.0</td>\n",
       "      <td>0.0</td>\n",
       "      <td>1.0</td>\n",
       "      <td>0.0</td>\n",
       "      <td>0.0</td>\n",
       "      <td>0.0</td>\n",
       "      <td>0.0</td>\n",
       "    </tr>\n",
       "    <tr>\n",
       "      <th>3</th>\n",
       "      <td>0</td>\n",
       "      <td>113.98</td>\n",
       "      <td>57.3</td>\n",
       "      <td>54.0</td>\n",
       "      <td>1.0</td>\n",
       "      <td>0.0</td>\n",
       "      <td>0.0</td>\n",
       "      <td>0.0</td>\n",
       "      <td>1.0</td>\n",
       "      <td>0.0</td>\n",
       "      <td>...</td>\n",
       "      <td>1.0</td>\n",
       "      <td>0.0</td>\n",
       "      <td>0.0</td>\n",
       "      <td>1.0</td>\n",
       "      <td>0.0</td>\n",
       "      <td>0.0</td>\n",
       "      <td>1.0</td>\n",
       "      <td>0.0</td>\n",
       "      <td>0.0</td>\n",
       "      <td>0.0</td>\n",
       "    </tr>\n",
       "    <tr>\n",
       "      <th>4</th>\n",
       "      <td>0</td>\n",
       "      <td>70.60</td>\n",
       "      <td>26.7</td>\n",
       "      <td>27.0</td>\n",
       "      <td>1.0</td>\n",
       "      <td>0.0</td>\n",
       "      <td>1.0</td>\n",
       "      <td>0.0</td>\n",
       "      <td>0.0</td>\n",
       "      <td>1.0</td>\n",
       "      <td>...</td>\n",
       "      <td>0.0</td>\n",
       "      <td>0.0</td>\n",
       "      <td>1.0</td>\n",
       "      <td>0.0</td>\n",
       "      <td>0.0</td>\n",
       "      <td>1.0</td>\n",
       "      <td>0.0</td>\n",
       "      <td>0.0</td>\n",
       "      <td>0.0</td>\n",
       "      <td>0.0</td>\n",
       "    </tr>\n",
       "  </tbody>\n",
       "</table>\n",
       "<p>5 rows × 33 columns</p>\n",
       "</div>"
      ],
      "text/plain": [
       "   stroke_in_2018  average_blood_sugar   BMI  age_corr  high_BP_0  high_BP_1  \\\n",
       "0               0                71.67  36.6      61.0        0.0        1.0   \n",
       "1               0               107.95  30.4      30.0        1.0        0.0   \n",
       "2               0                76.49  42.1      51.0        0.0        1.0   \n",
       "3               0               113.98  57.3      54.0        1.0        0.0   \n",
       "4               0                70.60  26.7      27.0        1.0        0.0   \n",
       "\n",
       "   smoker_status_active_smoker  smoker_status_non_smoker  smoker_status_quit  \\\n",
       "0                          0.0                       1.0                 0.0   \n",
       "1                          0.0                       0.0                 1.0   \n",
       "2                          1.0                       0.0                 0.0   \n",
       "3                          0.0                       0.0                 1.0   \n",
       "4                          1.0                       0.0                 0.0   \n",
       "\n",
       "   married_0  ...  very_high_BMI  child  adult  senior  elderly  low_sugar  \\\n",
       "0        0.0  ...            1.0    0.0    0.0     1.0      0.0        1.0   \n",
       "1        1.0  ...            1.0    0.0    1.0     0.0      0.0        0.0   \n",
       "2        0.0  ...            1.0    0.0    0.0     1.0      0.0        1.0   \n",
       "3        0.0  ...            1.0    0.0    0.0     1.0      0.0        0.0   \n",
       "4        1.0  ...            0.0    0.0    1.0     0.0      0.0        1.0   \n",
       "\n",
       "   medium_sugar  high_sugar  very_high_sugar  has_smoked  \n",
       "0           0.0         0.0              0.0         0.0  \n",
       "1           1.0         0.0              0.0         0.0  \n",
       "2           0.0         0.0              0.0         0.0  \n",
       "3           1.0         0.0              0.0         0.0  \n",
       "4           0.0         0.0              0.0         0.0  \n",
       "\n",
       "[5 rows x 33 columns]"
      ]
     },
     "execution_count": 52,
     "metadata": {},
     "output_type": "execute_result"
    }
   ],
   "source": [
    "stk = pd.read_csv(\"../data/train_processed_upsampled.csv\")\n",
    "stk.head()"
   ]
  },
  {
   "cell_type": "code",
   "execution_count": 53,
   "metadata": {},
   "outputs": [
    {
     "data": {
      "text/plain": [
       "(27364, 33)"
      ]
     },
     "execution_count": 53,
     "metadata": {},
     "output_type": "execute_result"
    }
   ],
   "source": [
    "stk.shape"
   ]
  },
  {
   "cell_type": "code",
   "execution_count": 54,
   "metadata": {},
   "outputs": [],
   "source": [
    "X = stk.drop(labels=\"stroke_in_2018\", axis=1).reset_index(drop=True)\n",
    "y = stk[\"stroke_in_2018\"].reset_index(drop=True)\n",
    "\n",
    "X_norm = X.copy()\n",
    "norm_cols(X_norm, [\"average_blood_sugar\", \"BMI\", \"age_corr\"])"
   ]
  },
  {
   "cell_type": "code",
   "execution_count": 55,
   "metadata": {},
   "outputs": [
    {
     "data": {
      "text/html": [
       "<div>\n",
       "<style scoped>\n",
       "    .dataframe tbody tr th:only-of-type {\n",
       "        vertical-align: middle;\n",
       "    }\n",
       "\n",
       "    .dataframe tbody tr th {\n",
       "        vertical-align: top;\n",
       "    }\n",
       "\n",
       "    .dataframe thead th {\n",
       "        text-align: right;\n",
       "    }\n",
       "</style>\n",
       "<table border=\"1\" class=\"dataframe\">\n",
       "  <thead>\n",
       "    <tr style=\"text-align: right;\">\n",
       "      <th></th>\n",
       "      <th>average_blood_sugar</th>\n",
       "      <th>BMI</th>\n",
       "      <th>age_corr</th>\n",
       "      <th>high_BP_0</th>\n",
       "      <th>high_BP_1</th>\n",
       "      <th>smoker_status_active_smoker</th>\n",
       "      <th>smoker_status_non_smoker</th>\n",
       "      <th>smoker_status_quit</th>\n",
       "      <th>married_0</th>\n",
       "      <th>married_1</th>\n",
       "      <th>...</th>\n",
       "      <th>very_high_BMI</th>\n",
       "      <th>child</th>\n",
       "      <th>adult</th>\n",
       "      <th>senior</th>\n",
       "      <th>elderly</th>\n",
       "      <th>low_sugar</th>\n",
       "      <th>medium_sugar</th>\n",
       "      <th>high_sugar</th>\n",
       "      <th>very_high_sugar</th>\n",
       "      <th>has_smoked</th>\n",
       "    </tr>\n",
       "  </thead>\n",
       "  <tbody>\n",
       "    <tr>\n",
       "      <th>0</th>\n",
       "      <td>0.051093</td>\n",
       "      <td>0.298718</td>\n",
       "      <td>0.666667</td>\n",
       "      <td>0.0</td>\n",
       "      <td>1.0</td>\n",
       "      <td>0.0</td>\n",
       "      <td>1.0</td>\n",
       "      <td>0.0</td>\n",
       "      <td>0.0</td>\n",
       "      <td>1.0</td>\n",
       "      <td>...</td>\n",
       "      <td>1.0</td>\n",
       "      <td>0.0</td>\n",
       "      <td>0.0</td>\n",
       "      <td>1.0</td>\n",
       "      <td>0.0</td>\n",
       "      <td>1.0</td>\n",
       "      <td>0.0</td>\n",
       "      <td>0.0</td>\n",
       "      <td>0.0</td>\n",
       "      <td>0.0</td>\n",
       "    </tr>\n",
       "    <tr>\n",
       "      <th>1</th>\n",
       "      <td>0.204796</td>\n",
       "      <td>0.219231</td>\n",
       "      <td>0.236111</td>\n",
       "      <td>1.0</td>\n",
       "      <td>0.0</td>\n",
       "      <td>0.0</td>\n",
       "      <td>0.0</td>\n",
       "      <td>1.0</td>\n",
       "      <td>1.0</td>\n",
       "      <td>0.0</td>\n",
       "      <td>...</td>\n",
       "      <td>1.0</td>\n",
       "      <td>0.0</td>\n",
       "      <td>1.0</td>\n",
       "      <td>0.0</td>\n",
       "      <td>0.0</td>\n",
       "      <td>0.0</td>\n",
       "      <td>1.0</td>\n",
       "      <td>0.0</td>\n",
       "      <td>0.0</td>\n",
       "      <td>0.0</td>\n",
       "    </tr>\n",
       "    <tr>\n",
       "      <th>2</th>\n",
       "      <td>0.071513</td>\n",
       "      <td>0.369231</td>\n",
       "      <td>0.527778</td>\n",
       "      <td>0.0</td>\n",
       "      <td>1.0</td>\n",
       "      <td>1.0</td>\n",
       "      <td>0.0</td>\n",
       "      <td>0.0</td>\n",
       "      <td>0.0</td>\n",
       "      <td>1.0</td>\n",
       "      <td>...</td>\n",
       "      <td>1.0</td>\n",
       "      <td>0.0</td>\n",
       "      <td>0.0</td>\n",
       "      <td>1.0</td>\n",
       "      <td>0.0</td>\n",
       "      <td>1.0</td>\n",
       "      <td>0.0</td>\n",
       "      <td>0.0</td>\n",
       "      <td>0.0</td>\n",
       "      <td>0.0</td>\n",
       "    </tr>\n",
       "    <tr>\n",
       "      <th>3</th>\n",
       "      <td>0.230342</td>\n",
       "      <td>0.564103</td>\n",
       "      <td>0.569444</td>\n",
       "      <td>1.0</td>\n",
       "      <td>0.0</td>\n",
       "      <td>0.0</td>\n",
       "      <td>0.0</td>\n",
       "      <td>1.0</td>\n",
       "      <td>0.0</td>\n",
       "      <td>1.0</td>\n",
       "      <td>...</td>\n",
       "      <td>1.0</td>\n",
       "      <td>0.0</td>\n",
       "      <td>0.0</td>\n",
       "      <td>1.0</td>\n",
       "      <td>0.0</td>\n",
       "      <td>0.0</td>\n",
       "      <td>1.0</td>\n",
       "      <td>0.0</td>\n",
       "      <td>0.0</td>\n",
       "      <td>0.0</td>\n",
       "    </tr>\n",
       "    <tr>\n",
       "      <th>4</th>\n",
       "      <td>0.046560</td>\n",
       "      <td>0.171795</td>\n",
       "      <td>0.194444</td>\n",
       "      <td>1.0</td>\n",
       "      <td>0.0</td>\n",
       "      <td>1.0</td>\n",
       "      <td>0.0</td>\n",
       "      <td>0.0</td>\n",
       "      <td>1.0</td>\n",
       "      <td>0.0</td>\n",
       "      <td>...</td>\n",
       "      <td>0.0</td>\n",
       "      <td>0.0</td>\n",
       "      <td>1.0</td>\n",
       "      <td>0.0</td>\n",
       "      <td>0.0</td>\n",
       "      <td>1.0</td>\n",
       "      <td>0.0</td>\n",
       "      <td>0.0</td>\n",
       "      <td>0.0</td>\n",
       "      <td>0.0</td>\n",
       "    </tr>\n",
       "  </tbody>\n",
       "</table>\n",
       "<p>5 rows × 32 columns</p>\n",
       "</div>"
      ],
      "text/plain": [
       "   average_blood_sugar       BMI  age_corr  high_BP_0  high_BP_1  \\\n",
       "0             0.051093  0.298718  0.666667        0.0        1.0   \n",
       "1             0.204796  0.219231  0.236111        1.0        0.0   \n",
       "2             0.071513  0.369231  0.527778        0.0        1.0   \n",
       "3             0.230342  0.564103  0.569444        1.0        0.0   \n",
       "4             0.046560  0.171795  0.194444        1.0        0.0   \n",
       "\n",
       "   smoker_status_active_smoker  smoker_status_non_smoker  smoker_status_quit  \\\n",
       "0                          0.0                       1.0                 0.0   \n",
       "1                          0.0                       0.0                 1.0   \n",
       "2                          1.0                       0.0                 0.0   \n",
       "3                          0.0                       0.0                 1.0   \n",
       "4                          1.0                       0.0                 0.0   \n",
       "\n",
       "   married_0  married_1  ...  very_high_BMI  child  adult  senior  elderly  \\\n",
       "0        0.0        1.0  ...            1.0    0.0    0.0     1.0      0.0   \n",
       "1        1.0        0.0  ...            1.0    0.0    1.0     0.0      0.0   \n",
       "2        0.0        1.0  ...            1.0    0.0    0.0     1.0      0.0   \n",
       "3        0.0        1.0  ...            1.0    0.0    0.0     1.0      0.0   \n",
       "4        1.0        0.0  ...            0.0    0.0    1.0     0.0      0.0   \n",
       "\n",
       "   low_sugar  medium_sugar  high_sugar  very_high_sugar  has_smoked  \n",
       "0        1.0           0.0         0.0              0.0         0.0  \n",
       "1        0.0           1.0         0.0              0.0         0.0  \n",
       "2        1.0           0.0         0.0              0.0         0.0  \n",
       "3        0.0           1.0         0.0              0.0         0.0  \n",
       "4        1.0           0.0         0.0              0.0         0.0  \n",
       "\n",
       "[5 rows x 32 columns]"
      ]
     },
     "execution_count": 55,
     "metadata": {},
     "output_type": "execute_result"
    }
   ],
   "source": [
    "X_norm.head()"
   ]
  },
  {
   "cell_type": "code",
   "execution_count": 70,
   "metadata": {},
   "outputs": [],
   "source": [
    "stk2 = pd.read_csv(\"../data/train_processed_upsampled2.csv\")\n",
    "stk2.head()\n",
    "\n",
    "X2 = stk2.drop(labels=\"stroke_in_2018\", axis=1).reset_index(drop=True)\n",
    "y2 = stk2[\"stroke_in_2018\"].reset_index(drop=True)\n",
    "\n",
    "X_norm2 = X2.copy()\n",
    "norm_cols(X_norm2, [\"average_blood_sugar\", \"BMI\", \"age_corr\"])"
   ]
  },
  {
   "cell_type": "code",
   "execution_count": 71,
   "metadata": {},
   "outputs": [],
   "source": [
    "stk3 = pd.read_csv(\"../data/train_processed_upsampled3.csv\")\n",
    "stk3.head()\n",
    "\n",
    "X3 = stk3.drop(labels=\"stroke_in_2018\", axis=1).reset_index(drop=True)\n",
    "y3 = stk3[\"stroke_in_2018\"].reset_index(drop=True)\n",
    "\n",
    "X_norm3 = X3.copy()\n",
    "norm_cols(X_norm3, [\"average_blood_sugar\", \"BMI\", \"age_corr\"])"
   ]
  },
  {
   "cell_type": "code",
   "execution_count": 101,
   "metadata": {},
   "outputs": [],
   "source": [
    "stk4 = pd.read_csv(\"../data/train_processed_upsampled4.csv\")\n",
    "stk4.head()\n",
    "\n",
    "X4 = stk4.drop(labels=\"stroke_in_2018\", axis=1).reset_index(drop=True)\n",
    "y4 = stk4[\"stroke_in_2018\"].reset_index(drop=True)\n",
    "\n",
    "X_norm4 = X4.copy()\n",
    "norm_cols(X_norm4, [\"average_blood_sugar\", \"BMI\", \"age_corr\"])"
   ]
  },
  {
   "cell_type": "code",
   "execution_count": 56,
   "metadata": {
    "scrolled": true
   },
   "outputs": [
    {
     "data": {
      "text/html": [
       "<div>\n",
       "<style scoped>\n",
       "    .dataframe tbody tr th:only-of-type {\n",
       "        vertical-align: middle;\n",
       "    }\n",
       "\n",
       "    .dataframe tbody tr th {\n",
       "        vertical-align: top;\n",
       "    }\n",
       "\n",
       "    .dataframe thead th {\n",
       "        text-align: right;\n",
       "    }\n",
       "</style>\n",
       "<table border=\"1\" class=\"dataframe\">\n",
       "  <thead>\n",
       "    <tr style=\"text-align: right;\">\n",
       "      <th></th>\n",
       "      <th>id</th>\n",
       "      <th>average_blood_sugar</th>\n",
       "      <th>BMI</th>\n",
       "      <th>age_corr</th>\n",
       "      <th>high_BP_0</th>\n",
       "      <th>high_BP_1</th>\n",
       "      <th>smoker_status_active_smoker</th>\n",
       "      <th>smoker_status_non_smoker</th>\n",
       "      <th>smoker_status_quit</th>\n",
       "      <th>married_0</th>\n",
       "      <th>...</th>\n",
       "      <th>very_high_BMI</th>\n",
       "      <th>child</th>\n",
       "      <th>adult</th>\n",
       "      <th>senior</th>\n",
       "      <th>elderly</th>\n",
       "      <th>low_sugar</th>\n",
       "      <th>medium_sugar</th>\n",
       "      <th>high_sugar</th>\n",
       "      <th>very_high_sugar</th>\n",
       "      <th>has_smoked</th>\n",
       "    </tr>\n",
       "  </thead>\n",
       "  <tbody>\n",
       "    <tr>\n",
       "      <th>0</th>\n",
       "      <td>33327</td>\n",
       "      <td>76.05</td>\n",
       "      <td>33.4</td>\n",
       "      <td>36</td>\n",
       "      <td>1</td>\n",
       "      <td>0</td>\n",
       "      <td>1</td>\n",
       "      <td>0</td>\n",
       "      <td>0</td>\n",
       "      <td>0</td>\n",
       "      <td>...</td>\n",
       "      <td>1</td>\n",
       "      <td>0</td>\n",
       "      <td>1</td>\n",
       "      <td>0</td>\n",
       "      <td>0</td>\n",
       "      <td>1</td>\n",
       "      <td>0</td>\n",
       "      <td>0</td>\n",
       "      <td>0</td>\n",
       "      <td>0</td>\n",
       "    </tr>\n",
       "    <tr>\n",
       "      <th>1</th>\n",
       "      <td>839</td>\n",
       "      <td>73.77</td>\n",
       "      <td>30.1</td>\n",
       "      <td>40</td>\n",
       "      <td>1</td>\n",
       "      <td>0</td>\n",
       "      <td>0</td>\n",
       "      <td>1</td>\n",
       "      <td>0</td>\n",
       "      <td>0</td>\n",
       "      <td>...</td>\n",
       "      <td>1</td>\n",
       "      <td>0</td>\n",
       "      <td>1</td>\n",
       "      <td>0</td>\n",
       "      <td>0</td>\n",
       "      <td>1</td>\n",
       "      <td>0</td>\n",
       "      <td>0</td>\n",
       "      <td>0</td>\n",
       "      <td>0</td>\n",
       "    </tr>\n",
       "    <tr>\n",
       "      <th>2</th>\n",
       "      <td>11127</td>\n",
       "      <td>62.95</td>\n",
       "      <td>30.8</td>\n",
       "      <td>59</td>\n",
       "      <td>1</td>\n",
       "      <td>0</td>\n",
       "      <td>1</td>\n",
       "      <td>0</td>\n",
       "      <td>0</td>\n",
       "      <td>0</td>\n",
       "      <td>...</td>\n",
       "      <td>1</td>\n",
       "      <td>0</td>\n",
       "      <td>0</td>\n",
       "      <td>1</td>\n",
       "      <td>0</td>\n",
       "      <td>1</td>\n",
       "      <td>0</td>\n",
       "      <td>0</td>\n",
       "      <td>0</td>\n",
       "      <td>0</td>\n",
       "    </tr>\n",
       "    <tr>\n",
       "      <th>3</th>\n",
       "      <td>20768</td>\n",
       "      <td>68.81</td>\n",
       "      <td>36.5</td>\n",
       "      <td>33</td>\n",
       "      <td>1</td>\n",
       "      <td>0</td>\n",
       "      <td>0</td>\n",
       "      <td>0</td>\n",
       "      <td>1</td>\n",
       "      <td>0</td>\n",
       "      <td>...</td>\n",
       "      <td>1</td>\n",
       "      <td>0</td>\n",
       "      <td>1</td>\n",
       "      <td>0</td>\n",
       "      <td>0</td>\n",
       "      <td>1</td>\n",
       "      <td>0</td>\n",
       "      <td>0</td>\n",
       "      <td>0</td>\n",
       "      <td>0</td>\n",
       "    </tr>\n",
       "    <tr>\n",
       "      <th>4</th>\n",
       "      <td>37774</td>\n",
       "      <td>122.89</td>\n",
       "      <td>30.8</td>\n",
       "      <td>22</td>\n",
       "      <td>1</td>\n",
       "      <td>0</td>\n",
       "      <td>1</td>\n",
       "      <td>0</td>\n",
       "      <td>0</td>\n",
       "      <td>1</td>\n",
       "      <td>...</td>\n",
       "      <td>1</td>\n",
       "      <td>0</td>\n",
       "      <td>1</td>\n",
       "      <td>0</td>\n",
       "      <td>0</td>\n",
       "      <td>0</td>\n",
       "      <td>1</td>\n",
       "      <td>0</td>\n",
       "      <td>0</td>\n",
       "      <td>0</td>\n",
       "    </tr>\n",
       "  </tbody>\n",
       "</table>\n",
       "<p>5 rows × 33 columns</p>\n",
       "</div>"
      ],
      "text/plain": [
       "      id  average_blood_sugar   BMI  age_corr  high_BP_0  high_BP_1  \\\n",
       "0  33327                76.05  33.4        36          1          0   \n",
       "1    839                73.77  30.1        40          1          0   \n",
       "2  11127                62.95  30.8        59          1          0   \n",
       "3  20768                68.81  36.5        33          1          0   \n",
       "4  37774               122.89  30.8        22          1          0   \n",
       "\n",
       "   smoker_status_active_smoker  smoker_status_non_smoker  smoker_status_quit  \\\n",
       "0                            1                         0                   0   \n",
       "1                            0                         1                   0   \n",
       "2                            1                         0                   0   \n",
       "3                            0                         0                   1   \n",
       "4                            1                         0                   0   \n",
       "\n",
       "   married_0  ...  very_high_BMI  child  adult  senior  elderly  low_sugar  \\\n",
       "0          0  ...              1      0      1       0        0          1   \n",
       "1          0  ...              1      0      1       0        0          1   \n",
       "2          0  ...              1      0      0       1        0          1   \n",
       "3          0  ...              1      0      1       0        0          1   \n",
       "4          1  ...              1      0      1       0        0          0   \n",
       "\n",
       "   medium_sugar  high_sugar  very_high_sugar  has_smoked  \n",
       "0             0           0                0           0  \n",
       "1             0           0                0           0  \n",
       "2             0           0                0           0  \n",
       "3             0           0                0           0  \n",
       "4             1           0                0           0  \n",
       "\n",
       "[5 rows x 33 columns]"
      ]
     },
     "execution_count": 56,
     "metadata": {},
     "output_type": "execute_result"
    }
   ],
   "source": [
    "stk_test = pd.read_csv(\"../data/test_processed_feature_engineered.csv\")\n",
    "stk_test.head()"
   ]
  },
  {
   "cell_type": "code",
   "execution_count": 57,
   "metadata": {},
   "outputs": [],
   "source": [
    "X_test = stk_test.copy()\n",
    "X_test_norm = X_test.copy()\n",
    "norm_cols(X_test_norm, [\"average_blood_sugar\", \"BMI\", \"age_corr\"])"
   ]
  },
  {
   "cell_type": "code",
   "execution_count": 58,
   "metadata": {},
   "outputs": [
    {
     "data": {
      "text/html": [
       "<div>\n",
       "<style scoped>\n",
       "    .dataframe tbody tr th:only-of-type {\n",
       "        vertical-align: middle;\n",
       "    }\n",
       "\n",
       "    .dataframe tbody tr th {\n",
       "        vertical-align: top;\n",
       "    }\n",
       "\n",
       "    .dataframe thead th {\n",
       "        text-align: right;\n",
       "    }\n",
       "</style>\n",
       "<table border=\"1\" class=\"dataframe\">\n",
       "  <thead>\n",
       "    <tr style=\"text-align: right;\">\n",
       "      <th></th>\n",
       "      <th>id</th>\n",
       "      <th>average_blood_sugar</th>\n",
       "      <th>BMI</th>\n",
       "      <th>age_corr</th>\n",
       "      <th>high_BP_0</th>\n",
       "      <th>high_BP_1</th>\n",
       "      <th>smoker_status_active_smoker</th>\n",
       "      <th>smoker_status_non_smoker</th>\n",
       "      <th>smoker_status_quit</th>\n",
       "      <th>married_0</th>\n",
       "      <th>...</th>\n",
       "      <th>very_high_BMI</th>\n",
       "      <th>child</th>\n",
       "      <th>adult</th>\n",
       "      <th>senior</th>\n",
       "      <th>elderly</th>\n",
       "      <th>low_sugar</th>\n",
       "      <th>medium_sugar</th>\n",
       "      <th>high_sugar</th>\n",
       "      <th>very_high_sugar</th>\n",
       "      <th>has_smoked</th>\n",
       "    </tr>\n",
       "  </thead>\n",
       "  <tbody>\n",
       "    <tr>\n",
       "      <th>0</th>\n",
       "      <td>33327</td>\n",
       "      <td>0.075016</td>\n",
       "      <td>0.256410</td>\n",
       "      <td>0.402439</td>\n",
       "      <td>1</td>\n",
       "      <td>0</td>\n",
       "      <td>1</td>\n",
       "      <td>0</td>\n",
       "      <td>0</td>\n",
       "      <td>0</td>\n",
       "      <td>...</td>\n",
       "      <td>1</td>\n",
       "      <td>0</td>\n",
       "      <td>1</td>\n",
       "      <td>0</td>\n",
       "      <td>0</td>\n",
       "      <td>1</td>\n",
       "      <td>0</td>\n",
       "      <td>0</td>\n",
       "      <td>0</td>\n",
       "      <td>0</td>\n",
       "    </tr>\n",
       "    <tr>\n",
       "      <th>1</th>\n",
       "      <td>839</td>\n",
       "      <td>0.064606</td>\n",
       "      <td>0.216117</td>\n",
       "      <td>0.451220</td>\n",
       "      <td>1</td>\n",
       "      <td>0</td>\n",
       "      <td>0</td>\n",
       "      <td>1</td>\n",
       "      <td>0</td>\n",
       "      <td>0</td>\n",
       "      <td>...</td>\n",
       "      <td>1</td>\n",
       "      <td>0</td>\n",
       "      <td>1</td>\n",
       "      <td>0</td>\n",
       "      <td>0</td>\n",
       "      <td>1</td>\n",
       "      <td>0</td>\n",
       "      <td>0</td>\n",
       "      <td>0</td>\n",
       "      <td>0</td>\n",
       "    </tr>\n",
       "    <tr>\n",
       "      <th>2</th>\n",
       "      <td>11127</td>\n",
       "      <td>0.015204</td>\n",
       "      <td>0.224664</td>\n",
       "      <td>0.682927</td>\n",
       "      <td>1</td>\n",
       "      <td>0</td>\n",
       "      <td>1</td>\n",
       "      <td>0</td>\n",
       "      <td>0</td>\n",
       "      <td>0</td>\n",
       "      <td>...</td>\n",
       "      <td>1</td>\n",
       "      <td>0</td>\n",
       "      <td>0</td>\n",
       "      <td>1</td>\n",
       "      <td>0</td>\n",
       "      <td>1</td>\n",
       "      <td>0</td>\n",
       "      <td>0</td>\n",
       "      <td>0</td>\n",
       "      <td>0</td>\n",
       "    </tr>\n",
       "    <tr>\n",
       "      <th>3</th>\n",
       "      <td>20768</td>\n",
       "      <td>0.041960</td>\n",
       "      <td>0.294261</td>\n",
       "      <td>0.365854</td>\n",
       "      <td>1</td>\n",
       "      <td>0</td>\n",
       "      <td>0</td>\n",
       "      <td>0</td>\n",
       "      <td>1</td>\n",
       "      <td>0</td>\n",
       "      <td>...</td>\n",
       "      <td>1</td>\n",
       "      <td>0</td>\n",
       "      <td>1</td>\n",
       "      <td>0</td>\n",
       "      <td>0</td>\n",
       "      <td>1</td>\n",
       "      <td>0</td>\n",
       "      <td>0</td>\n",
       "      <td>0</td>\n",
       "      <td>0</td>\n",
       "    </tr>\n",
       "    <tr>\n",
       "      <th>4</th>\n",
       "      <td>37774</td>\n",
       "      <td>0.288878</td>\n",
       "      <td>0.224664</td>\n",
       "      <td>0.231707</td>\n",
       "      <td>1</td>\n",
       "      <td>0</td>\n",
       "      <td>1</td>\n",
       "      <td>0</td>\n",
       "      <td>0</td>\n",
       "      <td>1</td>\n",
       "      <td>...</td>\n",
       "      <td>1</td>\n",
       "      <td>0</td>\n",
       "      <td>1</td>\n",
       "      <td>0</td>\n",
       "      <td>0</td>\n",
       "      <td>0</td>\n",
       "      <td>1</td>\n",
       "      <td>0</td>\n",
       "      <td>0</td>\n",
       "      <td>0</td>\n",
       "    </tr>\n",
       "  </tbody>\n",
       "</table>\n",
       "<p>5 rows × 33 columns</p>\n",
       "</div>"
      ],
      "text/plain": [
       "      id  average_blood_sugar       BMI  age_corr  high_BP_0  high_BP_1  \\\n",
       "0  33327             0.075016  0.256410  0.402439          1          0   \n",
       "1    839             0.064606  0.216117  0.451220          1          0   \n",
       "2  11127             0.015204  0.224664  0.682927          1          0   \n",
       "3  20768             0.041960  0.294261  0.365854          1          0   \n",
       "4  37774             0.288878  0.224664  0.231707          1          0   \n",
       "\n",
       "   smoker_status_active_smoker  smoker_status_non_smoker  smoker_status_quit  \\\n",
       "0                            1                         0                   0   \n",
       "1                            0                         1                   0   \n",
       "2                            1                         0                   0   \n",
       "3                            0                         0                   1   \n",
       "4                            1                         0                   0   \n",
       "\n",
       "   married_0  ...  very_high_BMI  child  adult  senior  elderly  low_sugar  \\\n",
       "0          0  ...              1      0      1       0        0          1   \n",
       "1          0  ...              1      0      1       0        0          1   \n",
       "2          0  ...              1      0      0       1        0          1   \n",
       "3          0  ...              1      0      1       0        0          1   \n",
       "4          1  ...              1      0      1       0        0          0   \n",
       "\n",
       "   medium_sugar  high_sugar  very_high_sugar  has_smoked  \n",
       "0             0           0                0           0  \n",
       "1             0           0                0           0  \n",
       "2             0           0                0           0  \n",
       "3             0           0                0           0  \n",
       "4             1           0                0           0  \n",
       "\n",
       "[5 rows x 33 columns]"
      ]
     },
     "execution_count": 58,
     "metadata": {},
     "output_type": "execute_result"
    }
   ],
   "source": [
    "X_test_norm.head()"
   ]
  },
  {
   "cell_type": "code",
   "execution_count": 59,
   "metadata": {},
   "outputs": [],
   "source": [
    "linear_based_models = {\n",
    "    \"en\": ElasticNet(),\n",
    "    \"hr\": HuberRegressor(),\n",
    "    \"lr\": LinearRegression(),\n",
    "    \"ridge\": Ridge(),\n",
    "    \"lasso\": Lasso(),\n",
    "    \"sgd\": SGDRegressor(), \n",
    "    \"pa\": PassiveAggressiveRegressor()\n",
    "}\n",
    "\n",
    "tree_based_models = {\n",
    "    \"dt\": DecisionTreeRegressor(),\n",
    "    \"rf\": RandomForestRegressor(),\n",
    "    \"ada\": AdaBoostRegressor(),\n",
    "    \"gb\": GradientBoostingRegressor(),\n",
    "    \"et\": ExtraTreesRegressor(),\n",
    "    \"xgb\": XGBRegressor()\n",
    "}\n",
    "\n",
    "tree_model_best_features = [\n",
    "    'BMI',\n",
    "    'high_BMI',\n",
    "    'average_blood_sugar',\n",
    "    'age_corr',\n",
    "    'job_status_corr_government'\n",
    "]\n",
    "\n",
    "linear_model_selected_features = [\n",
    "    'low_sugar',\n",
    "    'job_status_corr_government',\n",
    "    'medium_sugar',\n",
    "    'smoker_status_non_smoker',\n",
    "    'high_BMI',\n",
    "    'child',\n",
    "    'BMI',\n",
    "    'age_corr',\n",
    "    'married_0',\n",
    "    'medium_BMI',\n",
    "    'smoker_status_quit',\n",
    "    'adult',\n",
    "    'job_status_corr_unemployed',\n",
    "    'job_status_corr_business_owner',\n",
    "    'job_status_corr_parental_leave',\n",
    "    'has_smoked',\n",
    "    'elderly',\n",
    "    'job_status_corr_private_sector',\n",
    "    'smoker_status_active_smoker',\n",
    "    'very_high_BMI',\n",
    "    'low_BMI',\n",
    "    'high_BP_1',\n",
    "    'very_high_sugar',\n",
    "    'high_BP_0',\n",
    "    'senior',\n",
    "    'heart_condition_detected_2017_1',\n",
    "    'heart_condition_detected_2017_0',\n",
    "    'living_area_corr_remote',\n",
    "    'average_blood_sugar',\n",
    "    'high_sugar',\n",
    "    'married_1',\n",
    "    'living_area_corr_city'\n",
    "]\n",
    "\n",
    "features = [\n",
    "    (\"tree\", tree_model_best_features),\n",
    "    (\"linear\", linear_model_selected_features)\n",
    "]\n"
   ]
  },
  {
   "cell_type": "code",
   "execution_count": 60,
   "metadata": {},
   "outputs": [],
   "source": [
    "def get_cv_score(clf, X, y, kf):\n",
    "    cv_scores = []\n",
    "    with parallel_backend(\"dask\"):\n",
    "        for _, (train_index, test_index) in enumerate(kf.split(X, y)):\n",
    "            train_X, train_y = X.loc[train_index], y[train_index] \n",
    "            # up sampling the train data\n",
    "#             train_X, train_y = smote.fit_sample(train_X, train_y)\n",
    "            test_X, test_y = X.loc[test_index], y[test_index]\n",
    "\n",
    "            clf.fit(train_X, train_y)\n",
    "            y_pred = clf.predict(test_X)\n",
    "            score = roc_auc_score(test_y, y_pred)\n",
    "            cv_scores.append(score)\n",
    "        return np.mean(cv_scores)"
   ]
  },
  {
   "cell_type": "code",
   "execution_count": 61,
   "metadata": {},
   "outputs": [],
   "source": [
    "from copy import deepcopy\n",
    "\n",
    "class StackingRegressor:\n",
    "    def __init__(self, models, second_model, features):\n",
    "        self.models = models\n",
    "        self.feature_models = []\n",
    "        self.second_model = second_model\n",
    "        self.features = features\n",
    "    \n",
    "    def _generate_f_features(self, X):\n",
    "        f_features = np.zeros((X.shape[0], len(self.features) * len(self.models)))\n",
    "        for num, features in enumerate(self.features * len(self.models)):\n",
    "            model = self.feature_models[num]\n",
    "            f_features[:, num] = model.predict(X.loc[:, features[1]])\n",
    "        return f_features\n",
    "    \n",
    "    def fit(self, X, y):\n",
    "        # generate multiple trained models with different features\n",
    "        for model in self.models:\n",
    "            for feature in self.features:\n",
    "                model.fit(X.loc[:, feature[1]], y)\n",
    "                self.feature_models.append(deepcopy(model))\n",
    "        f_features = self._generate_f_features(X)\n",
    "        self.second_model.fit(f_features, y)\n",
    "    \n",
    "    def predict(self, X):\n",
    "        f_features = self._generate_f_features(X)\n",
    "        return self.second_model.predict(f_features)"
   ]
  },
  {
   "cell_type": "code",
   "execution_count": 65,
   "metadata": {},
   "outputs": [],
   "source": [
    "stk = pd.read_csv(\"../data/train_processed_upsampled2.csv\")\n",
    "stk.head()\n",
    "\n",
    "X = stk.drop(labels=\"stroke_in_2018\", axis=1).reset_index(drop=True)\n",
    "y = stk[\"stroke_in_2018\"].reset_index(drop=True)\n",
    "\n",
    "X_norm = X.copy()\n",
    "norm_cols(X_norm, [\"average_blood_sugar\", \"BMI\", \"age_corr\"])"
   ]
  },
  {
   "cell_type": "code",
   "execution_count": 80,
   "metadata": {},
   "outputs": [],
   "source": [
    "models = [\n",
    "    GradientBoostingRegressor(), RandomForestRegressor(), ExtraTreesRegressor(), \n",
    "    Lasso(), LinearRegression(), Ridge()\n",
    "]\n",
    "\n",
    "models2 = [\n",
    "    GradientBoostingRegressor(), RandomForestRegressor(), \n",
    "    Lasso(), LinearRegression()\n",
    "]\n",
    "\n",
    "models3 = [\n",
    "    GradientBoostingRegressor(), RandomForestRegressor(),\n",
    "    Lasso(), LinearRegression(), PassiveAggressiveRegressor()\n",
    "]"
   ]
  },
  {
   "cell_type": "code",
   "execution_count": 76,
   "metadata": {},
   "outputs": [
    {
     "data": {
      "text/plain": [
       "0    8537\n",
       "1     181\n",
       "dtype: int64"
      ]
     },
     "execution_count": 76,
     "metadata": {},
     "output_type": "execute_result"
    },
    {
     "data": {
      "image/png": "[encoded data removed]",
      "text/plain": [
       "<Figure size 432x288 with 1 Axes>"
      ]
     },
     "metadata": {
      "needs_background": "light"
     },
     "output_type": "display_data"
    }
   ],
   "source": [
    "# Run with upsample 1\n",
    "\n",
    "sr = StackingRegressor(models, GradientBoostingRegressor(), features)\n",
    "sr.fit(X_norm, y)\n",
    "y_pred = sr.predict(X_test_norm)\n",
    "\n",
    "sns.distplot(y_pred, kde = False, bins = 100, color = \"green\")\n",
    "\n",
    "y_result = np.where(y_pred > 0.5, 1, 0)\n",
    "pd.Series(y_result).value_counts()"
   ]
  },
  {
   "cell_type": "code",
   "execution_count": 77,
   "metadata": {},
   "outputs": [
    {
     "data": {
      "text/plain": [
       "0    8614\n",
       "1     104\n",
       "dtype: int64"
      ]
     },
     "execution_count": 77,
     "metadata": {},
     "output_type": "execute_result"
    },
    {
     "data": {
      "image/png": "[encoded data removed]",
      "text/plain": [
       "<Figure size 432x288 with 1 Axes>"
      ]
     },
     "metadata": {
      "needs_background": "light"
     },
     "output_type": "display_data"
    }
   ],
   "source": [
    "# upsample 1\n",
    "\n",
    "sr = StackingRegressor(models2, GradientBoostingRegressor(), features)\n",
    "sr.fit(X_norm, y)\n",
    "y_pred = sr.predict(X_test_norm)\n",
    "\n",
    "sns.distplot(y_pred, kde = False, bins = 100, color = \"green\")\n",
    "\n",
    "y_result = np.where(y_pred > 0.5, 1, 0)\n",
    "pd.Series(y_result).value_counts()"
   ]
  },
  {
   "cell_type": "code",
   "execution_count": 75,
   "metadata": {},
   "outputs": [
    {
     "data": {
      "text/plain": [
       "0    8523\n",
       "1     195\n",
       "dtype: int64"
      ]
     },
     "execution_count": 75,
     "metadata": {},
     "output_type": "execute_result"
    },
    {
     "data": {
      "image/png": "[encoded data removed]",
      "text/plain": [
       "<Figure size 432x288 with 1 Axes>"
      ]
     },
     "metadata": {
      "needs_background": "light"
     },
     "output_type": "display_data"
    }
   ],
   "source": [
    "# Run with upsample 2\n",
    "\n",
    "sr = StackingRegressor(models, GradientBoostingRegressor(), features)\n",
    "sr.fit(X_norm2, y2)\n",
    "y_pred = sr.predict(X_test_norm)\n",
    "\n",
    "sns.distplot(y_pred, kde = False, bins = 100, color = \"green\")\n",
    "\n",
    "y_result = np.where(y_pred > 0.5, 1, 0)\n",
    "pd.Series(y_result).value_counts()"
   ]
  },
  {
   "cell_type": "code",
   "execution_count": 68,
   "metadata": {},
   "outputs": [
    {
     "data": {
      "text/plain": [
       "0    8608\n",
       "1     110\n",
       "dtype: int64"
      ]
     },
     "execution_count": 68,
     "metadata": {},
     "output_type": "execute_result"
    },
    {
     "data": {
      "image/png": "[encoded data removed]",
      "text/plain": [
       "<Figure size 432x288 with 1 Axes>"
      ]
     },
     "metadata": {
      "needs_background": "light"
     },
     "output_type": "display_data"
    }
   ],
   "source": [
    "# upsample 2\n",
    "\n",
    "sr = StackingRegressor(models2, GradientBoostingRegressor(), features)\n",
    "sr.fit(X_norm2, y2)\n",
    "y_pred = sr.predict(X_test_norm)\n",
    "\n",
    "sns.distplot(y_pred, kde = False, bins = 100, color = \"green\")\n",
    "\n",
    "y_result = np.where(y_pred > 0.5, 1, 0)\n",
    "pd.Series(y_result).value_counts()"
   ]
  },
  {
   "cell_type": "code",
   "execution_count": 31,
   "metadata": {},
   "outputs": [
    {
     "data": {
      "text/plain": [
       "<matplotlib.axes._subplots.AxesSubplot at 0x12805aef0>"
      ]
     },
     "execution_count": 31,
     "metadata": {},
     "output_type": "execute_result"
    },
    {
     "data": {
      "image/png": "[encoded data removed]",
      "text/plain": [
       "<Figure size 432x288 with 1 Axes>"
      ]
     },
     "metadata": {
      "needs_background": "light"
     },
     "output_type": "display_data"
    }
   ],
   "source": [
    "sr = StackingRegressor(models, GradientBoostingRegressor(), features)\n",
    "sr.fit(X_norm, y)\n",
    "y_pred = sr.predict(X_test_norm)\n",
    "\n",
    "sns.distplot(y_pred, kde = False, bins = 100, color = \"green\")"
   ]
  },
  {
   "cell_type": "code",
   "execution_count": 32,
   "metadata": {},
   "outputs": [
    {
     "data": {
      "text/plain": [
       "0    8466\n",
       "1     252\n",
       "dtype: int64"
      ]
     },
     "execution_count": 32,
     "metadata": {},
     "output_type": "execute_result"
    }
   ],
   "source": [
    "y_result = np.where(y_pred > 0.5, 1, 0)\n",
    "pd.Series(y_result).value_counts()"
   ]
  },
  {
   "cell_type": "code",
   "execution_count": 86,
   "metadata": {},
   "outputs": [
    {
     "data": {
      "image/png": "[encoded data removed]",
      "text/plain": [
       "<Figure size 432x288 with 1 Axes>"
      ]
     },
     "metadata": {
      "needs_background": "light"
     },
     "output_type": "display_data"
    }
   ],
   "source": [
    "# upsample 3\n",
    "\n",
    "sr = StackingRegressor(models, GradientBoostingRegressor(), features)\n",
    "sr.fit(X_norm3, y3)\n",
    "y_pred = sr.predict(X_test_norm)\n",
    "\n",
    "sns.distplot(y_pred, kde = False, bins = 100, color = \"green\")\n",
    "\n",
    "y_result = np.where(y_pred > 0.5, 1, 0)\n",
    "pd.Series(y_result).value_counts()\n",
    "\n",
    "submission = pd.DataFrame({\n",
    "    \"id\": stk_test[\"id\"],\n",
    "    \"stroke_in_2018\": y_pred\n",
    "})\n",
    "submission.to_csv(\"../submission/submission_3_upsampling3_models.csv\", index=False)"
   ]
  },
  {
   "cell_type": "code",
   "execution_count": 84,
   "metadata": {},
   "outputs": [
    {
     "data": {
      "text/plain": [
       "0    8515\n",
       "1     203\n",
       "dtype: int64"
      ]
     },
     "execution_count": 84,
     "metadata": {},
     "output_type": "execute_result"
    },
    {
     "data": {
      "image/png": "[encoded data removed]",
      "text/plain": [
       "<Figure size 432x288 with 1 Axes>"
      ]
     },
     "metadata": {
      "needs_background": "light"
     },
     "output_type": "display_data"
    }
   ],
   "source": [
    "# upsample 3\n",
    "\n",
    "sr = StackingRegressor(models2, GradientBoostingRegressor(), features)\n",
    "sr.fit(X_norm3, y3)\n",
    "y_pred = sr.predict(X_test_norm)\n",
    "\n",
    "sns.distplot(y_pred, kde = False, bins = 100, color = \"green\")\n",
    "\n",
    "y_result = np.where(y_pred > 0.5, 1, 0)\n",
    "pd.Series(y_result).value_counts()"
   ]
  },
  {
   "cell_type": "code",
   "execution_count": 81,
   "metadata": {},
   "outputs": [
    {
     "data": {
      "text/plain": [
       "0    8635\n",
       "1      83\n",
       "dtype: int64"
      ]
     },
     "execution_count": 81,
     "metadata": {},
     "output_type": "execute_result"
    },
    {
     "data": {
      "image/png": "[encoded data removed]",
      "text/plain": [
       "<Figure size 432x288 with 1 Axes>"
      ]
     },
     "metadata": {
      "needs_background": "light"
     },
     "output_type": "display_data"
    }
   ],
   "source": [
    "# upsample 3\n",
    "\n",
    "sr = StackingRegressor(models3, GradientBoostingRegressor(), features)\n",
    "sr.fit(X_norm3, y3)\n",
    "y_pred = sr.predict(X_test_norm)\n",
    "\n",
    "sns.distplot(y_pred, kde = False, bins = 100, color = \"green\")\n",
    "\n",
    "y_result = np.where(y_pred > 0.5, 1, 0)\n",
    "pd.Series(y_result).value_counts()"
   ]
  },
  {
   "cell_type": "code",
   "execution_count": null,
   "metadata": {},
   "outputs": [],
   "source": []
  },
  {
   "cell_type": "code",
   "execution_count": null,
   "metadata": {},
   "outputs": [],
   "source": []
  },
  {
   "cell_type": "code",
   "execution_count": null,
   "metadata": {},
   "outputs": [],
   "source": []
  },
  {
   "cell_type": "markdown",
   "metadata": {},
   "source": [
    "__Mysteries...__"
   ]
  },
  {
   "cell_type": "code",
   "execution_count": 167,
   "metadata": {},
   "outputs": [
    {
     "data": {
      "text/plain": [
       "<matplotlib.axes._subplots.AxesSubplot at 0x12bdbf9e8>"
      ]
     },
     "execution_count": 167,
     "metadata": {},
     "output_type": "execute_result"
    },
    {
     "data": {
      "image/png": "[encoded data removed]",
      "text/plain": [
       "<Figure size 432x288 with 1 Axes>"
      ]
     },
     "metadata": {
      "needs_background": "light"
     },
     "output_type": "display_data"
    }
   ],
   "source": [
    "sr = StackingRegressor(models2, GradientBoostingRegressor(), features)\n",
    "sr.fit(X_norm, y)\n",
    "y_pred = sr.predict(X_test_norm)\n",
    "\n",
    "sns.distplot(y_pred, kde = False, bins = 100, color = \"green\")"
   ]
  },
  {
   "cell_type": "code",
   "execution_count": 168,
   "metadata": {
    "scrolled": true
   },
   "outputs": [
    {
     "data": {
      "text/plain": [
       "0    8620\n",
       "1      98\n",
       "dtype: int64"
      ]
     },
     "execution_count": 168,
     "metadata": {},
     "output_type": "execute_result"
    }
   ],
   "source": [
    "y_result = np.where(y_pred > 0.8, 1, 0)\n",
    "pd.Series(y_result).value_counts()"
   ]
  },
  {
   "cell_type": "code",
   "execution_count": null,
   "metadata": {},
   "outputs": [],
   "source": [
    "# upsample 2\n",
    "\n",
    "sr = StackingRegressor(models2, GradientBoostingRegressor(), features)\n",
    "sr.fit(X_norm2, y2)\n",
    "y_pred = sr.predict(X_test_norm)\n",
    "\n",
    "sns.distplot(y_pred, kde = False, bins = 100, color = \"green\")\n",
    "\n",
    "y_result = np.where(y_pred > 0.5, 1, 0)\n",
    "pd.Series(y_result).value_counts()"
   ]
  },
  {
   "cell_type": "code",
   "execution_count": null,
   "metadata": {},
   "outputs": [],
   "source": []
  },
  {
   "cell_type": "code",
   "execution_count": 102,
   "metadata": {},
   "outputs": [
    {
     "data": {
      "text/plain": [
       "0    8602\n",
       "1     116\n",
       "dtype: int64"
      ]
     },
     "execution_count": 102,
     "metadata": {},
     "output_type": "execute_result"
    },
    {
     "data": {
      "image/png": "[encoded data removed]",
      "text/plain": [
       "<Figure size 432x288 with 1 Axes>"
      ]
     },
     "metadata": {
      "needs_background": "light"
     },
     "output_type": "display_data"
    }
   ],
   "source": [
    "# upsample 4\n",
    "\n",
    "sr = StackingRegressor(models2, GradientBoostingRegressor(), features)\n",
    "sr.fit(X_norm4, y4)\n",
    "y_pred = sr.predict(X_test_norm)\n",
    "\n",
    "sns.distplot(y_pred, kde = False, bins = 100, color = \"green\")\n",
    "\n",
    "y_result = np.where(y_pred > 0.5, 1, 0)\n",
    "pd.Series(y_result).value_counts()"
   ]
  },
  {
   "cell_type": "code",
   "execution_count": 112,
   "metadata": {},
   "outputs": [
    {
     "name": "stdout",
     "output_type": "stream",
     "text": [
      "0    8471\n",
      "1     247\n",
      "dtype: int64\n"
     ]
    },
    {
     "data": {
      "image/png": "[encoded data removed]",
      "text/plain": [
       "<Figure size 432x288 with 1 Axes>"
      ]
     },
     "metadata": {
      "needs_background": "light"
     },
     "output_type": "display_data"
    }
   ],
   "source": [
    "# upsample 4\n",
    "\n",
    "sr = StackingRegressor(models, GradientBoostingRegressor(), features)\n",
    "sr.fit(X_norm4, y4)\n",
    "y_pred = sr.predict(X_test_norm)\n",
    "\n",
    "sns.distplot(y_pred, kde = False, bins = 100, color = \"green\")\n",
    "\n",
    "y_result = np.where(y_pred > 0.5, 1, 0)\n",
    "print(pd.Series(y_result).value_counts())\n",
    "\n",
    "submission = pd.DataFrame({\n",
    "    \"id\": stk_test[\"id\"],\n",
    "    \"stroke_in_2018\": y_pred\n",
    "})\n",
    "submission.to_csv(\"../submission/submission_5_upsample4_model.csv\", index=False)"
   ]
  },
  {
   "cell_type": "code",
   "execution_count": 111,
   "metadata": {},
   "outputs": [
    {
     "name": "stdout",
     "output_type": "stream",
     "text": [
      "0    8601\n",
      "1     117\n",
      "dtype: int64\n"
     ]
    },
    {
     "data": {
      "image/png": "[encoded data removed]",
      "text/plain": [
       "<Figure size 432x288 with 1 Axes>"
      ]
     },
     "metadata": {
      "needs_background": "light"
     },
     "output_type": "display_data"
    }
   ],
   "source": [
    "# upsample 4\n",
    "\n",
    "sr = StackingRegressor(models3, GradientBoostingRegressor(), features)\n",
    "sr.fit(X_norm4, y4)\n",
    "y_pred = sr.predict(X_test_norm)\n",
    "\n",
    "sns.distplot(y_pred, kde = False, bins = 100, color = \"green\")\n",
    "\n",
    "y_result = np.where(y_pred > 0.5, 1, 0)\n",
    "print(pd.Series(y_result).value_counts())\n",
    "\n",
    "submission = pd.DataFrame({\n",
    "    \"id\": stk_test[\"id\"],\n",
    "    \"stroke_in_2018\": y_pred\n",
    "})\n",
    "submission.to_csv(\"../submission/submission_4_upsample4_model3.csv\", index=False)"
   ]
  },
  {
   "cell_type": "code",
   "execution_count": 107,
   "metadata": {},
   "outputs": [
    {
     "data": {
      "text/plain": [
       "0    8585\n",
       "1     133\n",
       "dtype: int64"
      ]
     },
     "execution_count": 107,
     "metadata": {},
     "output_type": "execute_result"
    }
   ],
   "source": [
    "y_result = np.where(y_pred > 0.8, 1, 0)\n",
    "pd.Series(y_result).value_counts()"
   ]
  },
  {
   "cell_type": "markdown",
   "metadata": {},
   "source": [
    "### Submissions"
   ]
  },
  {
   "cell_type": "code",
   "execution_count": null,
   "metadata": {},
   "outputs": [],
   "source": [
    "# We still don't know which dataset the first submission used. \n",
    "\n",
    "sr = StackingRegressor(models2, GradientBoostingRegressor(), features)\n",
    "sr.fit(X_norm, y)\n",
    "y_pred = sr.predict(X_test_norm)\n",
    "\n",
    "sns.distplot(y_pred, kde = False, bins = 100, color = \"green\")\n",
    "\n",
    "# submission = pd.DataFrame({\n",
    "#     \"id\": stk_test[\"id\"],\n",
    "#     \"stroke_in_2018\": y_pred\n",
    "# })\n",
    "# submission.to_csv(\"../submission/submission_1.csv\", index=False)"
   ]
  },
  {
   "cell_type": "code",
   "execution_count": 45,
   "metadata": {},
   "outputs": [],
   "source": [
    "# WHICH DATA SET????\n",
    "\n",
    "\n",
    "\n",
    "# sr = StackingRegressor(models2, GradientBoostingRegressor(), features)\n",
    "# sr.fit(X_norm, y)\n",
    "# y_pred = sr.predict(X_test_norm)\n",
    "\n",
    "# sns.distplot(y_pred, kde = False, bins = 100, color = \"green\")\n",
    "\n",
    "# y_result = np.where(y_pred > 0.5, 1, 0)\n",
    "# pd.Series(y_result).value_counts()\n",
    "\n",
    "# 8616\n",
    "# 102\n",
    "\n",
    "# y_result = np.where(y_pred > 0.3, 1, 0)\n",
    "# pd.Series(y_result).value_counts()\n",
    "\n",
    "# 8588\n",
    "# 130\n",
    "\n",
    "# submission2 = pd.DataFrame({\n",
    "#     \"id\": stk_test[\"id\"],\n",
    "#     \"stroke_in_2018\": y_pred\n",
    "# })\n",
    "# submission2.to_csv(\"../submission/submission_2.csv\", index=False)\n",
    "\n",
    "# 0.65"
   ]
  },
  {
   "cell_type": "code",
   "execution_count": 46,
   "metadata": {},
   "outputs": [],
   "source": [
    "# stk = pd.read_csv(\"../data/train_processed_upsampled.csv\")\n",
    "# stk.head()\n",
    "\n",
    "# models = [\n",
    "#     GradientBoostingRegressor(), RandomForestRegressor(), ExtraTreesRegressor(), \n",
    "#     Lasso(), LinearRegression(), Ridge()\n",
    "# ]\n",
    "\n",
    "# sr = StackingRegressor(models, GradientBoostingRegressor(), features)\n",
    "# sr\n",
    "\n",
    "# 0 8539\n",
    "# 1 179"
   ]
  },
  {
   "cell_type": "code",
   "execution_count": 171,
   "metadata": {},
   "outputs": [
    {
     "name": "stdout",
     "output_type": "stream",
     "text": [
      "fitting the model\n",
      "0    8329\n",
      "1     389\n",
      "dtype: int64\n",
      "writing to csv\n"
     ]
    },
    {
     "data": {
      "image/png": "[encoded data removed]",
      "text/plain": [
       "<Figure size 432x288 with 1 Axes>"
      ]
     },
     "metadata": {
      "needs_background": "light"
     },
     "output_type": "display_data"
    }
   ],
   "source": [
    "stk = pd.read_csv(\"../data/train_processed_upsampled.csv\")\n",
    "stk.head()\n",
    "\n",
    "models = [\n",
    "    GradientBoostingRegressor(), RandomForestRegressor(), ExtraTreesRegressor(), \n",
    "    Lasso(), LinearRegression(), Ridge()\n",
    "]\n",
    "\n",
    "X = stk.drop(labels=\"stroke_in_2018\", axis=1).reset_index(drop=True)\n",
    "y = stk[\"stroke_in_2018\"].reset_index(drop=True)\n",
    "\n",
    "X_norm = X.copy()\n",
    "norm_cols(X_norm, [\"average_blood_sugar\", \"BMI\", \"age_corr\"])\n",
    "\n",
    "print(\"fitting the model\")\n",
    "sr = StackingRegressor(models, GradientBoostingRegressor(), features)\n",
    "sr.fit(X_norm, y)\n",
    "y_pred = sr.predict(X_test_norm)\n",
    "\n",
    "sns.distplot(y_pred, kde = False, bins = 100, color = \"green\")\n",
    "\n",
    "y_result = np.where(y_pred > 0.5, 1, 0)\n",
    "print(pd.Series(y_result).value_counts())\n",
    "\n",
    "print(\"writing to csv\")\n",
    "submission = pd.DataFrame({\n",
    "    \"id\": stk_test[\"id\"],\n",
    "    \"stroke_in_2018\": y_pred\n",
    "})\n",
    "# submission.to_csv(\"../submission/submission_9_upsampling_models.csv\", index=False)\n",
    "\n",
    "# 0.60"
   ]
  },
  {
   "cell_type": "code",
   "execution_count": 169,
   "metadata": {},
   "outputs": [],
   "source": [
    "stk = pd.read_csv(\"../data/train_processed_upsampled2.csv\")\n",
    "stk.head()\n",
    "\n",
    "models = [\n",
    "    GradientBoostingRegressor(), RandomForestRegressor(), ExtraTreesRegressor(), \n",
    "    Lasso(), LinearRegression(), Ridge()\n",
    "]\n",
    "\n",
    "X = stk.drop(labels=\"stroke_in_2018\", axis=1).reset_index(drop=True)\n",
    "y = stk[\"stroke_in_2018\"].reset_index(drop=True)\n",
    "\n",
    "X_norm = X.copy()\n",
    "norm_cols(X_norm, [\"average_blood_sugar\", \"BMI\", \"age_corr\"])\n",
    "\n",
    "print(\"fitting the model\")\n",
    "sr = StackingRegressor(models, GradientBoostingRegressor(), features)\n",
    "sr.fit(X_norm, y)\n",
    "y_pred = sr.predict(X_test_norm)\n",
    "\n",
    "print(\"\")\n",
    "submission = pd.DataFrame({\n",
    "    \"id\": stk_test[\"id\"],\n",
    "    \"stroke_in_2018\": y_pred\n",
    "})\n",
    "submission.to_csv(\"../submission/submission_8_upsampling2_models.csv\", index=False)\n",
    "\n",
    "# 0.51"
   ]
  },
  {
   "cell_type": "code",
   "execution_count": 47,
   "metadata": {
    "scrolled": true
   },
   "outputs": [
    {
     "data": {
      "text/plain": [
       " 0.000015    5608\n",
       " 0.000079    1165\n",
       " 0.000264     239\n",
       " 0.000142     164\n",
       "-0.000261     117\n",
       "-0.000022      65\n",
       "-0.000087      62\n",
       "-0.000037      59\n",
       "-0.000159      37\n",
       " 0.008758      37\n",
       "-0.000139      28\n",
       " 0.001584      27\n",
       "-0.000043      24\n",
       "-0.000261      23\n",
       "-0.000144      22\n",
       " 0.007636      19\n",
       "-0.000118      19\n",
       " 0.001205      18\n",
       "-0.000608      16\n",
       " 0.012784      14\n",
       " 0.007820      13\n",
       "-0.046492      13\n",
       " 0.011662      12\n",
       " 0.010562      12\n",
       "-0.000846      11\n",
       " 0.002516      11\n",
       " 0.004206      11\n",
       " 0.000451      10\n",
       " 0.002451      10\n",
       " 0.008822       9\n",
       "             ... \n",
       "-0.019793       1\n",
       " 0.456828       1\n",
       " 0.019530       1\n",
       " 0.002152       1\n",
       " 0.012352       1\n",
       "-0.034336       1\n",
       " 0.006103       1\n",
       " 0.340047       1\n",
       " 0.123588       1\n",
       " 0.000633       1\n",
       "-0.045566       1\n",
       "-0.005442       1\n",
       "-0.041203       1\n",
       " 0.996220       1\n",
       "-0.000696       1\n",
       "-0.000098       1\n",
       " 0.319718       1\n",
       " 0.827448       1\n",
       " 0.628173       1\n",
       " 0.581904       1\n",
       " 1.011289       1\n",
       " 0.985148       1\n",
       "-0.000392       1\n",
       "-0.078451       1\n",
       " 1.081459       1\n",
       " 0.000811       1\n",
       "-0.001782       1\n",
       " 0.003264       1\n",
       "-0.000529       1\n",
       "-0.000662       1\n",
       "Length: 513, dtype: int64"
      ]
     },
     "execution_count": 47,
     "metadata": {},
     "output_type": "execute_result"
    }
   ],
   "source": [
    "pd.Series(y_pred).unique()\n",
    "pd.Series(y_pred).value_counts()"
   ]
  },
  {
   "cell_type": "code",
   "execution_count": 160,
   "metadata": {},
   "outputs": [
    {
     "data": {
      "text/plain": [
       "<matplotlib.axes._subplots.AxesSubplot at 0x1304839e8>"
      ]
     },
     "execution_count": 160,
     "metadata": {},
     "output_type": "execute_result"
    },
    {
     "data": {
      "image/png": "[encoded data removed]",
      "text/plain": [
       "<Figure size 432x288 with 1 Axes>"
      ]
     },
     "metadata": {
      "needs_background": "light"
     },
     "output_type": "display_data"
    }
   ],
   "source": [
    "submission1 = pd.read_csv(\"../submission/submission_1.csv\")\n",
    "sns.distplot(submission1[\"stroke_in_2018\"], kde = False, bins = 100, color = \"green\")"
   ]
  },
  {
   "cell_type": "code",
   "execution_count": 164,
   "metadata": {},
   "outputs": [
    {
     "name": "stdout",
     "output_type": "stream",
     "text": [
      "0    6592\n",
      "1    2126\n",
      "Name: stroke_in_2018_test, dtype: int64\n"
     ]
    }
   ],
   "source": [
    "submission1[\"stroke_in_2018_test\"] = np.where(submission1[\"stroke_in_2018\"] > 0.8, 1, 0)\n",
    "print(submission1[\"stroke_in_2018_test\"].value_counts())"
   ]
  },
  {
   "cell_type": "code",
   "execution_count": 165,
   "metadata": {},
   "outputs": [],
   "source": [
    "submission1.to_csv(\"../submission/submission_7_npwhere_0.8_upsampling2_not_sure.csv\", index=False)"
   ]
  },
  {
   "cell_type": "code",
   "execution_count": null,
   "metadata": {},
   "outputs": [],
   "source": []
  },
  {
   "cell_type": "code",
   "execution_count": null,
   "metadata": {},
   "outputs": [],
   "source": []
  },
  {
   "cell_type": "markdown",
   "metadata": {},
   "source": [
    "### Submission of Base Features"
   ]
  },
  {
   "cell_type": "markdown",
   "metadata": {},
   "source": [
    "I still think upsampled 2 is the best one so far. \n",
    "\n",
    "So now we create the test sample with only base features"
   ]
  },
  {
   "cell_type": "code",
   "execution_count": 134,
   "metadata": {},
   "outputs": [],
   "source": [
    "stk = pd.read_csv(\"../data/train_processed_upsampled2.csv\")\n",
    "stk.head()\n",
    "\n",
    "X = stk.drop(labels=\"stroke_in_2018\", axis=1).reset_index(drop=True)\n",
    "y = stk[\"stroke_in_2018\"].reset_index(drop=True)\n",
    "\n",
    "X_norm = X[['average_blood_sugar', 'BMI', 'age_corr', 'high_BP_0', 'high_BP_1',\n",
    "       'smoker_status_active_smoker', 'smoker_status_non_smoker',\n",
    "       'smoker_status_quit', 'married_0', 'married_1',\n",
    "       'heart_condition_detected_2017_0', 'heart_condition_detected_2017_1',\n",
    "       'job_status_corr_business_owner', 'job_status_corr_government',\n",
    "       'job_status_corr_parental_leave', 'job_status_corr_private_sector',\n",
    "       'job_status_corr_unemployed', 'living_area_corr_city',\n",
    "       'living_area_corr_remote']].copy()\n",
    "norm_cols(X_norm, [\"average_blood_sugar\", \"BMI\", \"age_corr\"])"
   ]
  },
  {
   "cell_type": "code",
   "execution_count": 114,
   "metadata": {},
   "outputs": [],
   "source": [
    "stk_test = pd.read_csv(\"../data/test_processed_feature_engineered.csv\")\n",
    "stk_test.head()\n",
    "\n",
    "X_test = stk_test[['average_blood_sugar', 'BMI', 'age_corr', 'high_BP_0', 'high_BP_1',\n",
    "       'smoker_status_active_smoker', 'smoker_status_non_smoker',\n",
    "       'smoker_status_quit', 'married_0', 'married_1',\n",
    "       'heart_condition_detected_2017_0', 'heart_condition_detected_2017_1',\n",
    "       'job_status_corr_business_owner', 'job_status_corr_government',\n",
    "       'job_status_corr_parental_leave', 'job_status_corr_private_sector',\n",
    "       'job_status_corr_unemployed', 'living_area_corr_city',\n",
    "       'living_area_corr_remote']].copy()\n",
    "X_test_norm = X_test.copy()\n",
    "norm_cols(X_test_norm, [\"average_blood_sugar\", \"BMI\", \"age_corr\"])"
   ]
  },
  {
   "cell_type": "code",
   "execution_count": 138,
   "metadata": {},
   "outputs": [],
   "source": [
    "models = [\n",
    "        GradientBoostingRegressor(), RandomForestRegressor(), ExtraTreesRegressor(),\n",
    "        LinearRegression(), Ridge()\n",
    "]\n",
    "\n",
    "linear_based_models = {\n",
    "    \"en\": ElasticNet(),\n",
    "    \"hr\": HuberRegressor(),\n",
    "    \"lr\": LinearRegression(),\n",
    "    \"ridge\": Ridge(),\n",
    "    \"lasso\": Lasso(),\n",
    "    \"sgd\": SGDRegressor(), \n",
    "    \"pa\": PassiveAggressiveRegressor()\n",
    "}\n",
    "\n",
    "tree_based_models = {\n",
    "    \"dt\": DecisionTreeRegressor(),\n",
    "    \"rf\": RandomForestRegressor(),\n",
    "    \"ada\": AdaBoostRegressor(),\n",
    "    \"gb\": GradientBoostingRegressor(),\n",
    "    \"et\": ExtraTreesRegressor(),\n",
    "    \"xgb\": XGBRegressor()\n",
    "}\n",
    "\n",
    "tree_model_best_features = [\n",
    "    'married_0',\n",
    "    'smoker_status_active_smoker',\n",
    "    'smoker_status_quit',\n",
    "    'job_status_corr_business_owner',\n",
    "    'job_status_corr_private_sector',\n",
    "    'living_area_corr_city',\n",
    "    'job_status_corr_government',\n",
    "    'smoker_status_non_smoker',\n",
    "    'BMI',\n",
    "    'average_blood_sugar',\n",
    "    'heart_condition_detected_2017_1',\n",
    "    'age_corr',\n",
    "    'living_area_corr_remote',\n",
    "    'heart_condition_detected_2017_0'\n",
    "]\n",
    "\n",
    "linear_model_selected_features = [\n",
    "    'job_status_corr_government',\n",
    "    'smoker_status_non_smoker',\n",
    "    'BMI',\n",
    "    'age_corr',\n",
    "    'married_0',\n",
    "    'smoker_status_quit',\n",
    "    'job_status_corr_unemployed',\n",
    "    'job_status_corr_business_owner',\n",
    "    'job_status_corr_parental_leave',\n",
    "    'job_status_corr_private_sector',\n",
    "    'smoker_status_active_smoker',\n",
    "    'high_BP_1',\n",
    "    'high_BP_0',\n",
    "    'heart_condition_detected_2017_1',\n",
    "    'heart_condition_detected_2017_0',\n",
    "    'living_area_corr_remote',\n",
    "    'average_blood_sugar',\n",
    "    'married_1',\n",
    "    'living_area_corr_city'\n",
    "]\n",
    "\n",
    "features = [\n",
    "    (\"tree\", tree_model_best_features),\n",
    "    (\"linear\", linear_model_selected_features)\n",
    "]\n"
   ]
  },
  {
   "cell_type": "code",
   "execution_count": 141,
   "metadata": {},
   "outputs": [
    {
     "name": "stdout",
     "output_type": "stream",
     "text": [
      "0    8584\n",
      "1     134\n",
      "dtype: int64\n"
     ]
    },
    {
     "data": {
      "image/png": "[encoded data removed]",
      "text/plain": [
       "<Figure size 432x288 with 1 Axes>"
      ]
     },
     "metadata": {
      "needs_background": "light"
     },
     "output_type": "display_data"
    }
   ],
   "source": [
    "# upsample 2\n",
    "\n",
    "sr = StackingRegressor(models, GradientBoostingRegressor(), features)\n",
    "sr.fit(X_norm, y)\n",
    "y_pred = sr.predict(X_test_norm)\n",
    "\n",
    "sns.distplot(y_pred, kde = False, bins = 100, color = \"green\")\n",
    "\n",
    "y_result = np.where(y_pred > 0.5, 1, 0)\n",
    "print(pd.Series(y_result).value_counts())\n",
    "\n",
    "submission = pd.DataFrame({\n",
    "    \"id\": stk_test[\"id\"],\n",
    "    \"stroke_in_2018\": y_pred\n",
    "})\n",
    "submission.to_csv(\"../submission/submission_6_upsample2_models_base_feature.csv\", index=False)"
   ]
  },
  {
   "cell_type": "code",
   "execution_count": null,
   "metadata": {},
   "outputs": [],
   "source": []
  }
 ],
 "metadata": {
  "kernelspec": {
   "display_name": "Python 3",
   "language": "python",
   "name": "python3"
  },
  "language_info": {
   "codemirror_mode": {
    "name": "ipython",
    "version": 3
   },
   "file_extension": ".py",
   "mimetype": "text/x-python",
   "name": "python",
   "nbconvert_exporter": "python",
   "pygments_lexer": "ipython3",
   "version": "3.7.3"
  }
 },
 "nbformat": 4,
 "nbformat_minor": 2
}
