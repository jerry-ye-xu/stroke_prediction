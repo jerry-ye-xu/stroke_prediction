{
 "cells": [
  {
   "cell_type": "code",
   "execution_count": 1,
   "metadata": {},
   "outputs": [],
   "source": [
    "import pandas as pd"
   ]
  },
  {
   "cell_type": "code",
   "execution_count": 2,
   "metadata": {},
   "outputs": [
    {
     "data": {
      "text/html": [
       "<div>\n",
       "<style scoped>\n",
       "    .dataframe tbody tr th:only-of-type {\n",
       "        vertical-align: middle;\n",
       "    }\n",
       "\n",
       "    .dataframe tbody tr th {\n",
       "        vertical-align: top;\n",
       "    }\n",
       "\n",
       "    .dataframe thead th {\n",
       "        text-align: right;\n",
       "    }\n",
       "</style>\n",
       "<table border=\"1\" class=\"dataframe\">\n",
       "  <thead>\n",
       "    <tr style=\"text-align: right;\">\n",
       "      <th></th>\n",
       "      <th>id</th>\n",
       "      <th>sex and age</th>\n",
       "      <th>high_BP</th>\n",
       "      <th>heart_condition_detected_2017</th>\n",
       "      <th>married</th>\n",
       "      <th>job_status and living_area</th>\n",
       "      <th>average_blood_sugar</th>\n",
       "      <th>BMI</th>\n",
       "      <th>smoker_status</th>\n",
       "      <th>TreatmentA</th>\n",
       "      <th>TreatmentB</th>\n",
       "      <th>TreatmentC</th>\n",
       "      <th>TreatmentD</th>\n",
       "      <th>stroke_in_2018</th>\n",
       "    </tr>\n",
       "  </thead>\n",
       "  <tbody>\n",
       "    <tr>\n",
       "      <th>0</th>\n",
       "      <td>16053</td>\n",
       "      <td>F, 61</td>\n",
       "      <td>1</td>\n",
       "      <td>0</td>\n",
       "      <td>1</td>\n",
       "      <td>government?Remote</td>\n",
       "      <td>71.67</td>\n",
       "      <td>36.6</td>\n",
       "      <td>non-smoker</td>\n",
       "      <td>NaN</td>\n",
       "      <td>NaN</td>\n",
       "      <td>NaN</td>\n",
       "      <td>NaN</td>\n",
       "      <td>0</td>\n",
       "    </tr>\n",
       "    <tr>\n",
       "      <th>1</th>\n",
       "      <td>1459</td>\n",
       "      <td>F, 30</td>\n",
       "      <td>0</td>\n",
       "      <td>0</td>\n",
       "      <td>0</td>\n",
       "      <td>Remote?private_sector</td>\n",
       "      <td>107.95</td>\n",
       "      <td>30.4</td>\n",
       "      <td>quit</td>\n",
       "      <td>NaN</td>\n",
       "      <td>NaN</td>\n",
       "      <td>NaN</td>\n",
       "      <td>NaN</td>\n",
       "      <td>0</td>\n",
       "    </tr>\n",
       "    <tr>\n",
       "      <th>2</th>\n",
       "      <td>7678</td>\n",
       "      <td>F, 51</td>\n",
       "      <td>1</td>\n",
       "      <td>0</td>\n",
       "      <td>1</td>\n",
       "      <td>government?Remote</td>\n",
       "      <td>76.49</td>\n",
       "      <td>42.1</td>\n",
       "      <td>active_smoker</td>\n",
       "      <td>NaN</td>\n",
       "      <td>NaN</td>\n",
       "      <td>NaN</td>\n",
       "      <td>NaN</td>\n",
       "      <td>0</td>\n",
       "    </tr>\n",
       "    <tr>\n",
       "      <th>3</th>\n",
       "      <td>34943</td>\n",
       "      <td>F, 54</td>\n",
       "      <td>0</td>\n",
       "      <td>0</td>\n",
       "      <td>1</td>\n",
       "      <td>government?City</td>\n",
       "      <td>113.98</td>\n",
       "      <td>57.3</td>\n",
       "      <td>quit</td>\n",
       "      <td>NaN</td>\n",
       "      <td>NaN</td>\n",
       "      <td>NaN</td>\n",
       "      <td>NaN</td>\n",
       "      <td>0</td>\n",
       "    </tr>\n",
       "    <tr>\n",
       "      <th>4</th>\n",
       "      <td>17741</td>\n",
       "      <td>M, 27</td>\n",
       "      <td>0</td>\n",
       "      <td>0</td>\n",
       "      <td>0</td>\n",
       "      <td>private_sector?City</td>\n",
       "      <td>70.60</td>\n",
       "      <td>26.7</td>\n",
       "      <td>active_smoker</td>\n",
       "      <td>NaN</td>\n",
       "      <td>NaN</td>\n",
       "      <td>NaN</td>\n",
       "      <td>NaN</td>\n",
       "      <td>0</td>\n",
       "    </tr>\n",
       "  </tbody>\n",
       "</table>\n",
       "</div>"
      ],
      "text/plain": [
       "      id sex and age high_BP heart_condition_detected_2017 married  \\\n",
       "0  16053       F, 61       1                             0       1   \n",
       "1   1459       F, 30       0                             0       0   \n",
       "2   7678       F, 51       1                             0       1   \n",
       "3  34943       F, 54       0                             0       1   \n",
       "4  17741       M, 27       0                             0       0   \n",
       "\n",
       "  job_status and living_area  average_blood_sugar   BMI  smoker_status  \\\n",
       "0          government?Remote                71.67  36.6     non-smoker   \n",
       "1      Remote?private_sector               107.95  30.4           quit   \n",
       "2          government?Remote                76.49  42.1  active_smoker   \n",
       "3            government?City               113.98  57.3           quit   \n",
       "4        private_sector?City                70.60  26.7  active_smoker   \n",
       "\n",
       "   TreatmentA  TreatmentB  TreatmentC TreatmentD stroke_in_2018  \n",
       "0         NaN         NaN         NaN        NaN              0  \n",
       "1         NaN         NaN         NaN        NaN              0  \n",
       "2         NaN         NaN         NaN        NaN              0  \n",
       "3         NaN         NaN         NaN        NaN              0  \n",
       "4         NaN         NaN         NaN        NaN              0  "
      ]
     },
     "execution_count": 2,
     "metadata": {},
     "output_type": "execute_result"
    }
   ],
   "source": [
    "stk = pd.read_csv(\"../data/train.csv\")\n",
    "stk.head()"
   ]
  },
  {
   "cell_type": "code",
   "execution_count": 3,
   "metadata": {},
   "outputs": [
    {
     "data": {
      "text/plain": [
       "0       34179\n",
       "1         652\n",
       ".           3\n",
       ",           1\n",
       "?           1\n",
       "N?A         1\n",
       "nuLL        1\n",
       "Name: stroke_in_2018, dtype: int64"
      ]
     },
     "execution_count": 3,
     "metadata": {},
     "output_type": "execute_result"
    }
   ],
   "source": [
    "stk[\"stroke_in_2018\"].value_counts()"
   ]
  },
  {
   "cell_type": "markdown",
   "metadata": {},
   "source": [
    "<div class=\"alert alert-block alert-warning\">\n",
    "Highly Imbalanced Dataset!\n",
    "</div>"
   ]
  },
  {
   "cell_type": "code",
   "execution_count": 4,
   "metadata": {},
   "outputs": [
    {
     "data": {
      "text/plain": [
       "Index(['id', 'sex and age', 'high_BP', 'heart_condition_detected_2017',\n",
       "       'married', 'job_status and living_area', 'average_blood_sugar', 'BMI',\n",
       "       'smoker_status', 'TreatmentA', 'TreatmentB', 'TreatmentC', 'TreatmentD',\n",
       "       'stroke_in_2018'],\n",
       "      dtype='object')"
      ]
     },
     "execution_count": 4,
     "metadata": {},
     "output_type": "execute_result"
    }
   ],
   "source": [
    "stk.columns"
   ]
  },
  {
   "cell_type": "code",
   "execution_count": 5,
   "metadata": {},
   "outputs": [
    {
     "data": {
      "text/plain": [
       "(34872, 14)"
      ]
     },
     "execution_count": 5,
     "metadata": {},
     "output_type": "execute_result"
    }
   ],
   "source": [
    "stk.shape"
   ]
  },
  {
   "cell_type": "code",
   "execution_count": 6,
   "metadata": {
    "scrolled": true
   },
   "outputs": [
    {
     "data": {
      "text/plain": [
       "array(['government?Remote', 'Remote?private_sector', 'government?City',\n",
       "       'private_sector?City', 'private_sector?Remote',\n",
       "       'business_owner?Remote', 'parental_leave?Remote',\n",
       "       'parental_leave?City', 'business_owner?City',\n",
       "       'City?private_sector', 'private sector?Remote',\n",
       "       'Remote?business_owner', 'City?business_owner',\n",
       "       'Remote?government', 'City?government', 'City?parental_leave',\n",
       "       'Remote?parental_leave', 'unemployed?City', 'unemployed?Remote',\n",
       "       'private_sector?c', 'private_sector?', 'business_owner?cIty',\n",
       "       'govt.?Remote', 'private_sector?CITY', nan, 'City?unemployed',\n",
       "       'PARENTAL LEAVE?City', '?Remote', 'remote?private_sector',\n",
       "       'cIty?private_sector', 'GOVERNMENT?Remote', '?City',\n",
       "       'private?City', 'NULL?City', 'cIty?government',\n",
       "       'private_sector?NULL', 'Remote?unemployed',\n",
       "       'PRIVATE sector?Remote', 'remotee?private_sector',\n",
       "       'parental_leave?REMOTE', 'government?CITY', 'r?private_sector',\n",
       "       'city?private_sector', 'GOVERNMENT?City', 'NULL?private_sector',\n",
       "       'PARENTAL_leave?City', 'private sector?City', 'n.a?City',\n",
       "       'parental_leave?remote', 'City?privattte', 'CITY?private_sector',\n",
       "       'CIty?private_sector', 'government?REMOTE', 'BUSINESS OWNER?City',\n",
       "       'City?Biz', 'NULL?Remote', 'PARENTAL leave?Remote',\n",
       "       'GOVERNment?Remote', 'private_sector?ciTY', 'GOVT.?City',\n",
       "       'biz?City', 'PRIVATE SECTOR?City', 'business_owner?CITY',\n",
       "       'private_sector?REMOTE', 'business_owner?remote',\n",
       "       'c?private_sector'], dtype=object)"
      ]
     },
     "execution_count": 6,
     "metadata": {},
     "output_type": "execute_result"
    }
   ],
   "source": [
    "stk[\"job_status and living_area\"].unique()"
   ]
  },
  {
   "cell_type": "code",
   "execution_count": 7,
   "metadata": {
    "scrolled": true
   },
   "outputs": [
    {
     "data": {
      "text/plain": [
       "array(['F, 61', 'F, 30', 'F, 51', 'F, 54', 'M, 27', nan, 'M, 63', 'M, 55',\n",
       "       'F, 37', 'M, 49', 'M, 28', 'F, 68', 'M, 61', 'F, 6', 'M, 48',\n",
       "       'F, 36', 'M, 53', 'M, 72', 'M, 64', 'F, 71', 'M, 54', 'M, 34',\n",
       "       '76, F', 'M, 16', 'M, 31', 'F, 66', 'M, 74', 'M, 59', 'M, 52',\n",
       "       'M, 43', 'F, 76', 'F, 16', 'F, 15', 'F, 32', 'F, 64', 'F, 52',\n",
       "       'F, 27', 'M, 17', 'M, 79', 'F, 5', 'F, 39', 'F, 34', 'M, 83',\n",
       "       'M, 8', 'M, 15', 'M, 6', 'F, 82', 'M, 11', 'M, 30', '8, F',\n",
       "       'F, 38', 'F, 25', 'F, 40', 'F, 80', 'M, 32', 'M, 77', 'M, 60',\n",
       "       'F, 42', 'M, 35', 'F, 55', 'F, 74', 'M, 19', 'M, 70', 'F, 85',\n",
       "       'M, 73', 'F, 57', 'M, 67', 'M, 25', 'M, 39', 'M, 37', 'F, 72',\n",
       "       'F, 59', 'M, 40', 'F, 73', 'F, 11', 'F, 50', 'F, 53', 'F, 35',\n",
       "       'F, 33', 'M, 69', 'F, 78', 'F, 17', 'F, 69', 'M, 22', 'F, 13',\n",
       "       '17, F', 'M, 62', 'M, 65', 'M, 58', 'M, 82', 'F, 43', 'F, 44',\n",
       "       '18, F', '59, F', 'M, 36', 'M, 76', 'M, 50', 'M, 38', 'M, 3.24',\n",
       "       '43, F', 'F, 20', 'F, 46', 'M, 66', 'F, 48', 'M, 57', '66, F',\n",
       "       'M, 26', 'M, 12', 'F, 22', 'F, 49', '3.64, F', 'F, 19', 'M, 42',\n",
       "       'F, 29', 'F, 60', 'M, 44', 'M, 56', 'F, 8', 'F, 83', '70, F',\n",
       "       'M, 3.72', 'F, 4.16', '53, F', 'F, 65', 'M, 4.56', 'F, 79',\n",
       "       'F, 62', 'M, 23', 'F, 21', 'M, 29', 'M, 24', 'M, 41', '35, M',\n",
       "       'F, 31', 'F, 10', '57, F', '62, M', 'F, 77', '47, F', 'male, 63',\n",
       "       'F, 67', 'F, 81', 'F, 4.08', 'F, 56', 'F, 12', 'F, 47', 'M, 45',\n",
       "       'M, 3.8', 'F, 9', '22, F', '48, F', 'F, 45', 'F, 18', 'M, 46',\n",
       "       'F, 28', '56, F', '33, M', '43, M', 'F, 23', 'M, 71', 'F, 58',\n",
       "       'F, 7', 'M, 84', 'F, 84', 'F, 63', 'M, 85', '16, F', 'M, 81',\n",
       "       'F, 41', 'F, 75', 'M, 75', '20, F', '52, M', '9, M', 'M, 5',\n",
       "       '51, M', '64, M', 'F, 3.8', '40, F', '38, M', 'M, 33', '61, F',\n",
       "       'M, 3.4', 'M, 68', '65, F', 'F, 70', 'M, 4.4', 'M, 20', 'M, 47',\n",
       "       'M, 9', '50, M', 'M, 13', 'F, 26', 'F, 24', '13, F', 'M, 3.56',\n",
       "       '75, F', '54, M', '48, M', '71, F', 'M, 51', 'M, 21', '61, M',\n",
       "       '35, F', 'F, 3.4', '46, F', 'M, 14', 'M, 3.32', '6, F', '37, F',\n",
       "       'M, 80', '5, F', 'M, 10', 'M, 3.08', '56, M', '42, M', 'F, 4.48',\n",
       "       '25, M', 'MALE, 39', 'M, 18', 'M, 4.72', 'F, 4.56', '37, M',\n",
       "       '47, M', '79, F', '83, F', '16, M', '26, F', 'M, fifty', '49, F',\n",
       "       'M, 4.24', '10, M', 'F, 3.32', 'F, 3.24', '55, M', '4.56, M',\n",
       "       '38, F', '7, M', 'M, 7', '13, M', '66, M', '78, F', 'M, 78',\n",
       "       '81, M', 'M, 4.64', 'F, 3.72', '60, M', '44, M', '77, F',\n",
       "       'M, 3.88', '4.88, M', '23, F', '21, F', '67, F', '24, F', '41, F',\n",
       "       '42, F', 'F, 4.8', 'M, 4.8', '70, M', '24, M', '19, F', 'M, 4.32',\n",
       "       '27, M', 'M, 4.88', '14, F', '27, F', '25, F', '33, F', '39, F',\n",
       "       'F, eleven', '28, M', 'F, 3.56', '74, F', '31, M', 'F, 4', '85, M',\n",
       "       '5, M', '63, M', '49, M', '50, F', 'F, 14', '7, F', '72, F',\n",
       "       '26, M', '80, F', '73, F', '63, F', '44, F', '4.72, M', '41, M',\n",
       "       '28, F', 'F, 4.4', '72, M', '82, M', '30, F', 'F, 4.64', '4.8, F',\n",
       "       '21, M', 'M, 3.16', '83, M', 'F, 3.64', '74, M', '12, F',\n",
       "       'F, 4.32', '75, M', '31, F', '11, F', '68, F', '58, F', '58, M',\n",
       "       '4.64, M', '71, M', '20, M', 'M, 3.64', 'M, 4', '10, F', '11, M',\n",
       "       '23, M', '4.8, M', '53, M', '4.56, F', '34, M', '29, F', '14, M',\n",
       "       '79, M', '82, F', '34, F', '3.08, F', '39, M', 'M, 4.48', '17, M',\n",
       "       'F, 3.08', '45, F', '12, M', 'M, seventy seven', 'F, 4.88',\n",
       "       '76, M', '19, M', 'F, 4.24', '73, M', '52, F', '32, F', 'M, 4.08',\n",
       "       '22, M', '80, M', '54, F', '60, F', '69, F', 'F, 3.16', '6, M',\n",
       "       '3.16, M', '65, M', '45, M', '77, M', 'female, 49', '8, M',\n",
       "       '30, M', '4.08, M', '57, M', '64, F', '85, F', '36, M', 'M, 4.16',\n",
       "       '55, F', '81, F', '4.4, F', '15, M', '36, F', 'F, twenty', 'M, ',\n",
       "       'F, 4.72', '62, F', '3.24, M', '67, M', 'F, seventy seven',\n",
       "       '18, M', '29, M', '84, F', '15, F', '51, F', 'F, 3.48',\n",
       "       'M, sixteen', '46, M', '59, M', '4.48, F', '4.08, F', '68, M',\n",
       "       '69, M', 'MALE, 59', 'F, 3.88', '3.48, F', '40, M', '78, M',\n",
       "       '9, F', 'm, 25', '3.72, M', 'F, forty', '84, M', '3.72, F',\n",
       "       'F, sixx', '4.4, M', '32, M', '3.32, M', '4, F', '4, M', '4.24, M',\n",
       "       'female, 60', 'M, 3.48', '4.88, F', 'Female, 77', '3.56, M',\n",
       "       '3.64, M', 'f, 52', '4.32, M', '3.56, F', 'MALE, 16', 'female, 8',\n",
       "       'M, eight', 'Other, 49', 'F, seven', 'female, 72', 'Other, 13',\n",
       "       'f, 27', '3.88, F', 'MALE, 64', 'F, eighty fivee', 'Other, 56',\n",
       "       '22, Other', '3.24, F', 'M, eleven', 'F, fifty', '4.16, M',\n",
       "       '4.16, F', 'M, six', 'female, 59', '3.4, F', '3.8, M', 'mmale, 75',\n",
       "       'f, 12', 'MM, 19', '4.64, F', 'Other, 42', 'female, 48',\n",
       "       'F, thirtythree', 'femalle, 56', 'Male, 54', 'm, 8', '4.72, F',\n",
       "       'm, 22', '3.48, M', '52, Other'], dtype=object)"
      ]
     },
     "execution_count": 7,
     "metadata": {},
     "output_type": "execute_result"
    }
   ],
   "source": [
    "stk[\"sex and age\"].unique()"
   ]
  },
  {
   "cell_type": "markdown",
   "metadata": {},
   "source": [
    "Looks like there are some variables that need to be wrangled."
   ]
  },
  {
   "cell_type": "code",
   "execution_count": null,
   "metadata": {},
   "outputs": [],
   "source": []
  },
  {
   "cell_type": "markdown",
   "metadata": {},
   "source": [
    "### Data Wrangling"
   ]
  },
  {
   "cell_type": "code",
   "execution_count": 8,
   "metadata": {},
   "outputs": [],
   "source": [
    "def split_row(row, sep):\n",
    "    x = str(row).split(sep=sep)\n",
    "#     print(x)\n",
    "    if len(x) == 1:\n",
    "        return str(x[0])\n",
    "    else:\n",
    "        return str(x[0]), str(x[1])\n",
    "    \n",
    "def split_tup(row):\n",
    "    if len(row) == 1:\n",
    "        return row[0]\n",
    "    else:\n",
    "        return row[0], row[1]   \n",
    "    \n",
    "# def swap_two_cols(col1, col2, \n",
    "#                   col1_str, col2_str,\n",
    "#                   col1_corr, col2_corr\n",
    "#                  ):\n",
    "#     print(\"{}: {}\\{}: {}\".format(col1_str, col1, col2_str, col2))\n",
    "#     if (col1 in col2_corr) & (col2 in col1_corr):\n",
    "#         print(\"swap\")\n",
    "#         return col2, col1\n",
    "#     else:\n",
    "#         print(\"don't swap\")\n",
    "#         return col1, col2\n",
    "    \n",
    "def swap_job_living(job, area):\n",
    "    print(\"job: {}\\narea: {}\".format(job, area))\n",
    "    if (job in living_area_correct) & (area in job_status_correct):\n",
    "        print(\"swap\")\n",
    "        return area, job\n",
    "    else:\n",
    "        print(\"don't swap\")\n",
    "        return job, area\n",
    "    \n",
    "def swap_sex_age(sex, age):\n",
    "    print(\"sex: {}\\nage: {}\".format(sex, age))\n",
    "    if (age in sex_correct):\n",
    "        print(\"swap\")\n",
    "        return age, sex\n",
    "    else:\n",
    "        print(\"don't swap\")\n",
    "        return sex, age"
   ]
  },
  {
   "cell_type": "markdown",
   "metadata": {},
   "source": [
    "#### Testing of functions"
   ]
  },
  {
   "cell_type": "code",
   "execution_count": null,
   "metadata": {},
   "outputs": [
    {
     "data": {
      "text/plain": [
       "('F', ' 61')"
      ]
     },
     "execution_count": 9,
     "metadata": {},
     "output_type": "execute_result"
    }
   ],
   "source": [
    "split_row(row='F, 61', sep=\",\")"
   ]
  },
  {
   "cell_type": "code",
   "execution_count": null,
   "metadata": {},
   "outputs": [],
   "source": []
  },
  {
   "cell_type": "code",
   "execution_count": null,
   "metadata": {},
   "outputs": [],
   "source": []
  },
  {
   "cell_type": "markdown",
   "metadata": {},
   "source": [
    "## Wrangling Begins Here"
   ]
  },
  {
   "cell_type": "markdown",
   "metadata": {},
   "source": [
    "<div class=\"alert alert-block alert-info\">\n",
    "Check Job status and living area\n",
    "</div>"
   ]
  },
  {
   "cell_type": "code",
   "execution_count": null,
   "metadata": {},
   "outputs": [
    {
     "data": {
      "text/html": [
       "<div>\n",
       "<style scoped>\n",
       "    .dataframe tbody tr th:only-of-type {\n",
       "        vertical-align: middle;\n",
       "    }\n",
       "\n",
       "    .dataframe tbody tr th {\n",
       "        vertical-align: top;\n",
       "    }\n",
       "\n",
       "    .dataframe thead th {\n",
       "        text-align: right;\n",
       "    }\n",
       "</style>\n",
       "<table border=\"1\" class=\"dataframe\">\n",
       "  <thead>\n",
       "    <tr style=\"text-align: right;\">\n",
       "      <th></th>\n",
       "      <th>id</th>\n",
       "      <th>sex and age</th>\n",
       "      <th>high_BP</th>\n",
       "      <th>heart_condition_detected_2017</th>\n",
       "      <th>married</th>\n",
       "      <th>job_status and living_area</th>\n",
       "      <th>average_blood_sugar</th>\n",
       "      <th>BMI</th>\n",
       "      <th>smoker_status</th>\n",
       "      <th>TreatmentA</th>\n",
       "      <th>TreatmentB</th>\n",
       "      <th>TreatmentC</th>\n",
       "      <th>TreatmentD</th>\n",
       "      <th>stroke_in_2018</th>\n",
       "      <th>job_status_living_area</th>\n",
       "    </tr>\n",
       "  </thead>\n",
       "  <tbody>\n",
       "    <tr>\n",
       "      <th>0</th>\n",
       "      <td>16053</td>\n",
       "      <td>F, 61</td>\n",
       "      <td>1</td>\n",
       "      <td>0</td>\n",
       "      <td>1</td>\n",
       "      <td>government?Remote</td>\n",
       "      <td>71.67</td>\n",
       "      <td>36.6</td>\n",
       "      <td>non-smoker</td>\n",
       "      <td>NaN</td>\n",
       "      <td>NaN</td>\n",
       "      <td>NaN</td>\n",
       "      <td>NaN</td>\n",
       "      <td>0</td>\n",
       "      <td>(government, Remote)</td>\n",
       "    </tr>\n",
       "    <tr>\n",
       "      <th>1</th>\n",
       "      <td>1459</td>\n",
       "      <td>F, 30</td>\n",
       "      <td>0</td>\n",
       "      <td>0</td>\n",
       "      <td>0</td>\n",
       "      <td>Remote?private_sector</td>\n",
       "      <td>107.95</td>\n",
       "      <td>30.4</td>\n",
       "      <td>quit</td>\n",
       "      <td>NaN</td>\n",
       "      <td>NaN</td>\n",
       "      <td>NaN</td>\n",
       "      <td>NaN</td>\n",
       "      <td>0</td>\n",
       "      <td>(Remote, private_sector)</td>\n",
       "    </tr>\n",
       "    <tr>\n",
       "      <th>2</th>\n",
       "      <td>7678</td>\n",
       "      <td>F, 51</td>\n",
       "      <td>1</td>\n",
       "      <td>0</td>\n",
       "      <td>1</td>\n",
       "      <td>government?Remote</td>\n",
       "      <td>76.49</td>\n",
       "      <td>42.1</td>\n",
       "      <td>active_smoker</td>\n",
       "      <td>NaN</td>\n",
       "      <td>NaN</td>\n",
       "      <td>NaN</td>\n",
       "      <td>NaN</td>\n",
       "      <td>0</td>\n",
       "      <td>(government, Remote)</td>\n",
       "    </tr>\n",
       "    <tr>\n",
       "      <th>3</th>\n",
       "      <td>34943</td>\n",
       "      <td>F, 54</td>\n",
       "      <td>0</td>\n",
       "      <td>0</td>\n",
       "      <td>1</td>\n",
       "      <td>government?City</td>\n",
       "      <td>113.98</td>\n",
       "      <td>57.3</td>\n",
       "      <td>quit</td>\n",
       "      <td>NaN</td>\n",
       "      <td>NaN</td>\n",
       "      <td>NaN</td>\n",
       "      <td>NaN</td>\n",
       "      <td>0</td>\n",
       "      <td>(government, City)</td>\n",
       "    </tr>\n",
       "    <tr>\n",
       "      <th>4</th>\n",
       "      <td>17741</td>\n",
       "      <td>M, 27</td>\n",
       "      <td>0</td>\n",
       "      <td>0</td>\n",
       "      <td>0</td>\n",
       "      <td>private_sector?City</td>\n",
       "      <td>70.60</td>\n",
       "      <td>26.7</td>\n",
       "      <td>active_smoker</td>\n",
       "      <td>NaN</td>\n",
       "      <td>NaN</td>\n",
       "      <td>NaN</td>\n",
       "      <td>NaN</td>\n",
       "      <td>0</td>\n",
       "      <td>(private_sector, City)</td>\n",
       "    </tr>\n",
       "  </tbody>\n",
       "</table>\n",
       "</div>"
      ],
      "text/plain": [
       "      id sex and age high_BP heart_condition_detected_2017 married  \\\n",
       "0  16053       F, 61       1                             0       1   \n",
       "1   1459       F, 30       0                             0       0   \n",
       "2   7678       F, 51       1                             0       1   \n",
       "3  34943       F, 54       0                             0       1   \n",
       "4  17741       M, 27       0                             0       0   \n",
       "\n",
       "  job_status and living_area  average_blood_sugar   BMI  smoker_status  \\\n",
       "0          government?Remote                71.67  36.6     non-smoker   \n",
       "1      Remote?private_sector               107.95  30.4           quit   \n",
       "2          government?Remote                76.49  42.1  active_smoker   \n",
       "3            government?City               113.98  57.3           quit   \n",
       "4        private_sector?City                70.60  26.7  active_smoker   \n",
       "\n",
       "   TreatmentA  TreatmentB  TreatmentC TreatmentD stroke_in_2018  \\\n",
       "0         NaN         NaN         NaN        NaN              0   \n",
       "1         NaN         NaN         NaN        NaN              0   \n",
       "2         NaN         NaN         NaN        NaN              0   \n",
       "3         NaN         NaN         NaN        NaN              0   \n",
       "4         NaN         NaN         NaN        NaN              0   \n",
       "\n",
       "     job_status_living_area  \n",
       "0      (government, Remote)  \n",
       "1  (Remote, private_sector)  \n",
       "2      (government, Remote)  \n",
       "3        (government, City)  \n",
       "4    (private_sector, City)  "
      ]
     },
     "execution_count": 10,
     "metadata": {},
     "output_type": "execute_result"
    }
   ],
   "source": [
    "stk[\"job_status_living_area\"] = stk[\"job_status and living_area\"].apply(split_row, args=\"?\")\n",
    "stk.head()"
   ]
  },
  {
   "cell_type": "code",
   "execution_count": null,
   "metadata": {},
   "outputs": [],
   "source": [
    "stk['job_status'], stk['living_area'] = zip(*stk['job_status_living_area'].map(split_tup))\n",
    "stk.head()"
   ]
  },
  {
   "cell_type": "markdown",
   "metadata": {},
   "source": [
    "---\n",
    "__Living Area__\n",
    "---"
   ]
  },
  {
   "cell_type": "markdown",
   "metadata": {},
   "source": [
    "Make everything lowercase, remove dodgy variables, and correct spelling"
   ]
  },
  {
   "cell_type": "code",
   "execution_count": null,
   "metadata": {
    "scrolled": true
   },
   "outputs": [],
   "source": [
    "stk[\"living_area\"] = stk[\"living_area\"].apply(lambda x: x.lower())"
   ]
  },
  {
   "cell_type": "code",
   "execution_count": null,
   "metadata": {},
   "outputs": [],
   "source": [
    "print(stk[\"living_area\"].value_counts())\n",
    "print(stk[\"living_area\"].unique())"
   ]
  },
  {
   "cell_type": "code",
   "execution_count": null,
   "metadata": {},
   "outputs": [],
   "source": [
    "stk.loc[stk[\"living_area\"] == \"privattte\", \"living_area\"] = \"private_sector\"\n",
    "print(stk[\"living_area\"].value_counts())"
   ]
  },
  {
   "cell_type": "code",
   "execution_count": null,
   "metadata": {},
   "outputs": [],
   "source": [
    "stk[stk[\"living_area\"] == \"government\"]"
   ]
  },
  {
   "cell_type": "markdown",
   "metadata": {},
   "source": [
    "<div class=\"alert alert-block alert-warning\">\n",
    "It appears that living_area and job_status are sometimes filled in the wrong columns\n",
    "</div>\n",
    "\n",
    "Hence, we need to write a function to swap them.\n",
    "\n",
    "But before we do that, we designate the variables we want to keep."
   ]
  },
  {
   "cell_type": "code",
   "execution_count": null,
   "metadata": {},
   "outputs": [],
   "source": [
    "living_area_keep = [\"city\", \"remote\", \"private_sector\", \"business_owner\",\n",
    "                    \"parental_leave\", \"government\", \"unemployed\"]"
   ]
  },
  {
   "cell_type": "code",
   "execution_count": null,
   "metadata": {},
   "outputs": [],
   "source": [
    "stk = stk[(stk[\"living_area\"].isin(living_area_keep))]\n",
    "stk.shape"
   ]
  },
  {
   "cell_type": "markdown",
   "metadata": {},
   "source": [
    "---\n",
    "__Job status__\n",
    "---"
   ]
  },
  {
   "cell_type": "code",
   "execution_count": null,
   "metadata": {},
   "outputs": [],
   "source": [
    "stk[\"job_status\"] = stk[\"job_status\"].apply(lambda x: x.lower())"
   ]
  },
  {
   "cell_type": "code",
   "execution_count": null,
   "metadata": {},
   "outputs": [],
   "source": [
    "print(stk[\"job_status\"].value_counts())\n",
    "print(stk[\"job_status\"].unique())"
   ]
  },
  {
   "cell_type": "code",
   "execution_count": null,
   "metadata": {},
   "outputs": [],
   "source": [
    "stk.loc[stk[\"job_status\"] == \"parental leave\", \"job_status\"] = \"parental_leave\"\n",
    "stk.loc[stk[\"job_status\"] == \"private sector\", \"job_status\"] = \"private_sector\"\n",
    "stk.loc[stk[\"job_status\"] == \"private\", \"job_status\"] = \"private_sector\"\n",
    "stk.loc[stk[\"job_status\"] == \"govt.\", \"job_status\"] = \"government\"\n",
    "stk.loc[stk[\"job_status\"] == \"remotee\", \"job_status\"] = \"remote\"\n",
    "print(stk[\"job_status\"].value_counts())"
   ]
  },
  {
   "cell_type": "code",
   "execution_count": null,
   "metadata": {},
   "outputs": [],
   "source": [
    "# Variables to be dropped\n",
    "job_status_keep = [\"private_sector\", \"business_owner\", \"parental_leave\", \n",
    "                   \"government\", \"city\", \"remote\", \"unemployed\"]"
   ]
  },
  {
   "cell_type": "code",
   "execution_count": null,
   "metadata": {},
   "outputs": [],
   "source": [
    "stk = stk[(stk[\"job_status\"].isin(job_status_keep))]\n",
    "stk.shape"
   ]
  },
  {
   "cell_type": "markdown",
   "metadata": {},
   "source": [
    "__Now let's swap the variables around__"
   ]
  },
  {
   "cell_type": "code",
   "execution_count": null,
   "metadata": {},
   "outputs": [],
   "source": [
    "job_status_correct = [\"private_sector\", \"business_owner\", \"parental_leave\", \n",
    "                   \"government\", \"unemployed\"]\n",
    "living_area_correct = [\"city\", \"remote\"]"
   ]
  },
  {
   "cell_type": "code",
   "execution_count": null,
   "metadata": {},
   "outputs": [],
   "source": [
    "stk[\"job_status_corr\"], stk[\"living_area_corr\"] = zip(*stk.apply(lambda x:\\\n",
    "            swap_job_living(x.job_status, x.living_area), axis=1))"
   ]
  },
  {
   "cell_type": "code",
   "execution_count": null,
   "metadata": {},
   "outputs": [],
   "source": [
    "print(stk[\"job_status_corr\"].value_counts())\n",
    "print(stk[\"living_area_corr\"].value_counts())"
   ]
  },
  {
   "cell_type": "code",
   "execution_count": null,
   "metadata": {},
   "outputs": [],
   "source": []
  },
  {
   "cell_type": "code",
   "execution_count": null,
   "metadata": {},
   "outputs": [],
   "source": []
  },
  {
   "cell_type": "markdown",
   "metadata": {},
   "source": [
    "### Sex and Age"
   ]
  },
  {
   "cell_type": "markdown",
   "metadata": {},
   "source": [
    "<div class=\"alert alert-block alert-info\">\n",
    "Sex and Age variable is a little messy. Let's clean this up.\n",
    "</div>"
   ]
  },
  {
   "cell_type": "code",
   "execution_count": null,
   "metadata": {
    "scrolled": true
   },
   "outputs": [],
   "source": [
    "stk[\"sex and age\"].unique()"
   ]
  },
  {
   "cell_type": "code",
   "execution_count": null,
   "metadata": {},
   "outputs": [],
   "source": [
    "stk[\"sex_and_age\"] = stk[\"sex and age\"].apply(split_row, args=\",\")\n",
    "stk[\"sex\"], stk[\"age\"] = zip(*stk['sex_and_age'].map(split_tup))\n",
    "stk.head()"
   ]
  },
  {
   "cell_type": "markdown",
   "metadata": {},
   "source": [
    "### Sex Variable\n",
    "\n",
    "Now let's deal with the `sex` variable separately"
   ]
  },
  {
   "cell_type": "code",
   "execution_count": null,
   "metadata": {
    "scrolled": true
   },
   "outputs": [],
   "source": [
    "stk[\"sex\"] = stk[\"sex\"].apply(lambda x: x.lower())\n",
    "\n",
    "print(stk[\"sex\"].value_counts())\n",
    "print(stk[\"sex\"].unique())\n",
    "\n",
    "stk.loc[stk[\"sex\"] == \"male\", \"sex\"] = \"m\"\n",
    "stk.loc[stk[\"sex\"] == \"mmale\", \"sex\"] = \"m\"\n",
    "stk.loc[stk[\"sex\"] == \"mm\", \"sex\"] = \"m\"\n",
    "stk.loc[stk[\"sex\"] == \"female\", \"sex\"] = \"f\"\n",
    "stk.loc[stk[\"sex\"] == \"femalle\", \"sex\"] = \"f\""
   ]
  },
  {
   "cell_type": "code",
   "execution_count": null,
   "metadata": {},
   "outputs": [],
   "source": [
    "stk[stk[\"sex\"] == \"n\"][[\"sex and age\", \"sex\", \"age\"]].head()"
   ]
  },
  {
   "cell_type": "code",
   "execution_count": null,
   "metadata": {},
   "outputs": [],
   "source": [
    "sex_not_keep = [\"\", \"other\", \"n\"] \n",
    "\n",
    "# We can't remove the unwanted numbers out until we swap them with age\n",
    "# So we instead filter those that we don't want to keep. "
   ]
  },
  {
   "cell_type": "code",
   "execution_count": null,
   "metadata": {},
   "outputs": [],
   "source": [
    "stk = stk[~stk[\"sex\"].isin(sex_not_keep)]\n",
    "stk.shape"
   ]
  },
  {
   "cell_type": "markdown",
   "metadata": {},
   "source": [
    "### Age Variable"
   ]
  },
  {
   "cell_type": "code",
   "execution_count": null,
   "metadata": {
    "scrolled": true
   },
   "outputs": [],
   "source": [
    "stk[\"age\"] = stk[\"age\"].apply(lambda x: x.lower())\n",
    "stk[\"age\"] = stk[\"age\"].apply(lambda x: x.strip())\n",
    "\n",
    "print(stk[\"age\"].value_counts())\n",
    "print(stk[\"age\"].unique())"
   ]
  },
  {
   "cell_type": "code",
   "execution_count": null,
   "metadata": {},
   "outputs": [],
   "source": [
    "stk.loc[stk[\"age\"] == 'sixteen', \"age\"] = '16'\n",
    "stk.loc[stk[\"age\"] == 'eleven', \"age\"] = '11'\n",
    "stk.loc[stk[\"age\"] == 'fifty', \"age\"] = '50'\n",
    "stk.loc[stk[\"age\"] == 'seventy seven', \"age\"] = '77'\n",
    "stk.loc[stk[\"age\"] == 'sixteen', \"age\"] = '16'\n",
    "stk.loc[stk[\"age\"] == 'forty', \"age\"] = '40'\n",
    "stk.loc[stk[\"age\"] == 'sixx', \"age\"] = '6'\n",
    "stk.loc[stk[\"age\"] == 'eight', \"age\"] = '8'\n",
    "stk.loc[stk[\"age\"] == 'seven', \"age\"] = '7'\n",
    "stk.loc[stk[\"age\"] == 'eighty fivee', \"age\"] = '85'\n",
    "stk.loc[stk[\"age\"] == 'six', \"age\"] = '6'\n",
    "stk.loc[stk[\"age\"] == 'thirtythree', \"age\"] = '33'"
   ]
  },
  {
   "cell_type": "code",
   "execution_count": null,
   "metadata": {},
   "outputs": [],
   "source": [
    "stk.columns"
   ]
  },
  {
   "cell_type": "code",
   "execution_count": null,
   "metadata": {
    "scrolled": true
   },
   "outputs": [],
   "source": [
    "print(stk[\"age\"].value_counts())\n",
    "print(stk[\"age\"].unique())"
   ]
  },
  {
   "cell_type": "code",
   "execution_count": null,
   "metadata": {},
   "outputs": [],
   "source": [
    "age_not_keep = ['', 'other', 'a']"
   ]
  },
  {
   "cell_type": "code",
   "execution_count": null,
   "metadata": {},
   "outputs": [],
   "source": [
    "stk = stk[~stk[\"age\"].isin(age_not_keep)]\n",
    "stk.shape"
   ]
  },
  {
   "cell_type": "code",
   "execution_count": null,
   "metadata": {},
   "outputs": [],
   "source": [
    "sex_correct = [\"f\", \"m\"]\n",
    "\n",
    "stk[\"sex_corr\"], stk[\"age_corr\"] = zip(*stk.apply(lambda x:\\\n",
    "            swap_sex_age(x.sex, x.age), axis=1))"
   ]
  },
  {
   "cell_type": "code",
   "execution_count": null,
   "metadata": {
    "scrolled": true
   },
   "outputs": [],
   "source": [
    "print(stk[\"sex_corr\"].value_counts())\n",
    "print(stk[\"age_corr\"].unique())"
   ]
  },
  {
   "cell_type": "markdown",
   "metadata": {},
   "source": [
    "We're not done yet. We need to convert these ages to floats. The remaining variables are to be cleaned as well, although I suspect that won't be as difficult as the first 2. "
   ]
  },
  {
   "cell_type": "code",
   "execution_count": null,
   "metadata": {},
   "outputs": [],
   "source": [
    "stk[\"age_corr\"] = stk[\"age_corr\"].apply(lambda x: int(float(x)))\n",
    "print(stk[\"age_corr\"].unique())"
   ]
  },
  {
   "cell_type": "code",
   "execution_count": null,
   "metadata": {},
   "outputs": [],
   "source": [
    "print(stk.shape)\n",
    "stk.head()"
   ]
  },
  {
   "cell_type": "markdown",
   "metadata": {},
   "source": [
    "### The remaining variables"
   ]
  },
  {
   "cell_type": "markdown",
   "metadata": {},
   "source": [
    "<div class=\"alert alert-block alert-info\">\n",
    "High_BP\n",
    "</div>"
   ]
  },
  {
   "cell_type": "code",
   "execution_count": null,
   "metadata": {},
   "outputs": [],
   "source": [
    "print(stk[\"high_BP\"].unique())\n",
    "print(\"---\")\n",
    "print(stk[\"high_BP\"].value_counts())\n",
    "print(\"---\")\n",
    "print(\"NaN values: {}\".format(stk[stk[\"high_BP\"].isnull()].shape[0]))\n",
    "\n",
    "stk = stk[stk[\"high_BP\"].isin(['0', '1'])]\n",
    "print(stk.shape)"
   ]
  },
  {
   "cell_type": "markdown",
   "metadata": {},
   "source": [
    "<div class=\"alert alert-block alert-info\">\n",
    "heart_condition_detected_2017\n",
    "</div>"
   ]
  },
  {
   "cell_type": "code",
   "execution_count": null,
   "metadata": {},
   "outputs": [],
   "source": [
    "print(stk[\"heart_condition_detected_2017\"].unique())\n",
    "print(\"---\")\n",
    "print(stk[\"heart_condition_detected_2017\"].value_counts())\n",
    "print(\"---\")\n",
    "print(\"NaN values: {}\".format(stk[stk[\"heart_condition_detected_2017\"].isnull()].shape[0]))\n",
    "\n",
    "stk = stk[stk[\"heart_condition_detected_2017\"].isin(['0', '1'])]\n",
    "print(stk.shape)"
   ]
  },
  {
   "cell_type": "code",
   "execution_count": null,
   "metadata": {},
   "outputs": [],
   "source": [
    "print(stk[\"married\"].unique())\n",
    "print(\"---\")\n",
    "print(stk[\"married\"].value_counts())\n",
    "print(\"---\")\n",
    "print(\"NaN values: {}\".format(stk[stk[\"married\"].isnull()].shape[0]))\n",
    "\n",
    "stk = stk[stk[\"married\"].isin(['0', '1'])]\n",
    "print(stk.shape)"
   ]
  },
  {
   "cell_type": "markdown",
   "metadata": {},
   "source": [
    "<div class=\"alert alert-block alert-info\">\n",
    "smoker_status\n",
    "</div>"
   ]
  },
  {
   "cell_type": "code",
   "execution_count": null,
   "metadata": {},
   "outputs": [],
   "source": [
    "print(stk[\"smoker_status\"].unique())\n",
    "print(stk[\"smoker_status\"].value_counts())\n",
    "print(\"NaN values: {}\".format(stk[stk[\"married\"].isnull()].shape[0]))\n",
    "\n",
    "smoker_status_keep = [\"non-smoker\", \"quit\", \"active_smoker\"]\n",
    "stk = stk[stk[\"smoker_status\"].isin(['non-smoker', 'quit', 'active_smoker'])]\n",
    "print(stk.shape)"
   ]
  },
  {
   "cell_type": "code",
   "execution_count": null,
   "metadata": {},
   "outputs": [],
   "source": []
  }
 ],
 "metadata": {
  "kernelspec": {
   "display_name": "Python 3",
   "language": "python",
   "name": "python3"
  },
  "language_info": {
   "codemirror_mode": {
    "name": "ipython",
    "version": 3
   },
   "file_extension": ".py",
   "mimetype": "text/x-python",
   "name": "python",
   "nbconvert_exporter": "python",
   "pygments_lexer": "ipython3",
   "version": "3.7.3"
  }
 },
 "nbformat": 4,
 "nbformat_minor": 2
}
