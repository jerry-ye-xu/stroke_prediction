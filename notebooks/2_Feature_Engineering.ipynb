{
 "cells": [
  {
   "cell_type": "markdown",
   "metadata": {},
   "source": [
    "## Summary\n",
    "\n",
    "### Visualised:\n",
    "- __Box plots for the continuous variables.__\n",
    "    - Unsurprisingly there were a large number of outliers for the non-stroke class due to the imbalance.\n",
    "    - `age_corr` was clearly a standout in terms of separating the 2 classes, despite the imbalance.\n",
    "- __Histogram for continuous variables__\n",
    "    - Whilst `average_blood_sugar` looks skewed, it should not be too much of a problem. \n",
    "    - `BMI` looks much nicer, closer to a normal distribution.\n",
    "    - However, the distribution of the continuous variables with respect to the label does not appear to help differentiate them. \n",
    "- __Count plots were used for the binary variables, and due to the class imbalance it was hard to see anything significant.__\n",
    "\n",
    "### Feature Engineering:\n",
    "- __one-hot encoding__\n",
    "    - We OneHot encode all the binary variables\n",
    "- __binning__\n",
    "    - Age: 0-18 child, 18-45 adult, 45-70 senior, 70+ elderly\n",
    "    - Sugar: 0-100 low, 100-150 medium, 150-250 high, 250+ very high\n",
    "    - BMI: < 18.5 low (unhealthy), 18-25 medium (normal), 25-30 high (at risk), 30+ very high (at high risk)\n",
    "- __combining classes__\n",
    "    - we create a new feature that indicates whether a person has ever smoked before (essentially an `or` on `quit` and `active_smoker`\n",
    "- __normalisation of data__\n",
    "    - all continuous data is normalised to between 0 and 1\n",
    "    - Note: This is done in the next notebook\n",
    "    \n",
    "### SMOTE Upsampling\n",
    "\n",
    "We use SMOTE-NC which deals with categorical and nominal variables (hence NC) to upsample the dataset to contain 20% of the minority class. The end class ratio is 22804:4540 ~ 16%\n",
    "\n",
    "### Updated Dataset \n",
    "The processed dataset was saved to `train_processed.csv`."
   ]
  },
  {
   "cell_type": "code",
   "execution_count": 1,
   "metadata": {},
   "outputs": [],
   "source": [
    "import pandas as pd\n",
    "from matplotlib import pyplot as plt\n",
    "import seaborn as sns\n",
    "import numpy as np\n",
    "\n",
    "%matplotlib inline"
   ]
  },
  {
   "cell_type": "code",
   "execution_count": 2,
   "metadata": {},
   "outputs": [],
   "source": [
    "stk = pd.read_csv(\"../data/train_processed.csv\")"
   ]
  },
  {
   "cell_type": "code",
   "execution_count": 3,
   "metadata": {
    "scrolled": true
   },
   "outputs": [],
   "source": [
    "stk[\"high_BP\"] = stk[\"high_BP\"].apply(lambda x: str(int(x)))\n",
    "stk[\"heart_condition_detected_2017\"] = stk[\"heart_condition_detected_2017\"].apply(lambda x: str(int(x)))\n",
    "stk[\"married\"] = stk[\"married\"].apply(lambda x: str(int(x)))\n",
    "stk[\"stroke_in_2018\"] = stk[\"stroke_in_2018\"].apply(lambda x: str(int(x)))"
   ]
  },
  {
   "cell_type": "code",
   "execution_count": 4,
   "metadata": {},
   "outputs": [
    {
     "data": {
      "text/plain": [
       "id                                 int64\n",
       "high_BP                           object\n",
       "heart_condition_detected_2017     object\n",
       "married                           object\n",
       "smoker_status                     object\n",
       "average_blood_sugar              float64\n",
       "BMI                              float64\n",
       "job_status_corr                   object\n",
       "living_area_corr                  object\n",
       "sex_corr                          object\n",
       "age_corr                           int64\n",
       "stroke_in_2018                    object\n",
       "dtype: object"
      ]
     },
     "execution_count": 4,
     "metadata": {},
     "output_type": "execute_result"
    }
   ],
   "source": [
    "stk.dtypes"
   ]
  },
  {
   "cell_type": "code",
   "execution_count": 5,
   "metadata": {},
   "outputs": [],
   "source": [
    "stk.drop(labels=\"id\", axis=1, inplace=True)"
   ]
  },
  {
   "cell_type": "code",
   "execution_count": 6,
   "metadata": {
    "scrolled": true
   },
   "outputs": [
    {
     "data": {
      "text/plain": [
       "False    23257\n",
       "Name: smoker_status, dtype: int64"
      ]
     },
     "execution_count": 6,
     "metadata": {},
     "output_type": "execute_result"
    }
   ],
   "source": [
    "stk.smoker_status.isnull().value_counts()"
   ]
  },
  {
   "cell_type": "code",
   "execution_count": 7,
   "metadata": {},
   "outputs": [
    {
     "name": "stdout",
     "output_type": "stream",
     "text": [
      "0.0195\n",
      "0.9805\n"
     ]
    }
   ],
   "source": [
    "stk[\"stroke_in_2018\"].value_counts()\n",
    "print(round(453/(22804+453), 4))\n",
    "print(round(22804/(22804+453), 4))"
   ]
  },
  {
   "cell_type": "markdown",
   "metadata": {},
   "source": [
    "Now, the baseline prediction is an insane 98% so a more appropriate metric to use would be AUC-ROC. "
   ]
  },
  {
   "cell_type": "markdown",
   "metadata": {},
   "source": [
    "### Visualise Data \n",
    "\n",
    "We first look at how the data is separated based on the label.\n",
    "\n",
    "Admittedly in hindsight this will likely not yield much insight for counts because the classes are so imbalanced"
   ]
  },
  {
   "cell_type": "code",
   "execution_count": 8,
   "metadata": {},
   "outputs": [
    {
     "data": {
      "text/plain": [
       "<matplotlib.axes._subplots.AxesSubplot at 0x11e1bbd68>"
      ]
     },
     "execution_count": 8,
     "metadata": {},
     "output_type": "execute_result"
    },
    {
     "data": {
      "image/png": "[encoded data removed]",
      "text/plain": [
       "<Figure size 1800x720 with 4 Axes>"
      ]
     },
     "metadata": {
      "needs_background": "light"
     },
     "output_type": "display_data"
    }
   ],
   "source": [
    "fig, axes = plt.subplots(2, 2)\n",
    "fig.set_figheight(10)\n",
    "fig.set_figwidth(25)\n",
    "fig.subplots_adjust(hspace=0.4, wspace=0.4)\n",
    "\n",
    "label = \"stroke_in_2018\"\n",
    "cols_continuous = [\"BMI\", \"average_blood_sugar\"]\n",
    "\n",
    "sns.boxplot(x = label, y = \"BMI\", palette = \"BrBG\", \n",
    "            data = stk, ax=axes[0, 0])\n",
    "sns.boxplot(x = label, y = \"average_blood_sugar\", palette = \"BrBG\", \n",
    "            data = stk, ax=axes[0, 1])\n",
    "sns.boxplot(x = label, y = \"age_corr\", palette = \"BrBG\", \n",
    "            data = stk, ax=axes[1, 0])"
   ]
  },
  {
   "cell_type": "markdown",
   "metadata": {},
   "source": [
    "<div class=\"alert alert-block alert-success\">\n",
    "Age is clearly the most promising feature of the dataset.\n",
    "</div>\n",
    "\n",
    " Perhaps we may be able to get some more out of this feature with some feature engineering."
   ]
  },
  {
   "cell_type": "code",
   "execution_count": 9,
   "metadata": {},
   "outputs": [
    {
     "data": {
      "text/plain": [
       "high_BP                           object\n",
       "heart_condition_detected_2017     object\n",
       "married                           object\n",
       "smoker_status                     object\n",
       "average_blood_sugar              float64\n",
       "BMI                              float64\n",
       "job_status_corr                   object\n",
       "living_area_corr                  object\n",
       "sex_corr                          object\n",
       "age_corr                           int64\n",
       "stroke_in_2018                    object\n",
       "dtype: object"
      ]
     },
     "execution_count": 9,
     "metadata": {},
     "output_type": "execute_result"
    }
   ],
   "source": [
    "stk.dtypes"
   ]
  },
  {
   "cell_type": "code",
   "execution_count": 10,
   "metadata": {},
   "outputs": [
    {
     "data": {
      "text/plain": [
       "<matplotlib.axes._subplots.AxesSubplot at 0x10c020780>"
      ]
     },
     "execution_count": 10,
     "metadata": {},
     "output_type": "execute_result"
    },
    {
     "data": {
      "image/png": "[encoded data removed]",
      "text/plain": [
       "<Figure size 1800x1440 with 8 Axes>"
      ]
     },
     "metadata": {
      "needs_background": "light"
     },
     "output_type": "display_data"
    }
   ],
   "source": [
    "fig, axes = plt.subplots(4, 2)\n",
    "fig.set_figheight(20)\n",
    "fig.set_figwidth(25)\n",
    "fig.subplots_adjust(hspace=0.4, wspace=0.4)\n",
    "\n",
    "label = \"stroke_in_2018\"\n",
    "cols_categorical = [\"high_BP\", \"smoker_status\", \"married\", \"heart_condition_detected_2017\",\n",
    "                   \"job_status_corr\", \"living_area_corr\"]\n",
    "\n",
    "sns.countplot(x = \"high_BP\", hue = \"stroke_in_2018\", \n",
    "              data = stk, palette = \"BrBG\", ax=axes[0, 0])\n",
    "sns.countplot(x = \"smoker_status\", hue = \"stroke_in_2018\", \n",
    "              data = stk, palette = \"BrBG\", ax=axes[0, 1])\n",
    "sns.countplot(x = \"married\", hue = \"stroke_in_2018\", \n",
    "              data = stk, palette = \"BrBG\", ax=axes[1, 0])\n",
    "sns.countplot(x = \"heart_condition_detected_2017\", hue = \"stroke_in_2018\", \n",
    "              data = stk, palette = \"BrBG\", ax=axes[1, 1])\n",
    "sns.countplot(x = \"job_status_corr\", hue = \"stroke_in_2018\", \n",
    "              data = stk, palette = \"BrBG\", ax=axes[2, 0])\n",
    "sns.countplot(x = \"living_area_corr\", hue = \"stroke_in_2018\", \n",
    "              data = stk, palette = \"BrBG\", ax=axes[2, 1])\n",
    "sns.countplot(x = \"sex_corr\", hue = \"stroke_in_2018\", \n",
    "              data = stk, palette = \"BrBG\", ax=axes[3, 0])\n"
   ]
  },
  {
   "cell_type": "code",
   "execution_count": 11,
   "metadata": {},
   "outputs": [
    {
     "data": {
      "text/plain": [
       "<matplotlib.axes._subplots.AxesSubplot at 0x10c0af828>"
      ]
     },
     "execution_count": 11,
     "metadata": {},
     "output_type": "execute_result"
    },
    {
     "data": {
      "image/png": "[encoded data removed]",
      "text/plain": [
       "<Figure size 432x288 with 1 Axes>"
      ]
     },
     "metadata": {
      "needs_background": "light"
     },
     "output_type": "display_data"
    }
   ],
   "source": [
    "sns.distplot(stk[\"average_blood_sugar\"], \n",
    "             kde = False, bins = 100, color = \"green\")"
   ]
  },
  {
   "cell_type": "code",
   "execution_count": 12,
   "metadata": {},
   "outputs": [
    {
     "data": {
      "text/plain": [
       "<matplotlib.axes._subplots.AxesSubplot at 0x11e3be2e8>"
      ]
     },
     "execution_count": 12,
     "metadata": {},
     "output_type": "execute_result"
    },
    {
     "data": {
      "image/png": "[encoded data removed]",
      "text/plain": [
       "<Figure size 432x288 with 1 Axes>"
      ]
     },
     "metadata": {
      "needs_background": "light"
     },
     "output_type": "display_data"
    }
   ],
   "source": [
    "sns.distplot(stk[\"BMI\"], kde = False, bins = 100, color = \"green\")"
   ]
  },
  {
   "cell_type": "code",
   "execution_count": null,
   "metadata": {},
   "outputs": [],
   "source": []
  },
  {
   "cell_type": "code",
   "execution_count": null,
   "metadata": {},
   "outputs": [],
   "source": []
  },
  {
   "cell_type": "code",
   "execution_count": null,
   "metadata": {},
   "outputs": [],
   "source": []
  },
  {
   "cell_type": "markdown",
   "metadata": {},
   "source": [
    "### Feature Engineering\n",
    "\n",
    "We're going to do a couple of things\n",
    "\n",
    "1) One-hot encoding\n",
    "    - as necessary with the binary variables\n",
    "2) Binning \n",
    "    - Going to try binning\n",
    "        - age (by 10)\n",
    "        - sugar (by 50?)\n",
    "        - BMI (by the typical groups)\n",
    "        \n",
    "3) Combining Classes\n",
    "    - Smoking: If you ever smoked at all, you are put into one group\n",
    "        \n",
    "4) Normalising\n",
    "    - Normalise the continuous variables\n",
    "        \n",
    "We will add more when we come across it\n",
    "        \n",
    "According to [here](https://www.betterhealth.vic.gov.au/health/healthyliving/body-mass-index-bmi) if you have a BMI of:\n",
    "- Under 18.5 – you are considered underweight and possibly malnourished.\n",
    "- 18.5 to 24.9 – you are within a healthy weight range for young and middle-aged adults.\n",
    "- 25.0 to 29.9 – you are considered overweight.\n",
    "- Over 30 – you are considered obese."
   ]
  },
  {
   "cell_type": "code",
   "execution_count": null,
   "metadata": {},
   "outputs": [],
   "source": []
  },
  {
   "cell_type": "code",
   "execution_count": null,
   "metadata": {},
   "outputs": [],
   "source": []
  },
  {
   "cell_type": "markdown",
   "metadata": {},
   "source": [
    "<div class=\"alert alert-block alert-info\">\n",
    "OneHot Encoding\n",
    "</div>\n",
    "\n",
    "Using `pd.get_dummies()`, we can easily handle categorical variables."
   ]
  },
  {
   "cell_type": "code",
   "execution_count": 13,
   "metadata": {},
   "outputs": [
    {
     "data": {
      "text/html": [
       "<div>\n",
       "<style scoped>\n",
       "    .dataframe tbody tr th:only-of-type {\n",
       "        vertical-align: middle;\n",
       "    }\n",
       "\n",
       "    .dataframe tbody tr th {\n",
       "        vertical-align: top;\n",
       "    }\n",
       "\n",
       "    .dataframe thead th {\n",
       "        text-align: right;\n",
       "    }\n",
       "</style>\n",
       "<table border=\"1\" class=\"dataframe\">\n",
       "  <thead>\n",
       "    <tr style=\"text-align: right;\">\n",
       "      <th></th>\n",
       "      <th>high_BP</th>\n",
       "      <th>heart_condition_detected_2017</th>\n",
       "      <th>married</th>\n",
       "      <th>smoker_status</th>\n",
       "      <th>average_blood_sugar</th>\n",
       "      <th>BMI</th>\n",
       "      <th>job_status_corr</th>\n",
       "      <th>living_area_corr</th>\n",
       "      <th>sex_corr</th>\n",
       "      <th>age_corr</th>\n",
       "      <th>...</th>\n",
       "      <th>married_1</th>\n",
       "      <th>heart_condition_detected_2017_0</th>\n",
       "      <th>heart_condition_detected_2017_1</th>\n",
       "      <th>job_status_corr_business_owner</th>\n",
       "      <th>job_status_corr_government</th>\n",
       "      <th>job_status_corr_parental_leave</th>\n",
       "      <th>job_status_corr_private_sector</th>\n",
       "      <th>job_status_corr_unemployed</th>\n",
       "      <th>living_area_corr_city</th>\n",
       "      <th>living_area_corr_remote</th>\n",
       "    </tr>\n",
       "  </thead>\n",
       "  <tbody>\n",
       "    <tr>\n",
       "      <th>0</th>\n",
       "      <td>1</td>\n",
       "      <td>0</td>\n",
       "      <td>1</td>\n",
       "      <td>non-smoker</td>\n",
       "      <td>71.67</td>\n",
       "      <td>36.6</td>\n",
       "      <td>government</td>\n",
       "      <td>remote</td>\n",
       "      <td>f</td>\n",
       "      <td>61</td>\n",
       "      <td>...</td>\n",
       "      <td>1</td>\n",
       "      <td>1</td>\n",
       "      <td>0</td>\n",
       "      <td>0</td>\n",
       "      <td>1</td>\n",
       "      <td>0</td>\n",
       "      <td>0</td>\n",
       "      <td>0</td>\n",
       "      <td>0</td>\n",
       "      <td>1</td>\n",
       "    </tr>\n",
       "    <tr>\n",
       "      <th>1</th>\n",
       "      <td>0</td>\n",
       "      <td>0</td>\n",
       "      <td>0</td>\n",
       "      <td>quit</td>\n",
       "      <td>107.95</td>\n",
       "      <td>30.4</td>\n",
       "      <td>private_sector</td>\n",
       "      <td>remote</td>\n",
       "      <td>f</td>\n",
       "      <td>30</td>\n",
       "      <td>...</td>\n",
       "      <td>0</td>\n",
       "      <td>1</td>\n",
       "      <td>0</td>\n",
       "      <td>0</td>\n",
       "      <td>0</td>\n",
       "      <td>0</td>\n",
       "      <td>1</td>\n",
       "      <td>0</td>\n",
       "      <td>0</td>\n",
       "      <td>1</td>\n",
       "    </tr>\n",
       "    <tr>\n",
       "      <th>2</th>\n",
       "      <td>1</td>\n",
       "      <td>0</td>\n",
       "      <td>1</td>\n",
       "      <td>active_smoker</td>\n",
       "      <td>76.49</td>\n",
       "      <td>42.1</td>\n",
       "      <td>government</td>\n",
       "      <td>remote</td>\n",
       "      <td>f</td>\n",
       "      <td>51</td>\n",
       "      <td>...</td>\n",
       "      <td>1</td>\n",
       "      <td>1</td>\n",
       "      <td>0</td>\n",
       "      <td>0</td>\n",
       "      <td>1</td>\n",
       "      <td>0</td>\n",
       "      <td>0</td>\n",
       "      <td>0</td>\n",
       "      <td>0</td>\n",
       "      <td>1</td>\n",
       "    </tr>\n",
       "    <tr>\n",
       "      <th>3</th>\n",
       "      <td>0</td>\n",
       "      <td>0</td>\n",
       "      <td>1</td>\n",
       "      <td>quit</td>\n",
       "      <td>113.98</td>\n",
       "      <td>57.3</td>\n",
       "      <td>government</td>\n",
       "      <td>city</td>\n",
       "      <td>f</td>\n",
       "      <td>54</td>\n",
       "      <td>...</td>\n",
       "      <td>1</td>\n",
       "      <td>1</td>\n",
       "      <td>0</td>\n",
       "      <td>0</td>\n",
       "      <td>1</td>\n",
       "      <td>0</td>\n",
       "      <td>0</td>\n",
       "      <td>0</td>\n",
       "      <td>1</td>\n",
       "      <td>0</td>\n",
       "    </tr>\n",
       "    <tr>\n",
       "      <th>4</th>\n",
       "      <td>0</td>\n",
       "      <td>0</td>\n",
       "      <td>0</td>\n",
       "      <td>active_smoker</td>\n",
       "      <td>70.60</td>\n",
       "      <td>26.7</td>\n",
       "      <td>private_sector</td>\n",
       "      <td>city</td>\n",
       "      <td>m</td>\n",
       "      <td>27</td>\n",
       "      <td>...</td>\n",
       "      <td>0</td>\n",
       "      <td>1</td>\n",
       "      <td>0</td>\n",
       "      <td>0</td>\n",
       "      <td>0</td>\n",
       "      <td>0</td>\n",
       "      <td>1</td>\n",
       "      <td>0</td>\n",
       "      <td>1</td>\n",
       "      <td>0</td>\n",
       "    </tr>\n",
       "  </tbody>\n",
       "</table>\n",
       "<p>5 rows × 27 columns</p>\n",
       "</div>"
      ],
      "text/plain": [
       "  high_BP heart_condition_detected_2017 married  smoker_status  \\\n",
       "0       1                             0       1     non-smoker   \n",
       "1       0                             0       0           quit   \n",
       "2       1                             0       1  active_smoker   \n",
       "3       0                             0       1           quit   \n",
       "4       0                             0       0  active_smoker   \n",
       "\n",
       "   average_blood_sugar   BMI job_status_corr living_area_corr sex_corr  \\\n",
       "0                71.67  36.6      government           remote        f   \n",
       "1               107.95  30.4  private_sector           remote        f   \n",
       "2                76.49  42.1      government           remote        f   \n",
       "3               113.98  57.3      government             city        f   \n",
       "4                70.60  26.7  private_sector             city        m   \n",
       "\n",
       "   age_corr  ... married_1  heart_condition_detected_2017_0  \\\n",
       "0        61  ...         1                                1   \n",
       "1        30  ...         0                                1   \n",
       "2        51  ...         1                                1   \n",
       "3        54  ...         1                                1   \n",
       "4        27  ...         0                                1   \n",
       "\n",
       "   heart_condition_detected_2017_1  job_status_corr_business_owner  \\\n",
       "0                                0                               0   \n",
       "1                                0                               0   \n",
       "2                                0                               0   \n",
       "3                                0                               0   \n",
       "4                                0                               0   \n",
       "\n",
       "   job_status_corr_government  job_status_corr_parental_leave  \\\n",
       "0                           1                               0   \n",
       "1                           0                               0   \n",
       "2                           1                               0   \n",
       "3                           1                               0   \n",
       "4                           0                               0   \n",
       "\n",
       "   job_status_corr_private_sector  job_status_corr_unemployed  \\\n",
       "0                               0                           0   \n",
       "1                               1                           0   \n",
       "2                               0                           0   \n",
       "3                               0                           0   \n",
       "4                               1                           0   \n",
       "\n",
       "   living_area_corr_city  living_area_corr_remote  \n",
       "0                      0                        1  \n",
       "1                      0                        1  \n",
       "2                      0                        1  \n",
       "3                      1                        0  \n",
       "4                      1                        0  \n",
       "\n",
       "[5 rows x 27 columns]"
      ]
     },
     "execution_count": 13,
     "metadata": {},
     "output_type": "execute_result"
    }
   ],
   "source": [
    "stk_onehot = stk.join(pd.get_dummies(stk[cols_categorical]))\n",
    "stk_onehot.head()"
   ]
  },
  {
   "cell_type": "code",
   "execution_count": 14,
   "metadata": {},
   "outputs": [
    {
     "data": {
      "text/html": [
       "<div>\n",
       "<style scoped>\n",
       "    .dataframe tbody tr th:only-of-type {\n",
       "        vertical-align: middle;\n",
       "    }\n",
       "\n",
       "    .dataframe tbody tr th {\n",
       "        vertical-align: top;\n",
       "    }\n",
       "\n",
       "    .dataframe thead th {\n",
       "        text-align: right;\n",
       "    }\n",
       "</style>\n",
       "<table border=\"1\" class=\"dataframe\">\n",
       "  <thead>\n",
       "    <tr style=\"text-align: right;\">\n",
       "      <th></th>\n",
       "      <th>high_BP</th>\n",
       "      <th>high_BP_0</th>\n",
       "      <th>high_BP_1</th>\n",
       "    </tr>\n",
       "  </thead>\n",
       "  <tbody>\n",
       "    <tr>\n",
       "      <th>0</th>\n",
       "      <td>1</td>\n",
       "      <td>0</td>\n",
       "      <td>1</td>\n",
       "    </tr>\n",
       "    <tr>\n",
       "      <th>1</th>\n",
       "      <td>0</td>\n",
       "      <td>1</td>\n",
       "      <td>0</td>\n",
       "    </tr>\n",
       "    <tr>\n",
       "      <th>2</th>\n",
       "      <td>1</td>\n",
       "      <td>0</td>\n",
       "      <td>1</td>\n",
       "    </tr>\n",
       "    <tr>\n",
       "      <th>3</th>\n",
       "      <td>0</td>\n",
       "      <td>1</td>\n",
       "      <td>0</td>\n",
       "    </tr>\n",
       "    <tr>\n",
       "      <th>4</th>\n",
       "      <td>0</td>\n",
       "      <td>1</td>\n",
       "      <td>0</td>\n",
       "    </tr>\n",
       "  </tbody>\n",
       "</table>\n",
       "</div>"
      ],
      "text/plain": [
       "  high_BP  high_BP_0  high_BP_1\n",
       "0       1          0          1\n",
       "1       0          1          0\n",
       "2       1          0          1\n",
       "3       0          1          0\n",
       "4       0          1          0"
      ]
     },
     "execution_count": 14,
     "metadata": {},
     "output_type": "execute_result"
    }
   ],
   "source": [
    "stk_onehot.head(n=5)[[\"high_BP\", \"high_BP_0\", \"high_BP_1\"]]"
   ]
  },
  {
   "cell_type": "code",
   "execution_count": 15,
   "metadata": {
    "scrolled": true
   },
   "outputs": [
    {
     "data": {
      "text/html": [
       "<div>\n",
       "<style scoped>\n",
       "    .dataframe tbody tr th:only-of-type {\n",
       "        vertical-align: middle;\n",
       "    }\n",
       "\n",
       "    .dataframe tbody tr th {\n",
       "        vertical-align: top;\n",
       "    }\n",
       "\n",
       "    .dataframe thead th {\n",
       "        text-align: right;\n",
       "    }\n",
       "</style>\n",
       "<table border=\"1\" class=\"dataframe\">\n",
       "  <thead>\n",
       "    <tr style=\"text-align: right;\">\n",
       "      <th></th>\n",
       "      <th>smoker_status</th>\n",
       "      <th>smoker_status_non-smoker</th>\n",
       "      <th>smoker_status_quit</th>\n",
       "      <th>smoker_status_active_smoker</th>\n",
       "    </tr>\n",
       "  </thead>\n",
       "  <tbody>\n",
       "    <tr>\n",
       "      <th>0</th>\n",
       "      <td>non-smoker</td>\n",
       "      <td>1</td>\n",
       "      <td>0</td>\n",
       "      <td>0</td>\n",
       "    </tr>\n",
       "    <tr>\n",
       "      <th>1</th>\n",
       "      <td>quit</td>\n",
       "      <td>0</td>\n",
       "      <td>1</td>\n",
       "      <td>0</td>\n",
       "    </tr>\n",
       "    <tr>\n",
       "      <th>2</th>\n",
       "      <td>active_smoker</td>\n",
       "      <td>0</td>\n",
       "      <td>0</td>\n",
       "      <td>1</td>\n",
       "    </tr>\n",
       "    <tr>\n",
       "      <th>3</th>\n",
       "      <td>quit</td>\n",
       "      <td>0</td>\n",
       "      <td>1</td>\n",
       "      <td>0</td>\n",
       "    </tr>\n",
       "    <tr>\n",
       "      <th>4</th>\n",
       "      <td>active_smoker</td>\n",
       "      <td>0</td>\n",
       "      <td>0</td>\n",
       "      <td>1</td>\n",
       "    </tr>\n",
       "  </tbody>\n",
       "</table>\n",
       "</div>"
      ],
      "text/plain": [
       "   smoker_status  smoker_status_non-smoker  smoker_status_quit  \\\n",
       "0     non-smoker                         1                   0   \n",
       "1           quit                         0                   1   \n",
       "2  active_smoker                         0                   0   \n",
       "3           quit                         0                   1   \n",
       "4  active_smoker                         0                   0   \n",
       "\n",
       "   smoker_status_active_smoker  \n",
       "0                            0  \n",
       "1                            0  \n",
       "2                            1  \n",
       "3                            0  \n",
       "4                            1  "
      ]
     },
     "execution_count": 15,
     "metadata": {},
     "output_type": "execute_result"
    }
   ],
   "source": [
    "stk_onehot.head(n=5)[[\"high_BP\", \"high_BP_0\", \"high_BP_1\"]]\n",
    "stk_onehot.head(n=5)[[\"smoker_status\", \"smoker_status_non-smoker\", \n",
    "                      \"smoker_status_quit\", \"smoker_status_active_smoker\"]]"
   ]
  },
  {
   "cell_type": "code",
   "execution_count": 16,
   "metadata": {},
   "outputs": [
    {
     "name": "stdout",
     "output_type": "stream",
     "text": [
      "True\n",
      "True\n"
     ]
    }
   ],
   "source": [
    "stk_onehot.rename(columns={\"smoker_status_non-smoker\":\"smoker_status_non_smoker\"}, inplace=True)\n",
    "print(\"smoker_status_non_smoker\" in stk_onehot.columns)\n",
    "\n",
    "stk_onehot.loc[stk_onehot[\"smoker_status\"] == \"non-smoker\", \"smoker_status\"] = \"non_smoker\"\n",
    "print(\"non_smoker\" in stk_onehot.smoker_status.unique())\n"
   ]
  },
  {
   "cell_type": "markdown",
   "metadata": {},
   "source": [
    "<div class=\"alert alert-block alert-info\">\n",
    "Binning\n",
    "</div>"
   ]
  },
  {
   "cell_type": "code",
   "execution_count": 17,
   "metadata": {},
   "outputs": [],
   "source": [
    "stk_onehot[\"low_BMI\"] = 0\n",
    "stk_onehot.loc[stk_onehot[\"BMI\"] < 18.5, \"low_BMI\"] = 1\n",
    "\n",
    "stk_onehot[\"medium_BMI\"] = 0\n",
    "stk_onehot.loc[(stk_onehot[\"BMI\"] >= 18.5) & (stk_onehot[\"BMI\"] < 24.9), \"medium_BMI\"] = 1\n",
    "\n",
    "stk_onehot[\"high_BMI\"] = 0\n",
    "stk_onehot.loc[(stk_onehot[\"BMI\"] >= 24.9) & (stk_onehot[\"BMI\"] < 29.9), \"high_BMI\"] = 1\n",
    "\n",
    "stk_onehot[\"very_high_BMI\"] = 0\n",
    "stk_onehot.loc[stk_onehot[\"BMI\"] >= 29.9, \"very_high_BMI\"] = 1"
   ]
  },
  {
   "cell_type": "code",
   "execution_count": 18,
   "metadata": {},
   "outputs": [],
   "source": [
    "stk_onehot[\"child\"] = 0\n",
    "stk_onehot.loc[stk_onehot[\"age_corr\"] < 18, \"child\"] = 1\n",
    "\n",
    "stk_onehot[\"adult\"] = 0\n",
    "stk_onehot.loc[(stk_onehot[\"age_corr\"] >= 18) & (stk_onehot[\"age_corr\"] < 45), \"adult\"] = 1\n",
    "\n",
    "stk_onehot[\"senior\"] = 0\n",
    "stk_onehot.loc[(stk_onehot[\"age_corr\"] >= 45) & (stk_onehot[\"age_corr\"] < 70), \"senior\"] = 1\n",
    "\n",
    "stk_onehot[\"elderly\"] = 0\n",
    "stk_onehot.loc[stk_onehot[\"age_corr\"] >= 70, \"elderly\"] = 1"
   ]
  },
  {
   "cell_type": "code",
   "execution_count": 19,
   "metadata": {},
   "outputs": [],
   "source": [
    "# stk_onehot[\"low_sugar\"] = 0\n",
    "# stk_onehot.loc[stk_onehot[\"average_blood_sugar\"] < 50, \"low_sugar\"] = 1\n",
    "\n",
    "stk_onehot[\"low_sugar\"] = 0\n",
    "stk_onehot.loc[(stk_onehot[\"average_blood_sugar\"] >= 50) &\\\n",
    "               (stk_onehot[\"average_blood_sugar\"] < 100), \"low_sugar\"] = 1\n",
    "\n",
    "stk_onehot[\"medium_sugar\"] = 0\n",
    "stk_onehot.loc[(stk_onehot[\"average_blood_sugar\"] >= 100) &\\\n",
    "               (stk_onehot[\"average_blood_sugar\"] < 150), \"medium_sugar\"] = 1\n",
    "\n",
    "stk_onehot[\"high_sugar\"] = 0\n",
    "stk_onehot.loc[(stk_onehot[\"average_blood_sugar\"] >= 150) &\\\n",
    "               (stk_onehot[\"average_blood_sugar\"] < 250), \"high_sugar\"] = 1\n",
    "\n",
    "stk_onehot[\"very_high_sugar\"] = 0\n",
    "stk_onehot.loc[stk_onehot[\"average_blood_sugar\"] >= 250, \"very_high_sugar\"] = 1"
   ]
  },
  {
   "cell_type": "code",
   "execution_count": 20,
   "metadata": {},
   "outputs": [
    {
     "name": "stdout",
     "output_type": "stream",
     "text": [
      "(23257, 39)\n"
     ]
    },
    {
     "data": {
      "text/html": [
       "<div>\n",
       "<style scoped>\n",
       "    .dataframe tbody tr th:only-of-type {\n",
       "        vertical-align: middle;\n",
       "    }\n",
       "\n",
       "    .dataframe tbody tr th {\n",
       "        vertical-align: top;\n",
       "    }\n",
       "\n",
       "    .dataframe thead th {\n",
       "        text-align: right;\n",
       "    }\n",
       "</style>\n",
       "<table border=\"1\" class=\"dataframe\">\n",
       "  <thead>\n",
       "    <tr style=\"text-align: right;\">\n",
       "      <th></th>\n",
       "      <th>high_BP</th>\n",
       "      <th>heart_condition_detected_2017</th>\n",
       "      <th>married</th>\n",
       "      <th>smoker_status</th>\n",
       "      <th>average_blood_sugar</th>\n",
       "      <th>BMI</th>\n",
       "      <th>job_status_corr</th>\n",
       "      <th>living_area_corr</th>\n",
       "      <th>sex_corr</th>\n",
       "      <th>age_corr</th>\n",
       "      <th>...</th>\n",
       "      <th>high_BMI</th>\n",
       "      <th>very_high_BMI</th>\n",
       "      <th>child</th>\n",
       "      <th>adult</th>\n",
       "      <th>senior</th>\n",
       "      <th>elderly</th>\n",
       "      <th>low_sugar</th>\n",
       "      <th>medium_sugar</th>\n",
       "      <th>high_sugar</th>\n",
       "      <th>very_high_sugar</th>\n",
       "    </tr>\n",
       "  </thead>\n",
       "  <tbody>\n",
       "    <tr>\n",
       "      <th>0</th>\n",
       "      <td>1</td>\n",
       "      <td>0</td>\n",
       "      <td>1</td>\n",
       "      <td>non_smoker</td>\n",
       "      <td>71.67</td>\n",
       "      <td>36.6</td>\n",
       "      <td>government</td>\n",
       "      <td>remote</td>\n",
       "      <td>f</td>\n",
       "      <td>61</td>\n",
       "      <td>...</td>\n",
       "      <td>0</td>\n",
       "      <td>1</td>\n",
       "      <td>0</td>\n",
       "      <td>0</td>\n",
       "      <td>1</td>\n",
       "      <td>0</td>\n",
       "      <td>1</td>\n",
       "      <td>0</td>\n",
       "      <td>0</td>\n",
       "      <td>0</td>\n",
       "    </tr>\n",
       "    <tr>\n",
       "      <th>1</th>\n",
       "      <td>0</td>\n",
       "      <td>0</td>\n",
       "      <td>0</td>\n",
       "      <td>quit</td>\n",
       "      <td>107.95</td>\n",
       "      <td>30.4</td>\n",
       "      <td>private_sector</td>\n",
       "      <td>remote</td>\n",
       "      <td>f</td>\n",
       "      <td>30</td>\n",
       "      <td>...</td>\n",
       "      <td>0</td>\n",
       "      <td>1</td>\n",
       "      <td>0</td>\n",
       "      <td>1</td>\n",
       "      <td>0</td>\n",
       "      <td>0</td>\n",
       "      <td>0</td>\n",
       "      <td>1</td>\n",
       "      <td>0</td>\n",
       "      <td>0</td>\n",
       "    </tr>\n",
       "    <tr>\n",
       "      <th>2</th>\n",
       "      <td>1</td>\n",
       "      <td>0</td>\n",
       "      <td>1</td>\n",
       "      <td>active_smoker</td>\n",
       "      <td>76.49</td>\n",
       "      <td>42.1</td>\n",
       "      <td>government</td>\n",
       "      <td>remote</td>\n",
       "      <td>f</td>\n",
       "      <td>51</td>\n",
       "      <td>...</td>\n",
       "      <td>0</td>\n",
       "      <td>1</td>\n",
       "      <td>0</td>\n",
       "      <td>0</td>\n",
       "      <td>1</td>\n",
       "      <td>0</td>\n",
       "      <td>1</td>\n",
       "      <td>0</td>\n",
       "      <td>0</td>\n",
       "      <td>0</td>\n",
       "    </tr>\n",
       "    <tr>\n",
       "      <th>3</th>\n",
       "      <td>0</td>\n",
       "      <td>0</td>\n",
       "      <td>1</td>\n",
       "      <td>quit</td>\n",
       "      <td>113.98</td>\n",
       "      <td>57.3</td>\n",
       "      <td>government</td>\n",
       "      <td>city</td>\n",
       "      <td>f</td>\n",
       "      <td>54</td>\n",
       "      <td>...</td>\n",
       "      <td>0</td>\n",
       "      <td>1</td>\n",
       "      <td>0</td>\n",
       "      <td>0</td>\n",
       "      <td>1</td>\n",
       "      <td>0</td>\n",
       "      <td>0</td>\n",
       "      <td>1</td>\n",
       "      <td>0</td>\n",
       "      <td>0</td>\n",
       "    </tr>\n",
       "    <tr>\n",
       "      <th>4</th>\n",
       "      <td>0</td>\n",
       "      <td>0</td>\n",
       "      <td>0</td>\n",
       "      <td>active_smoker</td>\n",
       "      <td>70.60</td>\n",
       "      <td>26.7</td>\n",
       "      <td>private_sector</td>\n",
       "      <td>city</td>\n",
       "      <td>m</td>\n",
       "      <td>27</td>\n",
       "      <td>...</td>\n",
       "      <td>1</td>\n",
       "      <td>0</td>\n",
       "      <td>0</td>\n",
       "      <td>1</td>\n",
       "      <td>0</td>\n",
       "      <td>0</td>\n",
       "      <td>1</td>\n",
       "      <td>0</td>\n",
       "      <td>0</td>\n",
       "      <td>0</td>\n",
       "    </tr>\n",
       "  </tbody>\n",
       "</table>\n",
       "<p>5 rows × 39 columns</p>\n",
       "</div>"
      ],
      "text/plain": [
       "  high_BP heart_condition_detected_2017 married  smoker_status  \\\n",
       "0       1                             0       1     non_smoker   \n",
       "1       0                             0       0           quit   \n",
       "2       1                             0       1  active_smoker   \n",
       "3       0                             0       1           quit   \n",
       "4       0                             0       0  active_smoker   \n",
       "\n",
       "   average_blood_sugar   BMI job_status_corr living_area_corr sex_corr  \\\n",
       "0                71.67  36.6      government           remote        f   \n",
       "1               107.95  30.4  private_sector           remote        f   \n",
       "2                76.49  42.1      government           remote        f   \n",
       "3               113.98  57.3      government             city        f   \n",
       "4                70.60  26.7  private_sector             city        m   \n",
       "\n",
       "   age_corr  ... high_BMI  very_high_BMI  child  adult  senior  elderly  \\\n",
       "0        61  ...        0              1      0      0       1        0   \n",
       "1        30  ...        0              1      0      1       0        0   \n",
       "2        51  ...        0              1      0      0       1        0   \n",
       "3        54  ...        0              1      0      0       1        0   \n",
       "4        27  ...        1              0      0      1       0        0   \n",
       "\n",
       "   low_sugar  medium_sugar  high_sugar  very_high_sugar  \n",
       "0          1             0           0                0  \n",
       "1          0             1           0                0  \n",
       "2          1             0           0                0  \n",
       "3          0             1           0                0  \n",
       "4          1             0           0                0  \n",
       "\n",
       "[5 rows x 39 columns]"
      ]
     },
     "execution_count": 20,
     "metadata": {},
     "output_type": "execute_result"
    }
   ],
   "source": [
    "print(stk_onehot.shape)\n",
    "stk_onehot.head()"
   ]
  },
  {
   "cell_type": "markdown",
   "metadata": {},
   "source": [
    "<div class=\"alert alert-block alert-info\">\n",
    "Combining Classes\n",
    "</div>"
   ]
  },
  {
   "cell_type": "code",
   "execution_count": 21,
   "metadata": {},
   "outputs": [],
   "source": [
    "# We try to mark the patients have smoked before, even if they are not smoking now\n",
    "stk_onehot[\"has_smoked\"] = 0\n",
    "stk_onehot.loc[(stk_onehot[\"smoker_status_quit\"] == 1) &\\\n",
    "               (stk_onehot[\"smoker_status_active_smoker\"] == 1), \"has_smoked\"] = 1"
   ]
  },
  {
   "cell_type": "code",
   "execution_count": 22,
   "metadata": {
    "scrolled": true
   },
   "outputs": [
    {
     "data": {
      "text/html": [
       "<div>\n",
       "<style scoped>\n",
       "    .dataframe tbody tr th:only-of-type {\n",
       "        vertical-align: middle;\n",
       "    }\n",
       "\n",
       "    .dataframe tbody tr th {\n",
       "        vertical-align: top;\n",
       "    }\n",
       "\n",
       "    .dataframe thead th {\n",
       "        text-align: right;\n",
       "    }\n",
       "</style>\n",
       "<table border=\"1\" class=\"dataframe\">\n",
       "  <thead>\n",
       "    <tr style=\"text-align: right;\">\n",
       "      <th></th>\n",
       "      <th>high_BP</th>\n",
       "      <th>heart_condition_detected_2017</th>\n",
       "      <th>married</th>\n",
       "      <th>smoker_status</th>\n",
       "      <th>average_blood_sugar</th>\n",
       "      <th>BMI</th>\n",
       "      <th>job_status_corr</th>\n",
       "      <th>living_area_corr</th>\n",
       "      <th>sex_corr</th>\n",
       "      <th>age_corr</th>\n",
       "      <th>...</th>\n",
       "      <th>very_high_BMI</th>\n",
       "      <th>child</th>\n",
       "      <th>adult</th>\n",
       "      <th>senior</th>\n",
       "      <th>elderly</th>\n",
       "      <th>low_sugar</th>\n",
       "      <th>medium_sugar</th>\n",
       "      <th>high_sugar</th>\n",
       "      <th>very_high_sugar</th>\n",
       "      <th>has_smoked</th>\n",
       "    </tr>\n",
       "  </thead>\n",
       "  <tbody>\n",
       "    <tr>\n",
       "      <th>0</th>\n",
       "      <td>1</td>\n",
       "      <td>0</td>\n",
       "      <td>1</td>\n",
       "      <td>non_smoker</td>\n",
       "      <td>71.67</td>\n",
       "      <td>36.6</td>\n",
       "      <td>government</td>\n",
       "      <td>remote</td>\n",
       "      <td>f</td>\n",
       "      <td>61</td>\n",
       "      <td>...</td>\n",
       "      <td>1</td>\n",
       "      <td>0</td>\n",
       "      <td>0</td>\n",
       "      <td>1</td>\n",
       "      <td>0</td>\n",
       "      <td>1</td>\n",
       "      <td>0</td>\n",
       "      <td>0</td>\n",
       "      <td>0</td>\n",
       "      <td>0</td>\n",
       "    </tr>\n",
       "    <tr>\n",
       "      <th>1</th>\n",
       "      <td>0</td>\n",
       "      <td>0</td>\n",
       "      <td>0</td>\n",
       "      <td>quit</td>\n",
       "      <td>107.95</td>\n",
       "      <td>30.4</td>\n",
       "      <td>private_sector</td>\n",
       "      <td>remote</td>\n",
       "      <td>f</td>\n",
       "      <td>30</td>\n",
       "      <td>...</td>\n",
       "      <td>1</td>\n",
       "      <td>0</td>\n",
       "      <td>1</td>\n",
       "      <td>0</td>\n",
       "      <td>0</td>\n",
       "      <td>0</td>\n",
       "      <td>1</td>\n",
       "      <td>0</td>\n",
       "      <td>0</td>\n",
       "      <td>0</td>\n",
       "    </tr>\n",
       "    <tr>\n",
       "      <th>2</th>\n",
       "      <td>1</td>\n",
       "      <td>0</td>\n",
       "      <td>1</td>\n",
       "      <td>active_smoker</td>\n",
       "      <td>76.49</td>\n",
       "      <td>42.1</td>\n",
       "      <td>government</td>\n",
       "      <td>remote</td>\n",
       "      <td>f</td>\n",
       "      <td>51</td>\n",
       "      <td>...</td>\n",
       "      <td>1</td>\n",
       "      <td>0</td>\n",
       "      <td>0</td>\n",
       "      <td>1</td>\n",
       "      <td>0</td>\n",
       "      <td>1</td>\n",
       "      <td>0</td>\n",
       "      <td>0</td>\n",
       "      <td>0</td>\n",
       "      <td>0</td>\n",
       "    </tr>\n",
       "    <tr>\n",
       "      <th>3</th>\n",
       "      <td>0</td>\n",
       "      <td>0</td>\n",
       "      <td>1</td>\n",
       "      <td>quit</td>\n",
       "      <td>113.98</td>\n",
       "      <td>57.3</td>\n",
       "      <td>government</td>\n",
       "      <td>city</td>\n",
       "      <td>f</td>\n",
       "      <td>54</td>\n",
       "      <td>...</td>\n",
       "      <td>1</td>\n",
       "      <td>0</td>\n",
       "      <td>0</td>\n",
       "      <td>1</td>\n",
       "      <td>0</td>\n",
       "      <td>0</td>\n",
       "      <td>1</td>\n",
       "      <td>0</td>\n",
       "      <td>0</td>\n",
       "      <td>0</td>\n",
       "    </tr>\n",
       "    <tr>\n",
       "      <th>4</th>\n",
       "      <td>0</td>\n",
       "      <td>0</td>\n",
       "      <td>0</td>\n",
       "      <td>active_smoker</td>\n",
       "      <td>70.60</td>\n",
       "      <td>26.7</td>\n",
       "      <td>private_sector</td>\n",
       "      <td>city</td>\n",
       "      <td>m</td>\n",
       "      <td>27</td>\n",
       "      <td>...</td>\n",
       "      <td>0</td>\n",
       "      <td>0</td>\n",
       "      <td>1</td>\n",
       "      <td>0</td>\n",
       "      <td>0</td>\n",
       "      <td>1</td>\n",
       "      <td>0</td>\n",
       "      <td>0</td>\n",
       "      <td>0</td>\n",
       "      <td>0</td>\n",
       "    </tr>\n",
       "  </tbody>\n",
       "</table>\n",
       "<p>5 rows × 40 columns</p>\n",
       "</div>"
      ],
      "text/plain": [
       "  high_BP heart_condition_detected_2017 married  smoker_status  \\\n",
       "0       1                             0       1     non_smoker   \n",
       "1       0                             0       0           quit   \n",
       "2       1                             0       1  active_smoker   \n",
       "3       0                             0       1           quit   \n",
       "4       0                             0       0  active_smoker   \n",
       "\n",
       "   average_blood_sugar   BMI job_status_corr living_area_corr sex_corr  \\\n",
       "0                71.67  36.6      government           remote        f   \n",
       "1               107.95  30.4  private_sector           remote        f   \n",
       "2                76.49  42.1      government           remote        f   \n",
       "3               113.98  57.3      government             city        f   \n",
       "4                70.60  26.7  private_sector             city        m   \n",
       "\n",
       "   age_corr  ... very_high_BMI  child  adult  senior  elderly  low_sugar  \\\n",
       "0        61  ...             1      0      0       1        0          1   \n",
       "1        30  ...             1      0      1       0        0          0   \n",
       "2        51  ...             1      0      0       1        0          1   \n",
       "3        54  ...             1      0      0       1        0          0   \n",
       "4        27  ...             0      0      1       0        0          1   \n",
       "\n",
       "   medium_sugar  high_sugar  very_high_sugar  has_smoked  \n",
       "0             0           0                0           0  \n",
       "1             1           0                0           0  \n",
       "2             0           0                0           0  \n",
       "3             1           0                0           0  \n",
       "4             0           0                0           0  \n",
       "\n",
       "[5 rows x 40 columns]"
      ]
     },
     "execution_count": 22,
     "metadata": {},
     "output_type": "execute_result"
    }
   ],
   "source": [
    "stk_onehot.head()"
   ]
  },
  {
   "cell_type": "code",
   "execution_count": 23,
   "metadata": {},
   "outputs": [
    {
     "data": {
      "text/html": [
       "<div>\n",
       "<style scoped>\n",
       "    .dataframe tbody tr th:only-of-type {\n",
       "        vertical-align: middle;\n",
       "    }\n",
       "\n",
       "    .dataframe tbody tr th {\n",
       "        vertical-align: top;\n",
       "    }\n",
       "\n",
       "    .dataframe thead th {\n",
       "        text-align: right;\n",
       "    }\n",
       "</style>\n",
       "<table border=\"1\" class=\"dataframe\">\n",
       "  <thead>\n",
       "    <tr style=\"text-align: right;\">\n",
       "      <th></th>\n",
       "      <th>job_status_corr_business_owner</th>\n",
       "      <th>job_status_corr_government</th>\n",
       "      <th>job_status_corr_parental_leave</th>\n",
       "      <th>job_status_corr_private_sector</th>\n",
       "      <th>job_status_corr_unemployed</th>\n",
       "      <th>living_area_corr_city</th>\n",
       "      <th>living_area_corr_remote</th>\n",
       "      <th>low_BMI</th>\n",
       "      <th>medium_BMI</th>\n",
       "      <th>high_BMI</th>\n",
       "      <th>very_high_BMI</th>\n",
       "      <th>child</th>\n",
       "      <th>adult</th>\n",
       "      <th>senior</th>\n",
       "      <th>elderly</th>\n",
       "      <th>low_sugar</th>\n",
       "      <th>medium_sugar</th>\n",
       "      <th>high_sugar</th>\n",
       "      <th>very_high_sugar</th>\n",
       "      <th>has_smoked</th>\n",
       "    </tr>\n",
       "  </thead>\n",
       "  <tbody>\n",
       "    <tr>\n",
       "      <th>0</th>\n",
       "      <td>0</td>\n",
       "      <td>1</td>\n",
       "      <td>0</td>\n",
       "      <td>0</td>\n",
       "      <td>0</td>\n",
       "      <td>0</td>\n",
       "      <td>1</td>\n",
       "      <td>0</td>\n",
       "      <td>0</td>\n",
       "      <td>0</td>\n",
       "      <td>1</td>\n",
       "      <td>0</td>\n",
       "      <td>0</td>\n",
       "      <td>1</td>\n",
       "      <td>0</td>\n",
       "      <td>1</td>\n",
       "      <td>0</td>\n",
       "      <td>0</td>\n",
       "      <td>0</td>\n",
       "      <td>0</td>\n",
       "    </tr>\n",
       "    <tr>\n",
       "      <th>1</th>\n",
       "      <td>0</td>\n",
       "      <td>0</td>\n",
       "      <td>0</td>\n",
       "      <td>1</td>\n",
       "      <td>0</td>\n",
       "      <td>0</td>\n",
       "      <td>1</td>\n",
       "      <td>0</td>\n",
       "      <td>0</td>\n",
       "      <td>0</td>\n",
       "      <td>1</td>\n",
       "      <td>0</td>\n",
       "      <td>1</td>\n",
       "      <td>0</td>\n",
       "      <td>0</td>\n",
       "      <td>0</td>\n",
       "      <td>1</td>\n",
       "      <td>0</td>\n",
       "      <td>0</td>\n",
       "      <td>0</td>\n",
       "    </tr>\n",
       "    <tr>\n",
       "      <th>2</th>\n",
       "      <td>0</td>\n",
       "      <td>1</td>\n",
       "      <td>0</td>\n",
       "      <td>0</td>\n",
       "      <td>0</td>\n",
       "      <td>0</td>\n",
       "      <td>1</td>\n",
       "      <td>0</td>\n",
       "      <td>0</td>\n",
       "      <td>0</td>\n",
       "      <td>1</td>\n",
       "      <td>0</td>\n",
       "      <td>0</td>\n",
       "      <td>1</td>\n",
       "      <td>0</td>\n",
       "      <td>1</td>\n",
       "      <td>0</td>\n",
       "      <td>0</td>\n",
       "      <td>0</td>\n",
       "      <td>0</td>\n",
       "    </tr>\n",
       "    <tr>\n",
       "      <th>3</th>\n",
       "      <td>0</td>\n",
       "      <td>1</td>\n",
       "      <td>0</td>\n",
       "      <td>0</td>\n",
       "      <td>0</td>\n",
       "      <td>1</td>\n",
       "      <td>0</td>\n",
       "      <td>0</td>\n",
       "      <td>0</td>\n",
       "      <td>0</td>\n",
       "      <td>1</td>\n",
       "      <td>0</td>\n",
       "      <td>0</td>\n",
       "      <td>1</td>\n",
       "      <td>0</td>\n",
       "      <td>0</td>\n",
       "      <td>1</td>\n",
       "      <td>0</td>\n",
       "      <td>0</td>\n",
       "      <td>0</td>\n",
       "    </tr>\n",
       "    <tr>\n",
       "      <th>4</th>\n",
       "      <td>0</td>\n",
       "      <td>0</td>\n",
       "      <td>0</td>\n",
       "      <td>1</td>\n",
       "      <td>0</td>\n",
       "      <td>1</td>\n",
       "      <td>0</td>\n",
       "      <td>0</td>\n",
       "      <td>0</td>\n",
       "      <td>1</td>\n",
       "      <td>0</td>\n",
       "      <td>0</td>\n",
       "      <td>1</td>\n",
       "      <td>0</td>\n",
       "      <td>0</td>\n",
       "      <td>1</td>\n",
       "      <td>0</td>\n",
       "      <td>0</td>\n",
       "      <td>0</td>\n",
       "      <td>0</td>\n",
       "    </tr>\n",
       "  </tbody>\n",
       "</table>\n",
       "</div>"
      ],
      "text/plain": [
       "   job_status_corr_business_owner  job_status_corr_government  \\\n",
       "0                               0                           1   \n",
       "1                               0                           0   \n",
       "2                               0                           1   \n",
       "3                               0                           1   \n",
       "4                               0                           0   \n",
       "\n",
       "   job_status_corr_parental_leave  job_status_corr_private_sector  \\\n",
       "0                               0                               0   \n",
       "1                               0                               1   \n",
       "2                               0                               0   \n",
       "3                               0                               0   \n",
       "4                               0                               1   \n",
       "\n",
       "   job_status_corr_unemployed  living_area_corr_city  living_area_corr_remote  \\\n",
       "0                           0                      0                        1   \n",
       "1                           0                      0                        1   \n",
       "2                           0                      0                        1   \n",
       "3                           0                      1                        0   \n",
       "4                           0                      1                        0   \n",
       "\n",
       "   low_BMI  medium_BMI  high_BMI  very_high_BMI  child  adult  senior  \\\n",
       "0        0           0         0              1      0      0       1   \n",
       "1        0           0         0              1      0      1       0   \n",
       "2        0           0         0              1      0      0       1   \n",
       "3        0           0         0              1      0      0       1   \n",
       "4        0           0         1              0      0      1       0   \n",
       "\n",
       "   elderly  low_sugar  medium_sugar  high_sugar  very_high_sugar  has_smoked  \n",
       "0        0          1             0           0                0           0  \n",
       "1        0          0             1           0                0           0  \n",
       "2        0          1             0           0                0           0  \n",
       "3        0          0             1           0                0           0  \n",
       "4        0          1             0           0                0           0  "
      ]
     },
     "execution_count": 23,
     "metadata": {},
     "output_type": "execute_result"
    }
   ],
   "source": [
    "stk_onehot.iloc[:5, 20:]"
   ]
  },
  {
   "cell_type": "markdown",
   "metadata": {},
   "source": [
    "__Now we drop all the columns that have been OneHot encoded__"
   ]
  },
  {
   "cell_type": "code",
   "execution_count": 24,
   "metadata": {
    "scrolled": true
   },
   "outputs": [],
   "source": [
    "columns_one_hot_encoded = [\"high_BP\", \"heart_condition_detected_2017\", \"married\",\n",
    "                           \"smoker_status\", \"job_status_corr\", \"living_area_corr\",\n",
    "                           \"sex_corr\"\n",
    "                        ]\n",
    "stk_oh_only = stk_onehot.drop(labels=columns_one_hot_encoded, axis=1).reset_index(drop=True)"
   ]
  },
  {
   "cell_type": "markdown",
   "metadata": {},
   "source": [
    "### SMOTE Upsampling\n",
    "\n",
    "Let's try and do synthetic upsampling to balance the classes. Let's aim for 20%."
   ]
  },
  {
   "cell_type": "code",
   "execution_count": 25,
   "metadata": {},
   "outputs": [],
   "source": [
    "from imblearn.over_sampling import SMOTENC\n",
    "from collections import Counter"
   ]
  },
  {
   "cell_type": "code",
   "execution_count": 26,
   "metadata": {},
   "outputs": [
    {
     "name": "stdout",
     "output_type": "stream",
     "text": [
      "33\n"
     ]
    },
    {
     "data": {
      "text/plain": [
       "Index(['average_blood_sugar', 'BMI', 'age_corr', 'stroke_in_2018', 'high_BP_0',\n",
       "       'high_BP_1', 'smoker_status_active_smoker', 'smoker_status_non_smoker',\n",
       "       'smoker_status_quit', 'married_0', 'married_1',\n",
       "       'heart_condition_detected_2017_0', 'heart_condition_detected_2017_1',\n",
       "       'job_status_corr_business_owner', 'job_status_corr_government',\n",
       "       'job_status_corr_parental_leave', 'job_status_corr_private_sector',\n",
       "       'job_status_corr_unemployed', 'living_area_corr_city',\n",
       "       'living_area_corr_remote', 'low_BMI', 'medium_BMI', 'high_BMI',\n",
       "       'very_high_BMI', 'child', 'adult', 'senior', 'elderly', 'low_sugar',\n",
       "       'medium_sugar', 'high_sugar', 'very_high_sugar', 'has_smoked'],\n",
       "      dtype='object')"
      ]
     },
     "execution_count": 26,
     "metadata": {},
     "output_type": "execute_result"
    }
   ],
   "source": [
    "print(len(stk_oh_only.columns))\n",
    "stk_oh_only.columns"
   ]
  },
  {
   "cell_type": "code",
   "execution_count": 27,
   "metadata": {},
   "outputs": [
    {
     "name": "stdout",
     "output_type": "stream",
     "text": [
      "33\n",
      "32\n"
     ]
    },
    {
     "data": {
      "text/plain": [
       "Index(['average_blood_sugar', 'BMI', 'age_corr', 'high_BP_0', 'high_BP_1',\n",
       "       'smoker_status_active_smoker', 'smoker_status_non_smoker',\n",
       "       'smoker_status_quit', 'married_0', 'married_1',\n",
       "       'heart_condition_detected_2017_0', 'heart_condition_detected_2017_1',\n",
       "       'job_status_corr_business_owner', 'job_status_corr_government',\n",
       "       'job_status_corr_parental_leave', 'job_status_corr_private_sector',\n",
       "       'job_status_corr_unemployed', 'living_area_corr_city',\n",
       "       'living_area_corr_remote', 'low_BMI', 'medium_BMI', 'high_BMI',\n",
       "       'very_high_BMI', 'child', 'adult', 'senior', 'elderly', 'low_sugar',\n",
       "       'medium_sugar', 'high_sugar', 'very_high_sugar', 'has_smoked'],\n",
       "      dtype='object')"
      ]
     },
     "execution_count": 27,
     "metadata": {},
     "output_type": "execute_result"
    }
   ],
   "source": [
    "X = stk_oh_only.drop(labels=\"stroke_in_2018\", axis=1).reset_index(drop=True)\n",
    "y = stk_oh_only[\"stroke_in_2018\"].reset_index(drop=True)\n",
    "\n",
    "print(len(stk_oh_only.columns))\n",
    "print(len(X.columns)) # Should have 1 less column\n",
    "X.columns"
   ]
  },
  {
   "cell_type": "code",
   "execution_count": 28,
   "metadata": {
    "scrolled": true
   },
   "outputs": [
    {
     "name": "stdout",
     "output_type": "stream",
     "text": [
      "[ 3  4  5  6  7  8  9 10 11 12 13 14 15 16 17 18 19 20 21 22 23 24 25 26\n",
      " 27 28 29 30 31]\n"
     ]
    },
    {
     "data": {
      "text/plain": [
       "Index(['high_BP_0', 'high_BP_1', 'smoker_status_active_smoker',\n",
       "       'smoker_status_non_smoker', 'smoker_status_quit', 'married_0',\n",
       "       'married_1', 'heart_condition_detected_2017_0',\n",
       "       'heart_condition_detected_2017_1', 'job_status_corr_business_owner',\n",
       "       'job_status_corr_government', 'job_status_corr_parental_leave',\n",
       "       'job_status_corr_private_sector', 'job_status_corr_unemployed',\n",
       "       'living_area_corr_city', 'living_area_corr_remote', 'low_BMI',\n",
       "       'medium_BMI', 'high_BMI', 'very_high_BMI', 'child', 'adult', 'senior',\n",
       "       'elderly', 'low_sugar', 'medium_sugar', 'high_sugar', 'very_high_sugar',\n",
       "       'has_smoked'],\n",
       "      dtype='object')"
      ]
     },
     "execution_count": 28,
     "metadata": {},
     "output_type": "execute_result"
    }
   ],
   "source": [
    "# We drop the continuous variables average_sugar_level, BMI, age_corr\n",
    "\n",
    "categorical_indices = np.arange(start=3, stop=32)\n",
    "print(categorical_indices)\n",
    "\n",
    "X.iloc[:, categorical_indices].columns"
   ]
  },
  {
   "cell_type": "markdown",
   "metadata": {},
   "source": [
    "The docs for SMOTE-NC are [here](https://imbalanced-learn.readthedocs.io/en/stable/generated/imblearn.over_sampling.SMOTENC.html#r7c6df8790298-1) for quick reference."
   ]
  },
  {
   "cell_type": "code",
   "execution_count": 29,
   "metadata": {},
   "outputs": [
    {
     "data": {
      "text/plain": [
       "SMOTENC(categorical_features=array([ 3,  4,  5,  6,  7,  8,  9, 10, 11, 12, 13, 14, 15, 16, 17, 18, 19,\n",
       "       20, 21, 22, 23, 24, 25, 26, 27, 28, 29, 30, 31]),\n",
       "        k_neighbors=5, n_jobs=1, random_state=42, sampling_strategy=0.2)"
      ]
     },
     "execution_count": 29,
     "metadata": {},
     "output_type": "execute_result"
    }
   ],
   "source": [
    "# sampling_strategy\n",
    "\n",
    "smote = SMOTENC(random_state=42, \n",
    "                categorical_features=categorical_indices,\n",
    "                sampling_strategy=0.2\n",
    "            )\n",
    "smote"
   ]
  },
  {
   "cell_type": "code",
   "execution_count": 30,
   "metadata": {},
   "outputs": [],
   "source": [
    "X_res, y_res = smote.fit_resample(X, y)"
   ]
  },
  {
   "cell_type": "code",
   "execution_count": 31,
   "metadata": {},
   "outputs": [
    {
     "data": {
      "text/plain": [
       "Counter({'0': 22804, '1': 4560})"
      ]
     },
     "execution_count": 31,
     "metadata": {},
     "output_type": "execute_result"
    }
   ],
   "source": [
    "Counter(y_res) # Great, we've upsampled!"
   ]
  },
  {
   "cell_type": "code",
   "execution_count": 39,
   "metadata": {
    "scrolled": true
   },
   "outputs": [
    {
     "data": {
      "text/html": [
       "<div>\n",
       "<style scoped>\n",
       "    .dataframe tbody tr th:only-of-type {\n",
       "        vertical-align: middle;\n",
       "    }\n",
       "\n",
       "    .dataframe tbody tr th {\n",
       "        vertical-align: top;\n",
       "    }\n",
       "\n",
       "    .dataframe thead th {\n",
       "        text-align: right;\n",
       "    }\n",
       "</style>\n",
       "<table border=\"1\" class=\"dataframe\">\n",
       "  <thead>\n",
       "    <tr style=\"text-align: right;\">\n",
       "      <th></th>\n",
       "      <th>average_blood_sugar</th>\n",
       "      <th>BMI</th>\n",
       "      <th>age_corr</th>\n",
       "      <th>high_BP_0</th>\n",
       "      <th>high_BP_1</th>\n",
       "      <th>smoker_status_active_smoker</th>\n",
       "      <th>smoker_status_non_smoker</th>\n",
       "      <th>smoker_status_quit</th>\n",
       "      <th>married_0</th>\n",
       "      <th>married_1</th>\n",
       "      <th>...</th>\n",
       "      <th>very_high_BMI</th>\n",
       "      <th>child</th>\n",
       "      <th>adult</th>\n",
       "      <th>senior</th>\n",
       "      <th>elderly</th>\n",
       "      <th>low_sugar</th>\n",
       "      <th>medium_sugar</th>\n",
       "      <th>high_sugar</th>\n",
       "      <th>very_high_sugar</th>\n",
       "      <th>has_smoked</th>\n",
       "    </tr>\n",
       "  </thead>\n",
       "  <tbody>\n",
       "    <tr>\n",
       "      <th>0</th>\n",
       "      <td>71.67</td>\n",
       "      <td>36.6</td>\n",
       "      <td>61</td>\n",
       "      <td>0</td>\n",
       "      <td>1</td>\n",
       "      <td>0</td>\n",
       "      <td>1</td>\n",
       "      <td>0</td>\n",
       "      <td>0</td>\n",
       "      <td>1</td>\n",
       "      <td>...</td>\n",
       "      <td>1</td>\n",
       "      <td>0</td>\n",
       "      <td>0</td>\n",
       "      <td>1</td>\n",
       "      <td>0</td>\n",
       "      <td>1</td>\n",
       "      <td>0</td>\n",
       "      <td>0</td>\n",
       "      <td>0</td>\n",
       "      <td>0</td>\n",
       "    </tr>\n",
       "    <tr>\n",
       "      <th>1</th>\n",
       "      <td>107.95</td>\n",
       "      <td>30.4</td>\n",
       "      <td>30</td>\n",
       "      <td>1</td>\n",
       "      <td>0</td>\n",
       "      <td>0</td>\n",
       "      <td>0</td>\n",
       "      <td>1</td>\n",
       "      <td>1</td>\n",
       "      <td>0</td>\n",
       "      <td>...</td>\n",
       "      <td>1</td>\n",
       "      <td>0</td>\n",
       "      <td>1</td>\n",
       "      <td>0</td>\n",
       "      <td>0</td>\n",
       "      <td>0</td>\n",
       "      <td>1</td>\n",
       "      <td>0</td>\n",
       "      <td>0</td>\n",
       "      <td>0</td>\n",
       "    </tr>\n",
       "    <tr>\n",
       "      <th>2</th>\n",
       "      <td>76.49</td>\n",
       "      <td>42.1</td>\n",
       "      <td>51</td>\n",
       "      <td>0</td>\n",
       "      <td>1</td>\n",
       "      <td>1</td>\n",
       "      <td>0</td>\n",
       "      <td>0</td>\n",
       "      <td>0</td>\n",
       "      <td>1</td>\n",
       "      <td>...</td>\n",
       "      <td>1</td>\n",
       "      <td>0</td>\n",
       "      <td>0</td>\n",
       "      <td>1</td>\n",
       "      <td>0</td>\n",
       "      <td>1</td>\n",
       "      <td>0</td>\n",
       "      <td>0</td>\n",
       "      <td>0</td>\n",
       "      <td>0</td>\n",
       "    </tr>\n",
       "    <tr>\n",
       "      <th>3</th>\n",
       "      <td>113.98</td>\n",
       "      <td>57.3</td>\n",
       "      <td>54</td>\n",
       "      <td>1</td>\n",
       "      <td>0</td>\n",
       "      <td>0</td>\n",
       "      <td>0</td>\n",
       "      <td>1</td>\n",
       "      <td>0</td>\n",
       "      <td>1</td>\n",
       "      <td>...</td>\n",
       "      <td>1</td>\n",
       "      <td>0</td>\n",
       "      <td>0</td>\n",
       "      <td>1</td>\n",
       "      <td>0</td>\n",
       "      <td>0</td>\n",
       "      <td>1</td>\n",
       "      <td>0</td>\n",
       "      <td>0</td>\n",
       "      <td>0</td>\n",
       "    </tr>\n",
       "    <tr>\n",
       "      <th>4</th>\n",
       "      <td>70.60</td>\n",
       "      <td>26.7</td>\n",
       "      <td>27</td>\n",
       "      <td>1</td>\n",
       "      <td>0</td>\n",
       "      <td>1</td>\n",
       "      <td>0</td>\n",
       "      <td>0</td>\n",
       "      <td>1</td>\n",
       "      <td>0</td>\n",
       "      <td>...</td>\n",
       "      <td>0</td>\n",
       "      <td>0</td>\n",
       "      <td>1</td>\n",
       "      <td>0</td>\n",
       "      <td>0</td>\n",
       "      <td>1</td>\n",
       "      <td>0</td>\n",
       "      <td>0</td>\n",
       "      <td>0</td>\n",
       "      <td>0</td>\n",
       "    </tr>\n",
       "  </tbody>\n",
       "</table>\n",
       "<p>5 rows × 32 columns</p>\n",
       "</div>"
      ],
      "text/plain": [
       "   average_blood_sugar   BMI  age_corr  high_BP_0  high_BP_1  \\\n",
       "0                71.67  36.6        61          0          1   \n",
       "1               107.95  30.4        30          1          0   \n",
       "2                76.49  42.1        51          0          1   \n",
       "3               113.98  57.3        54          1          0   \n",
       "4                70.60  26.7        27          1          0   \n",
       "\n",
       "   smoker_status_active_smoker  smoker_status_non_smoker  smoker_status_quit  \\\n",
       "0                            0                         1                   0   \n",
       "1                            0                         0                   1   \n",
       "2                            1                         0                   0   \n",
       "3                            0                         0                   1   \n",
       "4                            1                         0                   0   \n",
       "\n",
       "   married_0  married_1  ...  very_high_BMI  child  adult  senior  elderly  \\\n",
       "0          0          1  ...              1      0      0       1        0   \n",
       "1          1          0  ...              1      0      1       0        0   \n",
       "2          0          1  ...              1      0      0       1        0   \n",
       "3          0          1  ...              1      0      0       1        0   \n",
       "4          1          0  ...              0      0      1       0        0   \n",
       "\n",
       "   low_sugar  medium_sugar  high_sugar  very_high_sugar  has_smoked  \n",
       "0          1             0           0                0           0  \n",
       "1          0             1           0                0           0  \n",
       "2          1             0           0                0           0  \n",
       "3          0             1           0                0           0  \n",
       "4          1             0           0                0           0  \n",
       "\n",
       "[5 rows x 32 columns]"
      ]
     },
     "execution_count": 39,
     "metadata": {},
     "output_type": "execute_result"
    }
   ],
   "source": [
    "X.head()"
   ]
  },
  {
   "cell_type": "markdown",
   "metadata": {},
   "source": []
  },
  {
   "cell_type": "code",
   "execution_count": 33,
   "metadata": {},
   "outputs": [
    {
     "data": {
      "text/plain": [
       "0    22804\n",
       "1     4560\n",
       "Name: index, dtype: int64"
      ]
     },
     "execution_count": 33,
     "metadata": {},
     "output_type": "execute_result"
    }
   ],
   "source": [
    "stk_smote = pd.DataFrame(data=X_res, index=y_res).reset_index()\n",
    "stk_smote[\"index\"].value_counts()"
   ]
  },
  {
   "cell_type": "code",
   "execution_count": 34,
   "metadata": {},
   "outputs": [
    {
     "name": "stdout",
     "output_type": "stream",
     "text": [
      "0    22804\n",
      "1     4560\n",
      "Name: index, dtype: int64\n"
     ]
    },
    {
     "data": {
      "text/html": [
       "<div>\n",
       "<style scoped>\n",
       "    .dataframe tbody tr th:only-of-type {\n",
       "        vertical-align: middle;\n",
       "    }\n",
       "\n",
       "    .dataframe tbody tr th {\n",
       "        vertical-align: top;\n",
       "    }\n",
       "\n",
       "    .dataframe thead th {\n",
       "        text-align: right;\n",
       "    }\n",
       "</style>\n",
       "<table border=\"1\" class=\"dataframe\">\n",
       "  <thead>\n",
       "    <tr style=\"text-align: right;\">\n",
       "      <th></th>\n",
       "      <th>index</th>\n",
       "      <th>0</th>\n",
       "      <th>1</th>\n",
       "      <th>2</th>\n",
       "      <th>3</th>\n",
       "      <th>4</th>\n",
       "      <th>5</th>\n",
       "      <th>6</th>\n",
       "      <th>7</th>\n",
       "      <th>8</th>\n",
       "      <th>...</th>\n",
       "      <th>22</th>\n",
       "      <th>23</th>\n",
       "      <th>24</th>\n",
       "      <th>25</th>\n",
       "      <th>26</th>\n",
       "      <th>27</th>\n",
       "      <th>28</th>\n",
       "      <th>29</th>\n",
       "      <th>30</th>\n",
       "      <th>31</th>\n",
       "    </tr>\n",
       "  </thead>\n",
       "  <tbody>\n",
       "    <tr>\n",
       "      <th>0</th>\n",
       "      <td>0</td>\n",
       "      <td>71.67</td>\n",
       "      <td>36.6</td>\n",
       "      <td>61.0</td>\n",
       "      <td>0.0</td>\n",
       "      <td>1.0</td>\n",
       "      <td>0.0</td>\n",
       "      <td>1.0</td>\n",
       "      <td>0.0</td>\n",
       "      <td>0.0</td>\n",
       "      <td>...</td>\n",
       "      <td>1.0</td>\n",
       "      <td>0.0</td>\n",
       "      <td>0.0</td>\n",
       "      <td>1.0</td>\n",
       "      <td>0.0</td>\n",
       "      <td>1.0</td>\n",
       "      <td>0.0</td>\n",
       "      <td>0.0</td>\n",
       "      <td>0.0</td>\n",
       "      <td>0.0</td>\n",
       "    </tr>\n",
       "    <tr>\n",
       "      <th>1</th>\n",
       "      <td>0</td>\n",
       "      <td>107.95</td>\n",
       "      <td>30.4</td>\n",
       "      <td>30.0</td>\n",
       "      <td>1.0</td>\n",
       "      <td>0.0</td>\n",
       "      <td>0.0</td>\n",
       "      <td>0.0</td>\n",
       "      <td>1.0</td>\n",
       "      <td>1.0</td>\n",
       "      <td>...</td>\n",
       "      <td>1.0</td>\n",
       "      <td>0.0</td>\n",
       "      <td>1.0</td>\n",
       "      <td>0.0</td>\n",
       "      <td>0.0</td>\n",
       "      <td>0.0</td>\n",
       "      <td>1.0</td>\n",
       "      <td>0.0</td>\n",
       "      <td>0.0</td>\n",
       "      <td>0.0</td>\n",
       "    </tr>\n",
       "    <tr>\n",
       "      <th>2</th>\n",
       "      <td>0</td>\n",
       "      <td>76.49</td>\n",
       "      <td>42.1</td>\n",
       "      <td>51.0</td>\n",
       "      <td>0.0</td>\n",
       "      <td>1.0</td>\n",
       "      <td>1.0</td>\n",
       "      <td>0.0</td>\n",
       "      <td>0.0</td>\n",
       "      <td>0.0</td>\n",
       "      <td>...</td>\n",
       "      <td>1.0</td>\n",
       "      <td>0.0</td>\n",
       "      <td>0.0</td>\n",
       "      <td>1.0</td>\n",
       "      <td>0.0</td>\n",
       "      <td>1.0</td>\n",
       "      <td>0.0</td>\n",
       "      <td>0.0</td>\n",
       "      <td>0.0</td>\n",
       "      <td>0.0</td>\n",
       "    </tr>\n",
       "    <tr>\n",
       "      <th>3</th>\n",
       "      <td>0</td>\n",
       "      <td>113.98</td>\n",
       "      <td>57.3</td>\n",
       "      <td>54.0</td>\n",
       "      <td>1.0</td>\n",
       "      <td>0.0</td>\n",
       "      <td>0.0</td>\n",
       "      <td>0.0</td>\n",
       "      <td>1.0</td>\n",
       "      <td>0.0</td>\n",
       "      <td>...</td>\n",
       "      <td>1.0</td>\n",
       "      <td>0.0</td>\n",
       "      <td>0.0</td>\n",
       "      <td>1.0</td>\n",
       "      <td>0.0</td>\n",
       "      <td>0.0</td>\n",
       "      <td>1.0</td>\n",
       "      <td>0.0</td>\n",
       "      <td>0.0</td>\n",
       "      <td>0.0</td>\n",
       "    </tr>\n",
       "    <tr>\n",
       "      <th>4</th>\n",
       "      <td>0</td>\n",
       "      <td>70.60</td>\n",
       "      <td>26.7</td>\n",
       "      <td>27.0</td>\n",
       "      <td>1.0</td>\n",
       "      <td>0.0</td>\n",
       "      <td>1.0</td>\n",
       "      <td>0.0</td>\n",
       "      <td>0.0</td>\n",
       "      <td>1.0</td>\n",
       "      <td>...</td>\n",
       "      <td>0.0</td>\n",
       "      <td>0.0</td>\n",
       "      <td>1.0</td>\n",
       "      <td>0.0</td>\n",
       "      <td>0.0</td>\n",
       "      <td>1.0</td>\n",
       "      <td>0.0</td>\n",
       "      <td>0.0</td>\n",
       "      <td>0.0</td>\n",
       "      <td>0.0</td>\n",
       "    </tr>\n",
       "  </tbody>\n",
       "</table>\n",
       "<p>5 rows × 33 columns</p>\n",
       "</div>"
      ],
      "text/plain": [
       "  index       0     1     2    3    4    5    6    7    8  ...   22   23   24  \\\n",
       "0     0   71.67  36.6  61.0  0.0  1.0  0.0  1.0  0.0  0.0  ...  1.0  0.0  0.0   \n",
       "1     0  107.95  30.4  30.0  1.0  0.0  0.0  0.0  1.0  1.0  ...  1.0  0.0  1.0   \n",
       "2     0   76.49  42.1  51.0  0.0  1.0  1.0  0.0  0.0  0.0  ...  1.0  0.0  0.0   \n",
       "3     0  113.98  57.3  54.0  1.0  0.0  0.0  0.0  1.0  0.0  ...  1.0  0.0  0.0   \n",
       "4     0   70.60  26.7  27.0  1.0  0.0  1.0  0.0  0.0  1.0  ...  0.0  0.0  1.0   \n",
       "\n",
       "    25   26   27   28   29   30   31  \n",
       "0  1.0  0.0  1.0  0.0  0.0  0.0  0.0  \n",
       "1  0.0  0.0  0.0  1.0  0.0  0.0  0.0  \n",
       "2  1.0  0.0  1.0  0.0  0.0  0.0  0.0  \n",
       "3  1.0  0.0  0.0  1.0  0.0  0.0  0.0  \n",
       "4  0.0  0.0  1.0  0.0  0.0  0.0  0.0  \n",
       "\n",
       "[5 rows x 33 columns]"
      ]
     },
     "execution_count": 34,
     "metadata": {},
     "output_type": "execute_result"
    }
   ],
   "source": [
    "print(stk_smote[\"index\"].value_counts())\n",
    "col_names = list(stk_oh_only.columns)\n",
    "col_names.insert(0, \"stroke_in_2018\")\n",
    "stk_smote.head()"
   ]
  },
  {
   "cell_type": "code",
   "execution_count": 35,
   "metadata": {},
   "outputs": [
    {
     "name": "stdout",
     "output_type": "stream",
     "text": [
      "['stroke_in_2018', 'average_blood_sugar', 'BMI', 'age_corr', 'high_BP_0']\n",
      "33\n"
     ]
    }
   ],
   "source": [
    "col_names = list(X.columns)\n",
    "col_names.insert(0, \"stroke_in_2018\")\n",
    "print(col_names[:5])\n",
    "print(len(col_names))"
   ]
  },
  {
   "cell_type": "code",
   "execution_count": 36,
   "metadata": {
    "scrolled": false
   },
   "outputs": [],
   "source": [
    "stk_smote.columns = col_names\n",
    "stk_smote.to_csv(\"../data/train_processed_upsampled.csv\", index=False)"
   ]
  },
  {
   "cell_type": "code",
   "execution_count": null,
   "metadata": {},
   "outputs": [],
   "source": []
  },
  {
   "cell_type": "code",
   "execution_count": null,
   "metadata": {},
   "outputs": [],
   "source": []
  },
  {
   "cell_type": "code",
   "execution_count": null,
   "metadata": {},
   "outputs": [],
   "source": []
  },
  {
   "cell_type": "code",
   "execution_count": null,
   "metadata": {},
   "outputs": [],
   "source": []
  },
  {
   "cell_type": "markdown",
   "metadata": {},
   "source": [
    "### Sandbox Code\n",
    "\n",
    "code below was for experimentation and may break if you run it"
   ]
  },
  {
   "cell_type": "code",
   "execution_count": 37,
   "metadata": {
    "scrolled": true
   },
   "outputs": [
    {
     "ename": "SyntaxError",
     "evalue": "'break' outside loop (<ipython-input-37-6aaf1f276005>, line 4)",
     "output_type": "error",
     "traceback": [
      "\u001b[0;36m  File \u001b[0;32m\"<ipython-input-37-6aaf1f276005>\"\u001b[0;36m, line \u001b[0;32m4\u001b[0m\n\u001b[0;31mSyntaxError\u001b[0m\u001b[0;31m:\u001b[0m 'break' outside loop\n"
     ]
    }
   ],
   "source": [
    "break"
   ]
  },
  {
   "cell_type": "code",
   "execution_count": null,
   "metadata": {},
   "outputs": [],
   "source": [
    "# We drop the continuous variables average_sugar_level, BMI, age_corr\n",
    "# As well as the string columns and label \n",
    "\n",
    "pt1 = np.arange(start=0, stop=3)\n",
    "# pt2 = np.arange(start=6, stop=9)\n",
    "pt3 = np.arange(start=10, stop=39)\n",
    "print(pt1, pt3)\n",
    "\n",
    "categorical_indices = np.concatenate((pt1, pt3), axis=0)\n",
    "print(categorical_indices)\n",
    "\n",
    "stk_onehot.iloc[:, categorical_indices].columns"
   ]
  },
  {
   "cell_type": "code",
   "execution_count": null,
   "metadata": {},
   "outputs": [],
   "source": [
    "from sklearn.datasets import make_classification\n",
    "\n",
    "X, y = make_classification(n_classes=2, class_sep=2,\n",
    "weights=[0.1, 0.9], n_informative=3, n_redundant=1, flip_y=0,\n",
    "n_features=20, n_clusters_per_class=1, n_samples=1000, random_state=10)\n",
    "\n",
    "X"
   ]
  },
  {
   "cell_type": "markdown",
   "metadata": {},
   "source": [
    "### OneHotEncoder Function\n",
    "\n",
    "I had used `get_dummies` previously and wanted to try OneHotEncoder out, but it appears that "
   ]
  },
  {
   "cell_type": "code",
   "execution_count": null,
   "metadata": {},
   "outputs": [],
   "source": [
    "from sklearn.preprocessing import OneHotEncoder"
   ]
  },
  {
   "cell_type": "code",
   "execution_count": null,
   "metadata": {},
   "outputs": [],
   "source": [
    "enc = OneHotEncoder()\n",
    "enc.fit([[0, 0, 3], [1, 1, 0], [0, 2, 1], [1, 0, 2]]) "
   ]
  },
  {
   "cell_type": "code",
   "execution_count": null,
   "metadata": {},
   "outputs": [],
   "source": [
    "enc.n_values_"
   ]
  },
  {
   "cell_type": "code",
   "execution_count": null,
   "metadata": {},
   "outputs": [],
   "source": [
    "stk.columns"
   ]
  },
  {
   "cell_type": "code",
   "execution_count": null,
   "metadata": {
    "scrolled": true
   },
   "outputs": [],
   "source": [
    "stk[[\"smoker_status\", \"sex_corr\"]]"
   ]
  },
  {
   "cell_type": "code",
   "execution_count": null,
   "metadata": {},
   "outputs": [],
   "source": [
    "enc = OneHotEncoder(handle_unknown='ignore')\n",
    "\n",
    "enc.fit(stk[[\"smoker_status\", \"sex_corr\"]])"
   ]
  },
  {
   "cell_type": "code",
   "execution_count": null,
   "metadata": {},
   "outputs": [],
   "source": [
    "enc.transform(stk[[\"smoker_status\", \"sex_corr\"]]).toarray()"
   ]
  },
  {
   "cell_type": "code",
   "execution_count": null,
   "metadata": {},
   "outputs": [],
   "source": [
    "enc.get_feature_names()"
   ]
  }
 ],
 "metadata": {
  "kernelspec": {
   "display_name": "Python 3",
   "language": "python",
   "name": "python3"
  },
  "language_info": {
   "codemirror_mode": {
    "name": "ipython",
    "version": 3
   },
   "file_extension": ".py",
   "mimetype": "text/x-python",
   "name": "python",
   "nbconvert_exporter": "python",
   "pygments_lexer": "ipython3",
   "version": "3.7.3"
  }
 },
 "nbformat": 4,
 "nbformat_minor": 2
}
